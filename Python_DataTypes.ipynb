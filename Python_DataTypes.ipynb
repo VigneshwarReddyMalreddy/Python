{
 "cells": [
  {
   "cell_type": "markdown",
   "id": "25a56c9c-136a-4c59-9f29-488d9a86cb99",
   "metadata": {},
   "source": [
    "1)WHAT IS DATA TYPES?"
   ]
  },
  {
   "cell_type": "markdown",
   "id": "278f1730-3c2f-4767-ac0c-cbae8f266312",
   "metadata": {},
   "source": [
    "Data types are used to identify the type of data being used, its size and the function associated with in the data an dthe way its to stored in memory.\n",
    "\n",
    "There are two types of Data Types\n",
    "\n",
    "a.Primitive Data Types\n",
    "\n",
    "b.Non-Primitive Data Types"
   ]
  },
  {
   "cell_type": "markdown",
   "id": "8f958676-c383-449e-8b4f-08658e60b200",
   "metadata": {},
   "source": [
    "a)Primitive Data Types:-\n",
    "\n",
    "Primitive data types in python are building blocks of more complex data structures.Primitive data types are the basic data structures.There are four main primitive data types in the python.\n",
    "\n",
    "They are Integers(int),Float(float),Complex(complex) and Boolean(bool)."
   ]
  },
  {
   "cell_type": "markdown",
   "id": "a6c2e7e3-ee32-4693-9276-656c4038a117",
   "metadata": {},
   "source": [
    "b)Non-Primitive Data Types:-\n",
    "\n",
    "Non-Primitive Data Types are also known as complex or compostive data types, are data types that are derived from primitive data types.They can store multiple values or more complex structure of data.\n",
    "\n",
    "They are List,String,Tuple,Dictinory and Sets"
   ]
  },
  {
   "cell_type": "markdown",
   "id": "cb1877e7-a8e4-4854-b397-9f8ca58b4ffb",
   "metadata": {},
   "source": [
    "2)EXPLAIN ABOUT INTEGER WITH EXAMPLE"
   ]
  },
  {
   "cell_type": "markdown",
   "id": "8b8142bf-f7fd-4ef3-81be-09a6bd345e32",
   "metadata": {},
   "source": [
    "This value is repersented by int class.it contains positive or negitve whole numbers without fractions or decimals.There is no limit to how long an integer value can be an integer"
   ]
  },
  {
   "cell_type": "code",
   "execution_count": 19,
   "id": "a97801c6-3c82-4987-a08e-492b9f7903fc",
   "metadata": {},
   "outputs": [],
   "source": [
    "M_S_Dhoni = 7"
   ]
  },
  {
   "cell_type": "code",
   "execution_count": 21,
   "id": "1fe6e7a8-4fc6-43ff-8634-8491875796a5",
   "metadata": {},
   "outputs": [
    {
     "name": "stdout",
     "output_type": "stream",
     "text": [
      "7\n",
      "<class 'int'>\n"
     ]
    }
   ],
   "source": [
    "print(M_S_Dhoni)\n",
    "print(type(M_S_Dhoni))"
   ]
  },
  {
   "cell_type": "code",
   "execution_count": 23,
   "id": "6f868c2b-2641-4f87-a17d-efae6d49a0d4",
   "metadata": {},
   "outputs": [],
   "source": [
    "_rohith = 45"
   ]
  },
  {
   "cell_type": "code",
   "execution_count": 25,
   "id": "55bcd6e0-9b3d-44fb-a6c3-dd665495d6cd",
   "metadata": {},
   "outputs": [
    {
     "name": "stdout",
     "output_type": "stream",
     "text": [
      "45\n",
      "<class 'int'>\n"
     ]
    }
   ],
   "source": [
    "print(_rohith)\n",
    "print(type(_rohith))"
   ]
  },
  {
   "cell_type": "code",
   "execution_count": 27,
   "id": "17c5a7af-7b24-4390-9876-09a47d99d335",
   "metadata": {},
   "outputs": [],
   "source": [
    "_virat_kohil = 18"
   ]
  },
  {
   "cell_type": "code",
   "execution_count": 29,
   "id": "e0fa9cef-56af-44a8-831d-6f765ee046d3",
   "metadata": {},
   "outputs": [
    {
     "name": "stdout",
     "output_type": "stream",
     "text": [
      "18\n",
      "<class 'int'>\n"
     ]
    }
   ],
   "source": [
    "print(_virat_kohil)\n",
    "print(type(_virat_kohil))"
   ]
  },
  {
   "cell_type": "markdown",
   "id": "9d94cf81-7f18-48a8-aa3c-981cb2bf2f1f",
   "metadata": {},
   "source": [
    "3)EXPLAIN ABOUT FLOAT WITH EXAMPLE"
   ]
  },
  {
   "cell_type": "markdown",
   "id": "4ec46860-ea5e-4207-8ae5-fa8f76d45ead",
   "metadata": {},
   "source": [
    "This value is represented by the float class. It is a real number with a floating poiint reprentation.It is specified by a point.The float values are followed by postive and negitive are accepted in the float."
   ]
  },
  {
   "cell_type": "code",
   "execution_count": 35,
   "id": "0bea2243-f33b-4d36-9e3d-2cc2c16aba40",
   "metadata": {},
   "outputs": [],
   "source": [
    "python__ = 15.0006"
   ]
  },
  {
   "cell_type": "code",
   "execution_count": 37,
   "id": "fafbb108-50fe-4ddf-bafb-1acc3b12423c",
   "metadata": {},
   "outputs": [
    {
     "name": "stdout",
     "output_type": "stream",
     "text": [
      "15.0006\n",
      "<class 'float'>\n"
     ]
    }
   ],
   "source": [
    "print(python__)\n",
    "print(type(python__))"
   ]
  },
  {
   "cell_type": "code",
   "execution_count": 39,
   "id": "dae6b0cc-25e4-4dea-a95e-cdfcb37fc5f5",
   "metadata": {},
   "outputs": [],
   "source": [
    "j_a_v_a = 16.0505"
   ]
  },
  {
   "cell_type": "code",
   "execution_count": 41,
   "id": "1345aeaa-c25e-4a85-bda6-504dd67ffe10",
   "metadata": {},
   "outputs": [
    {
     "name": "stdout",
     "output_type": "stream",
     "text": [
      "16.0505\n",
      "<class 'float'>\n"
     ]
    }
   ],
   "source": [
    "print(j_a_v_a)\n",
    "print(type(j_a_v_a))"
   ]
  },
  {
   "cell_type": "code",
   "execution_count": 43,
   "id": "be742162-0394-4a2e-b0eb-482b6b0501d4",
   "metadata": {},
   "outputs": [],
   "source": [
    "Mongo_DB = 120.444"
   ]
  },
  {
   "cell_type": "code",
   "execution_count": 45,
   "id": "1ae027ad-5d3b-4054-a106-fc598a01a463",
   "metadata": {},
   "outputs": [
    {
     "name": "stdout",
     "output_type": "stream",
     "text": [
      "120.444\n",
      "<class 'float'>\n"
     ]
    }
   ],
   "source": [
    "print(Mongo_DB)\n",
    "print(type(Mongo_DB))"
   ]
  },
  {
   "cell_type": "markdown",
   "id": "334cd245-bbfd-46f0-b487-7cf66f3c379f",
   "metadata": {},
   "source": [
    "4)EXPLAIN ABOUT COMPLEX WITH EXAMPLE"
   ]
  },
  {
   "cell_type": "markdown",
   "id": "2c52eb65-1e69-499d-a1f5-78d9d561e681",
   "metadata": {},
   "source": [
    "A Complex number is combination of real numbers + imaganinary number(j).If the string passed to this method is not a valid complex number, ValueError exception is rasied"
   ]
  },
  {
   "cell_type": "code",
   "execution_count": 49,
   "id": "42a6fd99-834d-40a6-9741-588bedcbd3a6",
   "metadata": {},
   "outputs": [],
   "source": [
    "_Windows = 20+1j"
   ]
  },
  {
   "cell_type": "code",
   "execution_count": 51,
   "id": "e1922c33-48d5-47d3-a5c7-71fa997a2100",
   "metadata": {},
   "outputs": [
    {
     "name": "stdout",
     "output_type": "stream",
     "text": [
      "(20+1j)\n",
      "<class 'complex'>\n"
     ]
    }
   ],
   "source": [
    "print(_Windows)\n",
    "print(type(_Windows))"
   ]
  },
  {
   "cell_type": "code",
   "execution_count": 53,
   "id": "219b082d-a79b-4015-a2bd-79bb60697e37",
   "metadata": {},
   "outputs": [],
   "source": [
    "Mac_book = 12+5j"
   ]
  },
  {
   "cell_type": "code",
   "execution_count": 55,
   "id": "9f337961-5d0d-496d-8566-6aac2ed2a5b1",
   "metadata": {},
   "outputs": [
    {
     "name": "stdout",
     "output_type": "stream",
     "text": [
      "(12+5j)\n",
      "<class 'complex'>\n"
     ]
    }
   ],
   "source": [
    "print(Mac_book)\n",
    "print(type(Mac_book))"
   ]
  },
  {
   "cell_type": "code",
   "execution_count": 57,
   "id": "677b176e-e1f8-440b-9f0d-d39d9f1147ae",
   "metadata": {},
   "outputs": [],
   "source": [
    "_l_i_n_u_x = 5+1j"
   ]
  },
  {
   "cell_type": "code",
   "execution_count": 59,
   "id": "5f399c92-f696-450d-87e9-4061c94bafd6",
   "metadata": {},
   "outputs": [
    {
     "name": "stdout",
     "output_type": "stream",
     "text": [
      "(5+1j)\n",
      "<class 'complex'>\n"
     ]
    }
   ],
   "source": [
    "print(_l_i_n_u_x)\n",
    "print(type(_l_i_n_u_x))"
   ]
  },
  {
   "cell_type": "markdown",
   "id": "33cae849-5194-4928-b738-61e31185944d",
   "metadata": {},
   "source": [
    "5) EXPLAIN BOOLEAN WITH 10 EXAMPLES"
   ]
  },
  {
   "cell_type": "markdown",
   "id": "cedd3cec-8aa8-4790-9afc-93cbd9e4635d",
   "metadata": {},
   "source": [
    "- A Data type that can have only two values either True or False\n",
    "- The Boolean can be represented as \"bool\"\n",
    "- Examples:\n",
    "- 11>7\n",
    "- 12<4\n",
    "- 34>123\n",
    "- 9>1\n",
    "- 1<0\n",
    "- 123<345\n",
    "- 453>34\n",
    "- 99>36\n",
    "- 12<6"
   ]
  },
  {
   "cell_type": "code",
   "execution_count": 3,
   "id": "51c49c7d-8c9a-433b-b8e1-f7ff6ab1e57f",
   "metadata": {},
   "outputs": [
    {
     "name": "stdout",
     "output_type": "stream",
     "text": [
      "False\n"
     ]
    }
   ],
   "source": [
    "print(12<6)\n"
   ]
  },
  {
   "cell_type": "code",
   "execution_count": 5,
   "id": "591d160b-30c9-42c5-ad17-9d8e4300a5b4",
   "metadata": {},
   "outputs": [
    {
     "name": "stdout",
     "output_type": "stream",
     "text": [
      "True\n"
     ]
    }
   ],
   "source": [
    "print(123<345)"
   ]
  },
  {
   "cell_type": "markdown",
   "id": "c4076761-4e4f-4421-95ba-9a297214bd2b",
   "metadata": {},
   "source": [
    "6. \"bool\" Function with 10 examples"
   ]
  },
  {
   "cell_type": "code",
   "execution_count": 9,
   "id": "5a801868-b31d-4663-9dd5-42f12cb532ea",
   "metadata": {},
   "outputs": [
    {
     "data": {
      "text/plain": [
       "True"
      ]
     },
     "execution_count": 9,
     "metadata": {},
     "output_type": "execute_result"
    }
   ],
   "source": [
    "bool(3)"
   ]
  },
  {
   "cell_type": "code",
   "execution_count": 11,
   "id": "a4377f39-0d5c-4af0-b0f8-e060529f30a6",
   "metadata": {},
   "outputs": [
    {
     "data": {
      "text/plain": [
       "False"
      ]
     },
     "execution_count": 11,
     "metadata": {},
     "output_type": "execute_result"
    }
   ],
   "source": [
    "bool(0)"
   ]
  },
  {
   "cell_type": "code",
   "execution_count": 13,
   "id": "1f1f09cf-2dac-47e5-9f02-823ceb19e572",
   "metadata": {},
   "outputs": [
    {
     "data": {
      "text/plain": [
       "True"
      ]
     },
     "execution_count": 13,
     "metadata": {},
     "output_type": "execute_result"
    }
   ],
   "source": [
    "bool(5+4j)"
   ]
  },
  {
   "cell_type": "code",
   "execution_count": 15,
   "id": "e10a262e-e7e4-41e7-93c4-d1e82ed144a0",
   "metadata": {},
   "outputs": [
    {
     "name": "stdout",
     "output_type": "stream",
     "text": [
      "True\n"
     ]
    }
   ],
   "source": [
    "print(6>0)"
   ]
  },
  {
   "cell_type": "code",
   "execution_count": 17,
   "id": "7c4798c5-a38e-484a-a310-c007de28e166",
   "metadata": {},
   "outputs": [
    {
     "name": "stdout",
     "output_type": "stream",
     "text": [
      "False\n"
     ]
    }
   ],
   "source": [
    "print(1==2)"
   ]
  },
  {
   "cell_type": "code",
   "execution_count": 19,
   "id": "85376aa9-6f42-4acb-b62e-e09ab806853b",
   "metadata": {},
   "outputs": [
    {
     "name": "stdout",
     "output_type": "stream",
     "text": [
      "True\n"
     ]
    }
   ],
   "source": [
    "print(bool(256+55j))"
   ]
  },
  {
   "cell_type": "code",
   "execution_count": 21,
   "id": "b1c3bd13-57b2-40cb-87e4-02fccb017952",
   "metadata": {},
   "outputs": [
    {
     "name": "stdout",
     "output_type": "stream",
     "text": [
      "False\n"
     ]
    }
   ],
   "source": [
    "print(bool(0+0j))"
   ]
  },
  {
   "cell_type": "code",
   "execution_count": 23,
   "id": "22c195e8-e9cd-463a-a194-ba9eff608eea",
   "metadata": {},
   "outputs": [
    {
     "name": "stdout",
     "output_type": "stream",
     "text": [
      "False\n"
     ]
    }
   ],
   "source": [
    "print(345<124)"
   ]
  },
  {
   "cell_type": "code",
   "execution_count": 25,
   "id": "aaf9d003-15b0-4ba8-8f26-63a031cbe01c",
   "metadata": {},
   "outputs": [
    {
     "name": "stdout",
     "output_type": "stream",
     "text": [
      "True\n"
     ]
    }
   ],
   "source": [
    "print(34<56)"
   ]
  },
  {
   "cell_type": "code",
   "execution_count": 27,
   "id": "b4fd2850-b527-439b-bc98-7167ccd5455f",
   "metadata": {},
   "outputs": [
    {
     "name": "stdout",
     "output_type": "stream",
     "text": [
      "True\n"
     ]
    }
   ],
   "source": [
    "print(1!=2)"
   ]
  },
  {
   "cell_type": "markdown",
   "id": "ef6e8e1c-eac0-46ef-9250-810b8b361e53",
   "metadata": {},
   "source": [
    "7. Type Conversions"
   ]
  },
  {
   "cell_type": "markdown",
   "id": "282ef2a9-3b23-48ec-948d-280ee7804081",
   "metadata": {},
   "source": [
    "- Type Conversion is the process of changing the data type of a value from one type to another.\n",
    "- In the Type Conversion th eint and float can be converted into complex but complex is not converted into int or float function."
   ]
  },
  {
   "cell_type": "markdown",
   "id": "2347c20b-e6c9-4ade-b336-7f585eb72ba8",
   "metadata": {},
   "source": [
    "8. Each type of 5 example"
   ]
  },
  {
   "cell_type": "code",
   "execution_count": 65,
   "id": "32f31386-a563-4782-9eb8-4e538b81a89e",
   "metadata": {},
   "outputs": [
    {
     "name": "stdout",
     "output_type": "stream",
     "text": [
      "6\n"
     ]
    }
   ],
   "source": [
    "#int functions\n",
    "j=6.89\n",
    "l=int(j)\n",
    "print(l)"
   ]
  },
  {
   "cell_type": "code",
   "execution_count": 67,
   "id": "e7e07bb4-9aea-479c-84c9-aa250bb380fa",
   "metadata": {},
   "outputs": [
    {
     "name": "stdout",
     "output_type": "stream",
     "text": [
      "98\n"
     ]
    }
   ],
   "source": [
    "a=98.00\n",
    "b=int(a)\n",
    "print(b)"
   ]
  },
  {
   "cell_type": "code",
   "execution_count": 69,
   "id": "8dc1b31b-fd28-4e65-93d5-1fe4d902df28",
   "metadata": {},
   "outputs": [
    {
     "name": "stdout",
     "output_type": "stream",
     "text": [
      "234\n"
     ]
    }
   ],
   "source": [
    "r=234.56\n",
    "print(int(r))"
   ]
  },
  {
   "cell_type": "code",
   "execution_count": 71,
   "id": "9ac84c62-bef0-465a-8cd1-b6cedb1fd861",
   "metadata": {},
   "outputs": [
    {
     "name": "stdout",
     "output_type": "stream",
     "text": [
      "988\n"
     ]
    }
   ],
   "source": [
    "k=988.6\n",
    "print(int(k))"
   ]
  },
  {
   "cell_type": "code",
   "execution_count": 73,
   "id": "5a127b63-9c69-4a27-ad9f-0a94a7e5b004",
   "metadata": {},
   "outputs": [
    {
     "name": "stdout",
     "output_type": "stream",
     "text": [
      "44.0\n"
     ]
    }
   ],
   "source": [
    "#float function\n",
    "o=44\n",
    "print(float(o))"
   ]
  },
  {
   "cell_type": "code",
   "execution_count": 75,
   "id": "ce77e4f2-454e-462f-b69f-dea861854c6f",
   "metadata": {},
   "outputs": [
    {
     "name": "stdout",
     "output_type": "stream",
     "text": [
      "567.0\n"
     ]
    }
   ],
   "source": [
    "k=567\n",
    "print(float(k))"
   ]
  },
  {
   "cell_type": "code",
   "execution_count": 77,
   "id": "198ada23-f8db-4ea1-b01b-59a5328a8bc2",
   "metadata": {},
   "outputs": [
    {
     "name": "stdout",
     "output_type": "stream",
     "text": [
      "33.0\n"
     ]
    }
   ],
   "source": [
    "u=33.0\n",
    "print(float(u))"
   ]
  },
  {
   "cell_type": "code",
   "execution_count": 79,
   "id": "94da5a1b-6aaf-4b61-ac47-bd99a4daf8d1",
   "metadata": {},
   "outputs": [
    {
     "name": "stdout",
     "output_type": "stream",
     "text": [
      "55.0\n"
     ]
    }
   ],
   "source": [
    "x=55\n",
    "print(float(x))"
   ]
  },
  {
   "cell_type": "code",
   "execution_count": 81,
   "id": "4ae70468-14f8-4251-a99d-a2e987ef8418",
   "metadata": {},
   "outputs": [
    {
     "name": "stdout",
     "output_type": "stream",
     "text": [
      "33.3\n"
     ]
    }
   ],
   "source": [
    "y=33.3\n",
    "print(float(y))"
   ]
  },
  {
   "cell_type": "code",
   "execution_count": 83,
   "id": "0a7d9205-d0bf-42b1-8212-62cd3bb63b30",
   "metadata": {},
   "outputs": [
    {
     "name": "stdout",
     "output_type": "stream",
     "text": [
      "(6.89+0j)\n"
     ]
    }
   ],
   "source": [
    "#Complex function\n",
    "j=6.89\n",
    "l=complex(j)\n",
    "print(l)"
   ]
  },
  {
   "cell_type": "code",
   "execution_count": 85,
   "id": "2380bb66-662e-4e7a-811d-c39715253679",
   "metadata": {},
   "outputs": [
    {
     "name": "stdout",
     "output_type": "stream",
     "text": [
      "(12+9j)\n"
     ]
    }
   ],
   "source": [
    "j=12\n",
    "h=9\n",
    "k=complex(j,h)\n",
    "print(k)"
   ]
  },
  {
   "cell_type": "code",
   "execution_count": 87,
   "id": "87f52a6e-da7c-4c4a-b1ac-7b97b7c7200c",
   "metadata": {},
   "outputs": [
    {
     "name": "stdout",
     "output_type": "stream",
     "text": [
      "0j\n"
     ]
    }
   ],
   "source": [
    "a=0\n",
    "b=0\n",
    "c=complex(a,b)\n",
    "print(c)"
   ]
  },
  {
   "cell_type": "code",
   "execution_count": 89,
   "id": "f6e1d751-3037-4c80-9a37-64ac8cae84f5",
   "metadata": {},
   "outputs": [
    {
     "name": "stdout",
     "output_type": "stream",
     "text": [
      "(456.9+0j)\n"
     ]
    }
   ],
   "source": [
    "k=456.9\n",
    "print(complex(k))"
   ]
  },
  {
   "cell_type": "code",
   "execution_count": 91,
   "id": "9a7b308a-e5ea-4c7c-b317-0b0852c1476a",
   "metadata": {},
   "outputs": [
    {
     "name": "stdout",
     "output_type": "stream",
     "text": [
      "(44.8+0j)\n"
     ]
    }
   ],
   "source": [
    "o=44.8\n",
    "print(complex(o))"
   ]
  },
  {
   "cell_type": "code",
   "execution_count": null,
   "id": "16a42fa1-99c7-4e34-8857-552eb0d70d82",
   "metadata": {},
   "outputs": [],
   "source": []
  }
 ],
 "metadata": {
  "kernelspec": {
   "display_name": "Python 3 (ipykernel)",
   "language": "python",
   "name": "python3"
  },
  "language_info": {
   "codemirror_mode": {
    "name": "ipython",
    "version": 3
   },
   "file_extension": ".py",
   "mimetype": "text/x-python",
   "name": "python",
   "nbconvert_exporter": "python",
   "pygments_lexer": "ipython3",
   "version": "3.12.4"
  }
 },
 "nbformat": 4,
 "nbformat_minor": 5
}
