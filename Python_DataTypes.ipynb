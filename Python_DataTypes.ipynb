{
 "cells": [
  {
   "cell_type": "markdown",
   "id": "25a56c9c-136a-4c59-9f29-488d9a86cb99",
   "metadata": {},
   "source": [
    "1)WHAT IS DATA TYPES?"
   ]
  },
  {
   "cell_type": "markdown",
   "id": "278f1730-3c2f-4767-ac0c-cbae8f266312",
   "metadata": {},
   "source": [
    "Data types are used to identify the type of data being used, its size and the function associated with in the data an dthe way its to stored in memory.\n",
    "\n",
    "There are two types of Data Types\n",
    "\n",
    "a.Primitive Data Types\n",
    "\n",
    "b.Non-Primitive Data Types"
   ]
  },
  {
   "cell_type": "markdown",
   "id": "8f958676-c383-449e-8b4f-08658e60b200",
   "metadata": {},
   "source": [
    "a)Primitive Data Types:-\n",
    "\n",
    "Primitive data types in python are building blocks of more complex data structures.Primitive data types are the basic data structures.There are four main primitive data types in the python.\n",
    "\n",
    "They are Integers(int),Float(float),Complex(complex) and Boolean(bool)."
   ]
  },
  {
   "cell_type": "markdown",
   "id": "a6c2e7e3-ee32-4693-9276-656c4038a117",
   "metadata": {},
   "source": [
    "b)Non-Primitive Data Types:-\n",
    "\n",
    "Non-Primitive Data Types are also known as complex or compostive data types, are data types that are derived from primitive data types.They can store multiple values or more complex structure of data.\n",
    "\n",
    "They are List,String,Tuple,Dictinory and Sets"
   ]
  },
  {
   "cell_type": "markdown",
   "id": "cb1877e7-a8e4-4854-b397-9f8ca58b4ffb",
   "metadata": {},
   "source": [
    "2)EXPLAIN ABOUT INTEGER WITH EXAMPLE"
   ]
  },
  {
   "cell_type": "markdown",
   "id": "8b8142bf-f7fd-4ef3-81be-09a6bd345e32",
   "metadata": {},
   "source": [
    "This value is repersented by int class.it contains positive or negitve whole numbers without fractions or decimals.There is no limit to how long an integer value can be an integer"
   ]
  },
  {
   "cell_type": "code",
   "execution_count": 19,
   "id": "a97801c6-3c82-4987-a08e-492b9f7903fc",
   "metadata": {},
   "outputs": [],
   "source": [
    "M_S_Dhoni = 7"
   ]
  },
  {
   "cell_type": "code",
   "execution_count": 21,
   "id": "1fe6e7a8-4fc6-43ff-8634-8491875796a5",
   "metadata": {},
   "outputs": [
    {
     "name": "stdout",
     "output_type": "stream",
     "text": [
      "7\n",
      "<class 'int'>\n"
     ]
    }
   ],
   "source": [
    "print(M_S_Dhoni)\n",
    "print(type(M_S_Dhoni))"
   ]
  },
  {
   "cell_type": "code",
   "execution_count": 23,
   "id": "6f868c2b-2641-4f87-a17d-efae6d49a0d4",
   "metadata": {},
   "outputs": [],
   "source": [
    "_rohith = 45"
   ]
  },
  {
   "cell_type": "code",
   "execution_count": 25,
   "id": "55bcd6e0-9b3d-44fb-a6c3-dd665495d6cd",
   "metadata": {},
   "outputs": [
    {
     "name": "stdout",
     "output_type": "stream",
     "text": [
      "45\n",
      "<class 'int'>\n"
     ]
    }
   ],
   "source": [
    "print(_rohith)\n",
    "print(type(_rohith))"
   ]
  },
  {
   "cell_type": "code",
   "execution_count": 27,
   "id": "17c5a7af-7b24-4390-9876-09a47d99d335",
   "metadata": {},
   "outputs": [],
   "source": [
    "_virat_kohil = 18"
   ]
  },
  {
   "cell_type": "code",
   "execution_count": 29,
   "id": "e0fa9cef-56af-44a8-831d-6f765ee046d3",
   "metadata": {},
   "outputs": [
    {
     "name": "stdout",
     "output_type": "stream",
     "text": [
      "18\n",
      "<class 'int'>\n"
     ]
    }
   ],
   "source": [
    "print(_virat_kohil)\n",
    "print(type(_virat_kohil))"
   ]
  },
  {
   "cell_type": "markdown",
   "id": "9d94cf81-7f18-48a8-aa3c-981cb2bf2f1f",
   "metadata": {},
   "source": [
    "3)EXPLAIN ABOUT FLOAT WITH EXAMPLE"
   ]
  },
  {
   "cell_type": "markdown",
   "id": "4ec46860-ea5e-4207-8ae5-fa8f76d45ead",
   "metadata": {},
   "source": [
    "This value is represented by the float class. It is a real number with a floating poiint reprentation.It is specified by a point.The float values are followed by postive and negitive are accepted in the float."
   ]
  },
  {
   "cell_type": "code",
   "execution_count": 35,
   "id": "0bea2243-f33b-4d36-9e3d-2cc2c16aba40",
   "metadata": {},
   "outputs": [],
   "source": [
    "python__ = 15.0006"
   ]
  },
  {
   "cell_type": "code",
   "execution_count": 37,
   "id": "fafbb108-50fe-4ddf-bafb-1acc3b12423c",
   "metadata": {},
   "outputs": [
    {
     "name": "stdout",
     "output_type": "stream",
     "text": [
      "15.0006\n",
      "<class 'float'>\n"
     ]
    }
   ],
   "source": [
    "print(python__)\n",
    "print(type(python__))"
   ]
  },
  {
   "cell_type": "code",
   "execution_count": 39,
   "id": "dae6b0cc-25e4-4dea-a95e-cdfcb37fc5f5",
   "metadata": {},
   "outputs": [],
   "source": [
    "j_a_v_a = 16.0505"
   ]
  },
  {
   "cell_type": "code",
   "execution_count": 41,
   "id": "1345aeaa-c25e-4a85-bda6-504dd67ffe10",
   "metadata": {},
   "outputs": [
    {
     "name": "stdout",
     "output_type": "stream",
     "text": [
      "16.0505\n",
      "<class 'float'>\n"
     ]
    }
   ],
   "source": [
    "print(j_a_v_a)\n",
    "print(type(j_a_v_a))"
   ]
  },
  {
   "cell_type": "code",
   "execution_count": 43,
   "id": "be742162-0394-4a2e-b0eb-482b6b0501d4",
   "metadata": {},
   "outputs": [],
   "source": [
    "Mongo_DB = 120.444"
   ]
  },
  {
   "cell_type": "code",
   "execution_count": 45,
   "id": "1ae027ad-5d3b-4054-a106-fc598a01a463",
   "metadata": {},
   "outputs": [
    {
     "name": "stdout",
     "output_type": "stream",
     "text": [
      "120.444\n",
      "<class 'float'>\n"
     ]
    }
   ],
   "source": [
    "print(Mongo_DB)\n",
    "print(type(Mongo_DB))"
   ]
  },
  {
   "cell_type": "markdown",
   "id": "334cd245-bbfd-46f0-b487-7cf66f3c379f",
   "metadata": {},
   "source": [
    "4)EXPLAIN ABOUT COMPLEX WITH EXAMPLE"
   ]
  },
  {
   "cell_type": "markdown",
   "id": "2c52eb65-1e69-499d-a1f5-78d9d561e681",
   "metadata": {},
   "source": [
    "A Complex number is combination of real numbers + imaganinary number(j).If the string passed to this method is not a valid complex number, ValueError exception is rasied"
   ]
  },
  {
   "cell_type": "code",
   "execution_count": 49,
   "id": "42a6fd99-834d-40a6-9741-588bedcbd3a6",
   "metadata": {},
   "outputs": [],
   "source": [
    "_Windows = 20+1j"
   ]
  },
  {
   "cell_type": "code",
   "execution_count": 51,
   "id": "e1922c33-48d5-47d3-a5c7-71fa997a2100",
   "metadata": {},
   "outputs": [
    {
     "name": "stdout",
     "output_type": "stream",
     "text": [
      "(20+1j)\n",
      "<class 'complex'>\n"
     ]
    }
   ],
   "source": [
    "print(_Windows)\n",
    "print(type(_Windows))"
   ]
  },
  {
   "cell_type": "code",
   "execution_count": 53,
   "id": "219b082d-a79b-4015-a2bd-79bb60697e37",
   "metadata": {},
   "outputs": [],
   "source": [
    "Mac_book = 12+5j"
   ]
  },
  {
   "cell_type": "code",
   "execution_count": 55,
   "id": "9f337961-5d0d-496d-8566-6aac2ed2a5b1",
   "metadata": {},
   "outputs": [
    {
     "name": "stdout",
     "output_type": "stream",
     "text": [
      "(12+5j)\n",
      "<class 'complex'>\n"
     ]
    }
   ],
   "source": [
    "print(Mac_book)\n",
    "print(type(Mac_book))"
   ]
  },
  {
   "cell_type": "code",
   "execution_count": 57,
   "id": "677b176e-e1f8-440b-9f0d-d39d9f1147ae",
   "metadata": {},
   "outputs": [],
   "source": [
    "_l_i_n_u_x = 5+1j"
   ]
  },
  {
   "cell_type": "code",
   "execution_count": 59,
   "id": "5f399c92-f696-450d-87e9-4061c94bafd6",
   "metadata": {},
   "outputs": [
    {
     "name": "stdout",
     "output_type": "stream",
     "text": [
      "(5+1j)\n",
      "<class 'complex'>\n"
     ]
    }
   ],
   "source": [
    "print(_l_i_n_u_x)\n",
    "print(type(_l_i_n_u_x))"
   ]
  },
  {
   "cell_type": "code",
   "execution_count": null,
   "id": "5112d025-1ab4-422a-a20c-bf2d8870ee13",
   "metadata": {},
   "outputs": [],
   "source": []
  }
 ],
 "metadata": {
  "kernelspec": {
   "display_name": "Python 3 (ipykernel)",
   "language": "python",
   "name": "python3"
  },
  "language_info": {
   "codemirror_mode": {
    "name": "ipython",
    "version": 3
   },
   "file_extension": ".py",
   "mimetype": "text/x-python",
   "name": "python",
   "nbconvert_exporter": "python",
   "pygments_lexer": "ipython3",
   "version": "3.12.4"
  }
 },
 "nbformat": 4,
 "nbformat_minor": 5
}
