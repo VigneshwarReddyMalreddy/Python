{
 "cells": [
  {
   "cell_type": "markdown",
   "id": "fe689013-278f-4edd-9f50-28615d425dfc",
   "metadata": {},
   "source": [
    "1) WHAT IS PYTHON?"
   ]
  },
  {
   "cell_type": "markdown",
   "id": "06a292a8-878f-4937-951e-a82ab04ef397",
   "metadata": {},
   "source": [
    "** Python is a high-level,interpreted programming language known for its readability and       simplicity,making it an excellent choice for beginner and experienced programmers.\n",
    "\n",
    "** Python is a versatile language that supports multiple programming paradigms,including procedural,object-oriented and functional programming, allowing developers to choose the best approch for their projects.\n",
    "\n",
    "** Python is an open source language, Python allows anyone to access and modify its source code, building a large community that contributes a wealth of libraries and tools."
   ]
  },
  {
   "cell_type": "markdown",
   "id": "ed3ed204-c8ac-4099-8f6e-43b386e873c9",
   "metadata": {},
   "source": [
    "2) HISTORY OF PYTHON"
   ]
  },
  {
   "cell_type": "markdown",
   "id": "b26bed16-6f8d-4506-85d1-45205afb5874",
   "metadata": {},
   "source": [
    "Python was invented in the late 1980s by Guido van Rossum at Centrum Wiskunde & Informatic (CWI) in the Netherland as a successor to the ABC programming language, which was in SETL, capable of exception handing and in terfacing with the Amoeba operating system.Its implementation began in december 1989."
   ]
  },
  {
   "cell_type": "markdown",
   "id": "18377316-2768-49fe-a3de-6bf3758c34d0",
   "metadata": {},
   "source": [
    "PYTHON VERSIONS \n",
    "\n",
    "1. Python 1.0 - Released in January 1994\n",
    "    -Initial release with core features.\n",
    "2. Python 1.5 - Released in December 1997\n",
    "   -Introduced important features like the 'lambda' keyword.\n",
    "3. Python 2.0 - Released in October 2000\n",
    "   -Added list comprehensions and garbage collection.\n",
    "4. Python 2.1 - Released in April 2001\n",
    "    -Introduced nested scopes and new syntax features.\n",
    "5. Python 2.7 - Released in July 2010\n",
    "    -Final release of the 2.x series, introducing features from 3.x\n",
    "6. Python 3.0 - Released in December 2001\n",
    "    -Major update that not backward-compatible\n",
    "    -Introduced print function and better   unicode support.\n",
    "7. Python 3.1 - Released in June 2009\n",
    "    -Improved I/O performance and added features for better usability.\n",
    "8. Python 3.6 - Released in December 2016\n",
    "    -Introduced formatted string literals (f-strings) and asynchronous generators.\n",
    "9. Python 3.7 - Released in June 2018\n",
    "    -Added data classes and bulit-in breakpoint functionality.\n",
    "10. Python 3.10 - Released in October 2021\n",
    "    -Introduced structural pattern matching and precise type hints."
   ]
  },
  {
   "cell_type": "markdown",
   "id": "f7298486-06df-43d9-9cf3-4f34a2c3957f",
   "metadata": {},
   "source": [
    "3) WHY WE NEED TO USE PYTHON?"
   ]
  },
  {
   "cell_type": "markdown",
   "id": "990aed6b-4eef-4979-8eef-0a03eba5c9b7",
   "metadata": {},
   "source": [
    "Python is commonly used for developing websites and software,task automation, data analysis and data visualisation. Since it's relatively easy to learn,Python has been adopted by many non-programmers,such as accouuntants and scientist for a variety of everyday tasks,like organsing finances."
   ]
  },
  {
   "cell_type": "markdown",
   "id": "6bf826ab-0ed5-446c-856e-a2780942782f",
   "metadata": {},
   "source": [
    "4) APPLICATIONS OF PYTHON"
   ]
  },
  {
   "cell_type": "markdown",
   "id": "e28917b1-2ca9-4790-8eed-a790361e04b4",
   "metadata": {},
   "source": [
    "1. Web Development:\n",
    "    Frameworks like Django and Flask enable the rapid development of secure and scable web applications.\n",
    "2. Data Science and Machine Learning:\n",
    "   Libraries sucj as Pandas,NumPy and scikit-learn are essential for datat analysis, manipilation and creating predictive models.\n",
    "3. Automation and Scripting:\n",
    "   Python is widely used for automating repetitive tasks,such as data entry and web scraping,using tools like Selenium and Beautiful Soup."
   ]
  },
  {
   "cell_type": "markdown",
   "id": "903d8eb6-ced6-48c6-b527-100d0b6bd81d",
   "metadata": {},
   "source": [
    "5) PYTHON KEYWORDS"
   ]
  },
  {
   "cell_type": "markdown",
   "id": "254fcc3d-4e7d-450e-935a-5447b47ef141",
   "metadata": {},
   "source": [
    "Python Keywords are reserved words that have special meaning in the language. These keywords cannot be used as identifiers(names for variables,functions,etc).There are totally 35 keywords."
   ]
  },
  {
   "cell_type": "code",
   "execution_count": 65,
   "id": "0c758047-bc8a-4bac-819f-d1209a785162",
   "metadata": {},
   "outputs": [
    {
     "name": "stdout",
     "output_type": "stream",
     "text": [
      "['False', 'None', 'True', 'and', 'as', 'assert', 'async', 'await', 'break', 'class', 'continue', 'def', 'del', 'elif', 'else', 'except', 'finally', 'for', 'from', 'global', 'if', 'import', 'in', 'is', 'lambda', 'nonlocal', 'not', 'or', 'pass', 'raise', 'return', 'try', 'while', 'with', 'yield']\n"
     ]
    }
   ],
   "source": [
    "import keyword\n",
    "\n",
    "#Get the list of Python Keywords\n",
    "python_keywords = keyword.kwlist\n",
    "\n",
    "# Display the list of Keywords\n",
    "print(python_keywords)"
   ]
  },
  {
   "cell_type": "code",
   "execution_count": 43,
   "id": "49aad8f1-552c-4f26-9657-af40a3be96c2",
   "metadata": {},
   "outputs": [
    {
     "data": {
      "text/plain": [
       "35"
      ]
     },
     "execution_count": 43,
     "metadata": {},
     "output_type": "execute_result"
    }
   ],
   "source": [
    "len(python_keywords)\n",
    "#length of keywords"
   ]
  },
  {
   "cell_type": "markdown",
   "id": "d63388ba-ddf2-420b-b975-8cee8b6d54d9",
   "metadata": {},
   "source": [
    "6) PYTHON COMMENTS"
   ]
  },
  {
   "cell_type": "markdown",
   "id": "eec9d2b2-e4e1-4d96-99cc-ad0e087ca069",
   "metadata": {},
   "source": [
    "Comments in Python are identified with a hash symbol,\"#\" and extend to the end of the line. Hash characters in a string are not considered comments. However, There are three ways to write a comment asa separate line,beside the corresponding statement of code as a multi-line comment block."
   ]
  },
  {
   "cell_type": "code",
   "execution_count": 49,
   "id": "bcf4d367-e8b6-4674-ba66-8ba321200fc7",
   "metadata": {},
   "outputs": [],
   "source": [
    "#Example for Comments\n",
    "#Welcome to Python Programming Language"
   ]
  },
  {
   "cell_type": "markdown",
   "id": "017528ad-12d6-4ac2-9b0c-56ce0143da0c",
   "metadata": {},
   "source": [
    "7) PYTHON VARIABLES"
   ]
  },
  {
   "cell_type": "markdown",
   "id": "18084b9c-b4eb-4b49-ba19-b85f16c324d3",
   "metadata": {},
   "source": [
    "A variable in Python is the name of a memory location that we use for storing data.\n"
   ]
  },
  {
   "cell_type": "markdown",
   "id": "e8fcf8a4-2d87-4282-a1f8-23ce74b46f7d",
   "metadata": {},
   "source": [
    "Rules for Python variables:\n",
    "\n",
    "    - A variable name must start with a letter ot the undrscore character.\n",
    "    - A variable name cannot start with a number.\n",
    "    - A variable name can only contain alpha-numeric characters and underscore(A-z,0-9,_)\n",
    "    - Variable names are case-sensitive (age,Age and AGE are three differnt variables)\n",
    "    - A variable name cannot be any of the Python Keywords."
   ]
  },
  {
   "cell_type": "code",
   "execution_count": 73,
   "id": "6a223469-2f3b-4bdf-b15d-dbe12e3b32ff",
   "metadata": {},
   "outputs": [],
   "source": [
    "#Example valid variables\n",
    "ab = 5891\n",
    "a_b = 5892\n",
    "_a_b = 5893\n",
    "aB = 5894\n",
    "Ab = 5895\n",
    "AB = 5896\n",
    "ab2 = 5897\n",
    "AB2 = 5898\n",
    "a_b_c = 5899"
   ]
  },
  {
   "cell_type": "raw",
   "id": "3a6c9c2b-14d2-40c8-87fb-296198d2e18b",
   "metadata": {},
   "source": [
    "#Example of invalid variables\n",
    "1_a = 1231\n",
    "a-b = 1232\n",
    "a b = 1233\n",
    "if = 1234\n",
    "a$ = 1235\n",
    "@b = 1236\n",
    "a-b-1 = 1237\n",
    "b @ = 1238\n",
    "class = 1239\n",
    "a!b = 1240"
   ]
  },
  {
   "cell_type": "code",
   "execution_count": null,
   "id": "4f480f6e-7c79-488f-a33a-0217b23250b1",
   "metadata": {},
   "outputs": [],
   "source": []
  }
 ],
 "metadata": {
  "kernelspec": {
   "display_name": "Python 3 (ipykernel)",
   "language": "python",
   "name": "python3"
  },
  "language_info": {
   "codemirror_mode": {
    "name": "ipython",
    "version": 3
   },
   "file_extension": ".py",
   "mimetype": "text/x-python",
   "name": "python",
   "nbconvert_exporter": "python",
   "pygments_lexer": "ipython3",
   "version": "3.12.4"
  }
 },
 "nbformat": 4,
 "nbformat_minor": 5
}
