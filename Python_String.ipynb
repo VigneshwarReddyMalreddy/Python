{
 "cells": [
  {
   "cell_type": "markdown",
   "id": "f2bd81d6-351e-4982-af70-ed50b1be4684",
   "metadata": {},
   "source": [
    "STRINGS"
   ]
  },
  {
   "cell_type": "markdown",
   "id": "dbc40d94-1048-4935-b9f2-2949e1146b69",
   "metadata": {},
   "source": [
    "1) DEFINE ABOUT STRING\n"
   ]
  },
  {
   "cell_type": "markdown",
   "id": "b96ead49-839e-4b1d-8d35-37327584c150",
   "metadata": {},
   "source": [
    "- String is a sequence of characters\n",
    "- We use single quotes or double quotes to represent a string in the python\n",
    "- We can perform String in various operations and use methods to manipulate and work with strings\n",
    "- String is most commonly used data types and they are used to represent text\n",
    "- The string class represented by \"str\"\n",
    "- String can allow empty strings and space is also a charaters in strings\n"
   ]
  },
  {
   "cell_type": "markdown",
   "id": "2ff13f70-bba4-4b2e-b04e-8d1a99bd28be",
   "metadata": {},
   "source": [
    "2. CREATE 10 EXAMPLES FOR STRING USING SINGLE AND DOUBLE QUOTES"
   ]
  },
  {
   "cell_type": "code",
   "execution_count": 110,
   "id": "e2ee348b-360e-46bc-97d7-4aa3a7f31c65",
   "metadata": {},
   "outputs": [
    {
     "name": "stdout",
     "output_type": "stream",
     "text": [
      "Hello world\n",
      "12345\n",
      "Python\n",
      "3.224\n",
      "Data science\n",
      "234+442j\n",
      "Data \n",
      " science\n",
      "12345\n",
      "Empty string \n",
      " \n",
      "space in string \n",
      "  \n",
      "HYDERABAD TO VISAKAPATAM VIA SURYAPET,KHAMMAM,VIJYAWADAHYDERABAD TO VISAKAPATAM VIA SURYAPET,KHAMMAM,VIJYAWADAHYDERABAD TO VISAKAPATAM VIA SURYAPET,KHAMMAM,VIJYAWADAHYDERABAD TO VISAKAPATAM VIA SURYAPET,KHAMMAM,VIJYAWADAHYDERABAD TO VISAKAPATAM VIA SURYAPET,KHAMMAM,VIJYAWADAHYDERABAD TO VISAKAPATAM VIA SURYAPET,KHAMMAM,VIJYAWADA\n",
      "WELCOME  TO PYTHON PROGRAMMING LANGUAGE:) \n",
      "WELCOME  TO PYTHON PROGRAMMING LANGUAGE:) \n",
      "WELCOME  TO PYTHON PROGRAMMING LANGUAGE:) \n",
      "WELCOME  TO PYTHON PROGRAMMING LANGUAGE:) \n",
      "WELCOME  TO PYTHON PROGRAMMING LANGUAGE:) \n",
      "WELCOME  TO PYTHON PROGRAMMING LANGUAGE:) \n",
      "WELCOME  TO PYTHON PROGRAMMING LANGUAGE:) \n",
      "WELCOME  TO PYTHON PROGRAMMING LANGUAGE:) \n",
      "WELCOME  TO PYTHON PROGRAMMING LANGUAGE:) \n",
      "WELCOME  TO PYTHON PROGRAMMING LANGUAGE:) \n",
      "\n",
      "WELCOME TO \n",
      " PYTHON PROGRAMMING LANGUAGE \n",
      "WELCOME TO \n",
      " PYTHON PROGRAMMING LANGUAGE \n",
      "WELCOME TO \n",
      " PYTHON PROGRAMMING LANGUAGE \n",
      "WELCOME TO \n",
      " PYTHON PROGRAMMING LANGUAGE \n",
      "WELCOME TO \n",
      " PYTHON PROGRAMMING LANGUAGE \n",
      "WELCOME TO \n",
      " PYTHON PROGRAMMING LANGUAGE \n",
      "WELCOME TO \n",
      " PYTHON PROGRAMMING LANGUAGE \n",
      "WELCOME TO \n",
      " PYTHON PROGRAMMING LANGUAGE \n",
      "\n",
      " This is\n",
      "                an example for\n",
      "                                triple quotes\n",
      "<class 'str'>\n",
      "<class 'str'>\n",
      "<class 'str'>\n"
     ]
    }
   ],
   "source": [
    "#Example for Sting\n",
    "a = 'Hello world'\n",
    "print(a)\n",
    "\n",
    "a1 = '12345'\n",
    "print(a1)\n",
    "\n",
    "b = \"Python\"\n",
    "print(b)\n",
    "\n",
    "b1= '3.224'\n",
    "print(b1)\n",
    "\n",
    "c = 'Data science'\n",
    "print(c)\n",
    "\n",
    "c1 = '234+442j'\n",
    "print(c1)\n",
    "\n",
    "d = \"Data \\n science\"\n",
    "print(d)\n",
    "\n",
    "e = '12345'\n",
    "print(e)\n",
    "\n",
    "f = \"\"\n",
    "print(\"Empty string \\n\",f)\n",
    "\n",
    "g = \" \"\n",
    "print(\"space in string \\n\",g)\n",
    "\n",
    "h = \"HYDERABAD TO VISAKAPATAM VIA SURYAPET,KHAMMAM,VIJYAWADA\"\n",
    "print(h*6)\n",
    "\n",
    "i = \"WELCOME  TO PYTHON PROGRAMMING LANGUAGE:) \\n\"\n",
    "print(i*10)\n",
    "\n",
    "j = 'WELCOME TO \\n PYTHON PROGRAMMING LANGUAGE \\n'\n",
    "print(j*8)\n",
    "\n",
    "k = \"\"\" This is\n",
    "                an example for\n",
    "                                triple quotes\"\"\"\n",
    "print(k)\n",
    "\n",
    "print(type(i))\n",
    "print(type(j))\n",
    "print(type(k))"
   ]
  },
  {
   "cell_type": "markdown",
   "id": "2e3579d2-774e-413a-a78c-2ddf10db46d6",
   "metadata": {},
   "source": [
    "3)  CREATE A STRING 50 CHARACTER AND ACCESS USING INDEX AND SLICING"
   ]
  },
  {
   "cell_type": "code",
   "execution_count": 193,
   "id": "5dac7e4b-5c14-4994-9d92-f561d46fd977",
   "metadata": {},
   "outputs": [
    {
     "name": "stdout",
     "output_type": "stream",
     "text": [
      "70\n",
      "1 character index 0 =  T\n",
      "7 character index 6 =  w\n",
      "15 character index 14 =  r\n",
      "22 character index 21 =  h\n",
      "70 character index 69 =  E\n",
      "70 character index -1 =  E\n",
      "65 character index -5 =   \n",
      "61 character index -9 =  E\n",
      "30 character index -40 =  r\n",
      "37 character index -33 =  t\n",
      "Slcing of first 12 characters =  There was \n",
      "Slcing from 22 to 50 charater =   or a problem that could de\n",
      "Slcing of last 15 characters =  SUNRISE OR HOPE\n",
      "Slcing of -28 to -5 =  could defect SUNRISE OR\n"
     ]
    }
   ],
   "source": [
    "string = \"There was never a night or a problem that could defect SUNRISE OR HOPE\"\n",
    "print(len(string))\n",
    "\n",
    "#Indexing\n",
    "print(\"1 character index 0 = \",string[0])\n",
    "print(\"7 character index 6 = \",string[6])\n",
    "print(\"15 character index 14 = \",string[14])\n",
    "print(\"22 character index 21 = \",string[21])\n",
    "print(\"70 character index 69 = \",string[69])\n",
    "print(\"70 character index -1 = \",string[-1])\n",
    "print(\"65 character index -5 = \",string[-5])\n",
    "print(\"61 character index -9 = \",string[-9])\n",
    "print(\"30 character index -40 = \",string[-40])\n",
    "print(\"37 character index -33 = \",string[-33])\n",
    "\n",
    "#Slicing\n",
    "print(\"Slcing of first 12 characters = \",string[:10])\n",
    "print(\"Slcing from 22 to 50 charater = \",string[23:50])\n",
    "print(\"Slcing of last 15 characters = \",string[-15:])\n",
    "print(\"Slcing of -28 to -5 = \",string[-28:-5])"
   ]
  },
  {
   "cell_type": "markdown",
   "id": "3ad2bb7c-06d8-4f15-8e7d-f5efe04ab392",
   "metadata": {},
   "source": [
    "4) EXPLAIN ABOUT STRING FORMAT:-\n",
    "\n",
    "            String format are classified into three types they are\n",
    "\n",
    "    1. Old Style Format(% operator)\n",
    "    2. Format Method\n",
    "    3. String Interpolation(f-string)"
   ]
  },
  {
   "cell_type": "markdown",
   "id": "e6f10846-4836-4275-b75e-940d39414018",
   "metadata": {},
   "source": [
    "1. Old Style Foarmat(% operation)\n",
    "\n",
    "    - Uses the % operator and placeholders"
   ]
  },
  {
   "cell_type": "code",
   "execution_count": 124,
   "id": "915ca80f-e554-44fe-a542-d4b49517d262",
   "metadata": {},
   "outputs": [
    {
     "name": "stdout",
     "output_type": "stream",
     "text": [
      "My name is Vigneshwar and i am 21 years old\n"
     ]
    }
   ],
   "source": [
    "#Example for % opertor\n",
    "name = \"Vigneshwar\"\n",
    "age = 21\n",
    "string = \"My name is %s and i am %d years old\" %(name, age)\n",
    "print(string)"
   ]
  },
  {
   "cell_type": "markdown",
   "id": "4deebe86-c1a5-4f92-827b-5a5e8f79731c",
   "metadata": {},
   "source": [
    "2. Format Method\n",
    "\n",
    "    - Uses the format() method with placeholder"
   ]
  },
  {
   "cell_type": "code",
   "execution_count": 127,
   "id": "3dfb3c47-c5ba-4795-81f3-c45465f10df1",
   "metadata": {},
   "outputs": [
    {
     "name": "stdout",
     "output_type": "stream",
     "text": [
      "My name is Vigneshwar and i am 21 years old\n"
     ]
    }
   ],
   "source": [
    "#Example for format method\n",
    "name = \"Vigneshwar\"\n",
    "age = 21\n",
    "string = \"My name is {} and i am {} years old\" .format(name, age)\n",
    "print(string)"
   ]
  },
  {
   "cell_type": "markdown",
   "id": "e37f6e35-f201-42f3-b908-2aeb4beffd08",
   "metadata": {},
   "source": [
    "3. String Interpolation(f-string)\n",
    "\n",
    "    - f-string is used where expressions inside curly brackets { } are evaluted and replaced"
   ]
  },
  {
   "cell_type": "code",
   "execution_count": 130,
   "id": "698a35d1-d7e7-4c3e-8907-ef26c1a1ce9c",
   "metadata": {},
   "outputs": [
    {
     "name": "stdout",
     "output_type": "stream",
     "text": [
      "My name is Vigneshwar and I am 21 years old and I am from Shamshabad.\n",
      "My name is Vigneshwar \n",
      " I am 21 years old \n",
      " I am from Shamshabad.\n"
     ]
    }
   ],
   "source": [
    "#Example for f-string\n",
    "name = \"Vigneshwar\"\n",
    "age = 21\n",
    "loc = \"Shamshabad\"\n",
    "string = f\"My name is {name} and I am {age} years old and I am from {loc}.\"\n",
    "string1 = f\"My name is {name} \\n I am {age} years old \\n I am from {loc}.\"\n",
    "print(string)\n",
    "print(string1)"
   ]
  },
  {
   "cell_type": "markdown",
   "id": "bfcecde4-9487-405d-ab36-69e1d469bd44",
   "metadata": {},
   "source": [
    "5) EXPLAIN ABOUT STRING OPERATIONS"
   ]
  },
  {
   "cell_type": "markdown",
   "id": "d8d42363-0ad8-47b9-92ea-0e3777b296b8",
   "metadata": {},
   "source": [
    "1. CONCATENATION\n",
    "\n",
    "   - Combination of two or more strings"
   ]
  },
  {
   "cell_type": "code",
   "execution_count": 49,
   "id": "2063dd7b-3a36-4bf9-aef7-d934c15c255f",
   "metadata": {},
   "outputs": [
    {
     "name": "stdout",
     "output_type": "stream",
     "text": [
      "Python Progrmming Language\n"
     ]
    }
   ],
   "source": [
    "#Example for concatenation\n",
    "str1 = \"Python\"\n",
    "str2 = \"Progrmming\"\n",
    "str3 = \"Language\"\n",
    "print(str1+\" \"+str2+\" \"+str3)"
   ]
  },
  {
   "cell_type": "markdown",
   "id": "f9cf2dd2-3471-4016-b328-2b1b3137ca81",
   "metadata": {},
   "source": [
    "2. REPETITION\n",
    "    - Repeating a string in multiple lines "
   ]
  },
  {
   "cell_type": "code",
   "execution_count": 52,
   "id": "3807441b-16e4-4c77-b209-d441c1102113",
   "metadata": {},
   "outputs": [
    {
     "name": "stdout",
     "output_type": "stream",
     "text": [
      "Welcome to Jupiter Notebook \n",
      " Welcome to Jupiter Notebook \n",
      " Welcome to Jupiter Notebook \n",
      " Welcome to Jupiter Notebook \n",
      " Welcome to Jupiter Notebook \n",
      " Welcome to Jupiter Notebook \n",
      " Welcome to Jupiter Notebook \n",
      " Welcome to Jupiter Notebook \n",
      " \n"
     ]
    }
   ],
   "source": [
    "#Example for repetiton\n",
    "line = \"Welcome to Jupiter Notebook \\n \"\n",
    "line1 = line*8\n",
    "print(line1)"
   ]
  },
  {
   "cell_type": "markdown",
   "id": "960c5e37-7737-491f-9542-aff408d82a1d",
   "metadata": {},
   "source": [
    "3. INDEXING\n",
    "   \n",
    "    - Acessing individual characters in a string "
   ]
  },
  {
   "cell_type": "code",
   "execution_count": 63,
   "id": "19949cfe-48b0-4c93-ae52-2ce407e2fc91",
   "metadata": {},
   "outputs": [
    {
     "name": "stdout",
     "output_type": "stream",
     "text": [
      "J\n",
      "k\n"
     ]
    }
   ],
   "source": [
    "#Example for Indexing\n",
    "line = \"Welcome to Jupiter Notebook \\n \"\n",
    "print(line[11])\n",
    "print(line[-4])"
   ]
  },
  {
   "cell_type": "markdown",
   "id": "cd68c29a-eb25-4fb1-a943-da3fff113775",
   "metadata": {},
   "source": [
    "4. SLICING\n",
    "\n",
    "   - Slice is a process of exracting a substring from a string"
   ]
  },
  {
   "cell_type": "code",
   "execution_count": 82,
   "id": "ed0e2e42-92bb-4434-9618-0c1eea0f424a",
   "metadata": {},
   "outputs": [
    {
     "name": "stdout",
     "output_type": "stream",
     "text": [
      "greatest si\n",
      "ak\n",
      "The greatest sin is to thin\n",
      "The greatest sin is to think yourself w\n"
     ]
    }
   ],
   "source": [
    "#Example for slicing\n",
    "string = \"The greatest sin is to think yourself weak\"\n",
    "print(string[4:15])\n",
    "print(string[-2:])\n",
    "print(string[:-15])\n",
    "print(string[:39])"
   ]
  },
  {
   "cell_type": "markdown",
   "id": "00efb5bf-ac32-4224-a19e-9453a0848ae9",
   "metadata": {},
   "source": [
    "6) EXPLAIN ABOUT STRING METHODS"
   ]
  },
  {
   "cell_type": "markdown",
   "id": "972f1509-821d-4552-af40-15800b0d4ed9",
   "metadata": {},
   "source": [
    "1. len()\n",
    "\n",
    "    - returns the length of a string"
   ]
  },
  {
   "cell_type": "code",
   "execution_count": 136,
   "id": "4a6bcf63-1fea-43a6-b035-bf5ace0ba231",
   "metadata": {},
   "outputs": [
    {
     "name": "stdout",
     "output_type": "stream",
     "text": [
      "27\n"
     ]
    }
   ],
   "source": [
    "#example for len()\n",
    "string = \"Welcome to Jupiter notebook\"\n",
    "print(len(string))"
   ]
  },
  {
   "cell_type": "markdown",
   "id": "fed64a8e-efcc-447a-88fd-bff72cab95cf",
   "metadata": {},
   "source": [
    "2. lower()/upper()\n",
    "\n",
    "   - conerts the string to lowercase or uppercase"
   ]
  },
  {
   "cell_type": "code",
   "execution_count": 141,
   "id": "19cd1f92-bfc5-4c8f-9b73-0a6d971220d4",
   "metadata": {},
   "outputs": [
    {
     "name": "stdout",
     "output_type": "stream",
     "text": [
      "VIGNESHWAR\n",
      "nani\n"
     ]
    }
   ],
   "source": [
    "#Example for lower()/upper()\n",
    "name = \"Vigneshwar\"\n",
    "print(name.upper())\n",
    "\n",
    "name1 = \"NANI\"\n",
    "print(name1.lower())"
   ]
  },
  {
   "cell_type": "markdown",
   "id": "dc4c58da-4fc9-462f-a0b2-fb70ccd3d4da",
   "metadata": {},
   "source": [
    "3. strip()\n",
    "\n",
    "   - Removes leading and trailing white spaces"
   ]
  },
  {
   "cell_type": "code",
   "execution_count": 146,
   "id": "cc5620cc-a76b-4854-bc91-d5ae5a2e177c",
   "metadata": {},
   "outputs": [
    {
     "name": "stdout",
     "output_type": "stream",
     "text": [
      "Vigneshwar Reddy\n"
     ]
    }
   ],
   "source": [
    "#Example for strip()\n",
    "name = \"    Vigneshwar Reddy     \"\n",
    "print(name.strip())"
   ]
  },
  {
   "cell_type": "markdown",
   "id": "f7922855-9ef7-4dbf-b2b4-bea829d343f6",
   "metadata": {},
   "source": [
    "4. replace()\n",
    "\n",
    "    - Replace a substring with another substring\n"
   ]
  },
  {
   "cell_type": "code",
   "execution_count": 151,
   "id": "8dd19a31-1cb1-4b2e-9ac2-7d0b66dddec4",
   "metadata": {},
   "outputs": [
    {
     "name": "stdout",
     "output_type": "stream",
     "text": [
      "My name is Dinesh Reddy\n"
     ]
    }
   ],
   "source": [
    "#Example for replace()\n",
    "str1 = \"My name is Vigneshwar Reddy\"\n",
    "str = str1.replace(\"Vigneshwar\",\"Dinesh\") #(one value,new value)\n",
    "print(str)"
   ]
  },
  {
   "cell_type": "markdown",
   "id": "aa55f436-8966-468c-9b1d-3e9534c3da1f",
   "metadata": {},
   "source": [
    "5. split()\n",
    "\n",
    "   - splits the string into a list of substring"
   ]
  },
  {
   "cell_type": "code",
   "execution_count": 154,
   "id": "cd86739d-b779-4068-b13c-ff503f78064b",
   "metadata": {},
   "outputs": [
    {
     "name": "stdout",
     "output_type": "stream",
     "text": [
      "['My', 'name', 'is', 'Vigneshwar', 'Reddy', 'i', 'am', '21', 'years', 'old']\n"
     ]
    }
   ],
   "source": [
    "#Example for split()\n",
    "str = \"My name is Vigneshwar Reddy i am 21 years old\"\n",
    "print(str.split())"
   ]
  },
  {
   "cell_type": "markdown",
   "id": "5866df2e-f184-434f-b7a5-1d0b9a17e350",
   "metadata": {},
   "source": [
    "6. join()\n",
    "\n",
    "   - jons a list of strin into a single string\n",
    "     "
   ]
  },
  {
   "cell_type": "code",
   "execution_count": 159,
   "id": "d95caf23-8093-4f11-9b2f-be83ad2f162c",
   "metadata": {},
   "outputs": [
    {
     "name": "stdout",
     "output_type": "stream",
     "text": [
      "My name is Vigneshwar Reddy i am 21 years old\n",
      "My name is Vigneshwar Reddy i am 21 years old\n"
     ]
    }
   ],
   "source": [
    "#Example for join()\n",
    "str = ['My', 'name', 'is', 'Vigneshwar', 'Reddy', 'i', 'am', '21', 'years', 'old']\n",
    "join_str = \" \".join(str)\n",
    "print(join_str)\n",
    "print(\" \".join(str))"
   ]
  },
  {
   "cell_type": "code",
   "execution_count": null,
   "id": "94a98ec6-b454-4a13-b4b3-84844cc3d5d0",
   "metadata": {},
   "outputs": [],
   "source": []
  }
 ],
 "metadata": {
  "kernelspec": {
   "display_name": "Python 3 (ipykernel)",
   "language": "python",
   "name": "python3"
  },
  "language_info": {
   "codemirror_mode": {
    "name": "ipython",
    "version": 3
   },
   "file_extension": ".py",
   "mimetype": "text/x-python",
   "name": "python",
   "nbconvert_exporter": "python",
   "pygments_lexer": "ipython3",
   "version": "3.12.4"
  }
 },
 "nbformat": 4,
 "nbformat_minor": 5
}
