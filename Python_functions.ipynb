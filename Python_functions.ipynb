{
 "cells": [
  {
   "cell_type": "markdown",
   "id": "df41c527-206d-4d54-9974-9a4401f1e032",
   "metadata": {},
   "source": [
    "Functions\n",
    "\n",
    "- A function is block of code which only runs when it is called\n",
    "- you can pass data known as parameters into a function\n",
    "- A function can return data as a result"
   ]
  },
  {
   "cell_type": "markdown",
   "id": "1dabafa7-62fe-4e17-a2f8-0260db6e6824",
   "metadata": {},
   "source": [
    "There are two types of functions:\n",
    "1) standard or bulit in function\n",
    "2) User Defined function\n"
   ]
  },
  {
   "cell_type": "markdown",
   "id": "c088d319-351a-4066-a095-7365540d56fc",
   "metadata": {},
   "source": [
    "1)Standard functions\n",
    "\n",
    " - These are predefined function in python by complier\n",
    " - We can not use standard functions on variable\n",
    "\n",
    "2) User Defined functions\n",
    "\n",
    "- These type of functions are defined by the user to perform any specfic task\n",
    "  "
   ]
  },
  {
   "cell_type": "code",
   "execution_count": 7,
   "id": "5768bd01-aa92-402c-b058-5e01eddf6bcf",
   "metadata": {},
   "outputs": [],
   "source": [
    "#example\n",
    "def func(name,age):\n",
    "    print(f\"My name is {name} and I am {age} old\")\n",
    "\n",
    "# def - keyword to declare function\n",
    "#func- name of the fucntion form user\n",
    "#arguments- any value given by user "
   ]
  },
  {
   "cell_type": "code",
   "execution_count": 9,
   "id": "e6289168-c2c1-425a-ad2b-fd14d4690f49",
   "metadata": {},
   "outputs": [
    {
     "name": "stdout",
     "output_type": "stream",
     "text": [
      "My name is viggu and I am 21 old\n"
     ]
    }
   ],
   "source": [
    "func(\"viggu\",21)"
   ]
  },
  {
   "cell_type": "code",
   "execution_count": 3,
   "id": "3bb6261a-c964-4dda-980e-b072c62e0744",
   "metadata": {},
   "outputs": [
    {
     "name": "stdout",
     "output_type": "stream",
     "text": [
      "Welcome to ABCD bikes\n",
      "Avaiable bikes are : ['fz', 'duke', 'bullet']\n"
     ]
    },
    {
     "name": "stdin",
     "output_type": "stream",
     "text": [
      "Please enter the bike you are looking for activa\n"
     ]
    },
    {
     "name": "stdout",
     "output_type": "stream",
     "text": [
      "Sorry we dont have that model\n"
     ]
    }
   ],
   "source": [
    "print(\"Welcome to ABCD bikes\")\n",
    "list=[\"fz\",\"duke\",\"bullet\"]\n",
    "print(\"Avaiable bikes are :\",list)\n",
    "bike_name = input(\"Please enter the bike you are looking for\")\n",
    "\n",
    "def bike(bike_name):\n",
    "    if bike_name in list:\n",
    "        print(f\"Yes we have {bike_name}. Whih model are you looking for?\")\n",
    "    else:\n",
    "        print(\"Sorry we dont have that model\")\n",
    "bike(bike_name)"
   ]
  },
  {
   "cell_type": "markdown",
   "id": "152f4319-cf3f-443f-afe7-f349dab7d1ee",
   "metadata": {},
   "source": [
    "LAMBDA:-\n",
    "\n",
    "- Lambda function is a small, one line function that can haev any number of arguments but can only have one expression\n",
    "- lambda can perfrom only one function\n",
    "- lambda arugment:expresion"
   ]
  },
  {
   "cell_type": "code",
   "execution_count": 16,
   "id": "28911994-1b3e-4f4c-ad08-19ebf478c7af",
   "metadata": {},
   "outputs": [],
   "source": [
    "h = lambda a,b:a*b+a"
   ]
  },
  {
   "cell_type": "code",
   "execution_count": 18,
   "id": "23bf764f-8683-466a-89c6-602adaee5ea3",
   "metadata": {},
   "outputs": [
    {
     "data": {
      "text/plain": [
       "12"
      ]
     },
     "execution_count": 18,
     "metadata": {},
     "output_type": "execute_result"
    }
   ],
   "source": [
    "h(2,5)"
   ]
  },
  {
   "cell_type": "markdown",
   "id": "8f475c4b-3257-4218-b4e2-3500600f25ed",
   "metadata": {},
   "source": [
    "1) Map function:- \n",
    "\n",
    "- Map function are used to chages all items in a list using a specified function\n",
    "- Map function will applies the function to each item and returns a new list with transaformed items"
   ]
  },
  {
   "cell_type": "code",
   "execution_count": 2,
   "id": "0514986e-8dcc-46b2-9c1f-bdb2d4f1f09d",
   "metadata": {},
   "outputs": [
    {
     "name": "stdout",
     "output_type": "stream",
     "text": [
      "[1, 4, 9, 16, 25]\n"
     ]
    }
   ],
   "source": [
    "num=[1,2,3,4,5]\n",
    "a = map(lambda x: x**2,num)\n",
    "print(list(a))"
   ]
  },
  {
   "cell_type": "code",
   "execution_count": 9,
   "id": "85bbca9d-ba80-49f5-b30e-91987d0c492d",
   "metadata": {},
   "outputs": [
    {
     "name": "stdout",
     "output_type": "stream",
     "text": [
      "[5, 7, 9]\n"
     ]
    }
   ],
   "source": [
    "list1=[1,2,3]\n",
    "list2=[4,5,6]\n",
    "sum=map(lambda x,y:x+y,list1,list2)\n",
    "print(list(sum))"
   ]
  },
  {
   "cell_type": "markdown",
   "id": "1c5cc848-0f98-4332-bd96-c8bb7596b29e",
   "metadata": {},
   "source": [
    "2) Filter Function:-\n",
    "\n",
    "- filter functions are used to select items from a list that meet a condition\n",
    "- filterfunctions will evaluates each item with the condition and returns a new list with items that meet the condition"
   ]
  },
  {
   "cell_type": "code",
   "execution_count": 7,
   "id": "e07c4594-9d6b-4688-9535-9042e935800c",
   "metadata": {},
   "outputs": [
    {
     "name": "stdout",
     "output_type": "stream",
     "text": [
      "[11, 15, 12]\n"
     ]
    }
   ],
   "source": [
    "num=[5,11,15,3,12]\n",
    "a=filter(lambda x:x>10,num)\n",
    "print(list(a))"
   ]
  },
  {
   "cell_type": "code",
   "execution_count": 3,
   "id": "6193f176-d56c-4a01-bd13-447636f2a665",
   "metadata": {},
   "outputs": [
    {
     "name": "stdout",
     "output_type": "stream",
     "text": [
      "[1, 3, 5, 7, 9]\n"
     ]
    }
   ],
   "source": [
    "num=[1,2,3,4,5,6,7,8,9]\n",
    "odd=filter(lambda x:x%2 !=0,num)\n",
    "print(list(odd))"
   ]
  },
  {
   "cell_type": "markdown",
   "id": "a39fc474-6fa4-46ae-aa00-a9b5d47fea67",
   "metadata": {},
   "source": [
    "In pyhon there are two types of variables\n",
    "\n",
    "1) Local Variable\n",
    "2) Global Variable"
   ]
  },
  {
   "cell_type": "markdown",
   "id": "7c2b55e6-f177-4d45-af46-be2af7b88d7a",
   "metadata": {},
   "source": [
    "- Local Variable is a variable which declared inside a function\n",
    "- Local variable is only used within the function"
   ]
  },
  {
   "cell_type": "code",
   "execution_count": 17,
   "id": "6b9b799d-3311-4ef0-8897-4dde493cbf70",
   "metadata": {},
   "outputs": [
    {
     "name": "stdout",
     "output_type": "stream",
     "text": [
      "Hello , World!\n"
     ]
    }
   ],
   "source": [
    "#Example for Local variable\n",
    "def hello():\n",
    "    msg=\"Hello , World!\"\n",
    "    print(msg)\n",
    "\n",
    "hello()"
   ]
  },
  {
   "cell_type": "markdown",
   "id": "81585751-33bf-481f-aefb-d13cf3e4d100",
   "metadata": {},
   "source": [
    "- Global variable is a variable declared outside of any function\n",
    "- Global variable can be used anywhere in the code"
   ]
  },
  {
   "cell_type": "code",
   "execution_count": 20,
   "id": "3db8be4d-4a24-43d7-a2cf-bfa721f474d6",
   "metadata": {},
   "outputs": [
    {
     "name": "stdout",
     "output_type": "stream",
     "text": [
      "20\n"
     ]
    }
   ],
   "source": [
    "#Example for Global variable\n",
    "var=20\n",
    "\n",
    "def func():\n",
    "    print(var)\n",
    "\n",
    "func()"
   ]
  }
 ],
 "metadata": {
  "kernelspec": {
   "display_name": "Python 3 (ipykernel)",
   "language": "python",
   "name": "python3"
  },
  "language_info": {
   "codemirror_mode": {
    "name": "ipython",
    "version": 3
   },
   "file_extension": ".py",
   "mimetype": "text/x-python",
   "name": "python",
   "nbconvert_exporter": "python",
   "pygments_lexer": "ipython3",
   "version": "3.12.4"
  }
 },
 "nbformat": 4,
 "nbformat_minor": 5
}
