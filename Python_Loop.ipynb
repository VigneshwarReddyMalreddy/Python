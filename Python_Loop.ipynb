{
 "cells": [
  {
   "cell_type": "markdown",
   "id": "79d33b4e-f9ce-4e9b-82a2-b5493314705a",
   "metadata": {},
   "source": [
    "PYTHON LOOP STATEMENTS"
   ]
  },
  {
   "cell_type": "markdown",
   "id": "42bfd1be-b940-47de-8e43-df790436e9b9",
   "metadata": {},
   "source": [
    "In Python Loop Statements are classified into Two types\n",
    "\n",
    "- while loop\n",
    "- for loop"
   ]
  },
  {
   "cell_type": "markdown",
   "id": "6a986441-948c-4ad2-a548-abe56873d201",
   "metadata": {},
   "source": [
    "while loop:- \n",
    "\n",
    "- Python while loop is used to run a block code until a certain condition is met\n",
    "- A while loop evalueate the condition\n",
    "- If the condition evalution to True, the code inside the while loop is executed\n",
    "- If not the the condition evaluated again\n",
    "- This process continue until condition is false\n",
    "- When condition evalute to false the loop stops"
   ]
  },
  {
   "cell_type": "code",
   "execution_count": 41,
   "id": "161e1403-9716-416c-b158-476fd102592c",
   "metadata": {},
   "outputs": [
    {
     "name": "stdout",
     "output_type": "stream",
     "text": [
      "10\n",
      "20\n",
      "30\n",
      "40\n",
      "50\n"
     ]
    }
   ],
   "source": [
    "#Example for while loop\n",
    "i=10\n",
    "while i<=50:\n",
    "    print(i)\n",
    "    i=i+10"
   ]
  },
  {
   "cell_type": "markdown",
   "id": "f4dc5ea1-9393-43a8-bb04-9927be34d098",
   "metadata": {},
   "source": [
    "for loop:-\n",
    "\n",
    "- The for loop is used for iterating over a sequence(that is either a list ,tuple,dictionary, string or range)\n",
    "- Here value access each item of the sequence on each items\n",
    "- The loop continue until we reach the last item in the sequence\n",
    "  "
   ]
  },
  {
   "cell_type": "code",
   "execution_count": 44,
   "id": "5066818c-5bb9-466c-afa2-8ec65eab37e5",
   "metadata": {},
   "outputs": [
    {
     "name": "stdout",
     "output_type": "stream",
     "text": [
      "p\n",
      "y\n",
      "t\n",
      "h\n",
      "o\n",
      "n\n"
     ]
    }
   ],
   "source": [
    "#Example for loop on string\n",
    "a=\"python\"\n",
    "for i in a:\n",
    "    print(i)"
   ]
  },
  {
   "cell_type": "code",
   "execution_count": 46,
   "id": "fe1a9c96-244b-4d3f-b07a-f0339dffb4fa",
   "metadata": {},
   "outputs": [
    {
     "name": "stdout",
     "output_type": "stream",
     "text": [
      "A\n",
      "B\n",
      "C\n"
     ]
    }
   ],
   "source": [
    "#Example for loop on list\n",
    "h=[\"A\",\"B\",\"C\"]\n",
    "for x in h:\n",
    "    print(x)"
   ]
  },
  {
   "cell_type": "code",
   "execution_count": 48,
   "id": "c494b201-20bf-4c0d-a34e-036da2e19bf8",
   "metadata": {},
   "outputs": [
    {
     "name": "stdout",
     "output_type": "stream",
     "text": [
      "hello\n",
      "world\n",
      "to\n",
      "datascience\n"
     ]
    }
   ],
   "source": [
    "#Example for tuple\n",
    "tup=(\"hello\",\"world\",\"to\",\"datascience\")\n",
    "for i in tup:\n",
    "    print(i)"
   ]
  },
  {
   "cell_type": "code",
   "execution_count": 50,
   "id": "577e376e-36c7-41fa-abe5-244937669792",
   "metadata": {},
   "outputs": [
    {
     "name": "stdout",
     "output_type": "stream",
     "text": [
      "key is name and value is vignesh\n",
      "key is Age and value is 22\n",
      "key is Loc and value is Hyd\n"
     ]
    }
   ],
   "source": [
    "#Example for loop on dictinary\n",
    "dict = {\"name\":\"vignesh\",\"Age\":22,\"Loc\":\"Hyd\"}\n",
    "for key, value in dict.items():\n",
    "    \n",
    "    print(f\"key is {key} and value is {value}\")\n",
    "    "
   ]
  },
  {
   "cell_type": "markdown",
   "id": "def18467-fcc6-4e3a-b1da-84b19c48c12f",
   "metadata": {},
   "source": [
    "1) Check Even or Odd"
   ]
  },
  {
   "cell_type": "code",
   "execution_count": 53,
   "id": "651b5b90-a58c-401b-84e4-f3e7621574a0",
   "metadata": {},
   "outputs": [
    {
     "name": "stdout",
     "output_type": "stream",
     "text": [
      "1 odd\n",
      "2 Even\n",
      "3 odd\n",
      "4 Even\n",
      "5 odd\n",
      "6 Even\n",
      "7 odd\n",
      "8 Even\n",
      "9 odd\n"
     ]
    }
   ],
   "source": [
    "a=[1,2,3,4,5,6,7,8,9]\n",
    "\n",
    "for i in a:\n",
    "    if i %2 == 0:\n",
    "        print(i,\"Even\")\n",
    "    else:\n",
    "        print(i,\"odd\")"
   ]
  },
  {
   "cell_type": "code",
   "execution_count": 55,
   "id": "5e5450a6-093e-4ba7-ae7a-f5e5ea7cffb8",
   "metadata": {},
   "outputs": [
    {
     "name": "stdout",
     "output_type": "stream",
     "text": [
      "1 is odd\n",
      "2 is even\n",
      "3 is odd\n",
      "4 is even\n",
      "5 is odd\n",
      "6 is even\n",
      "7 is odd\n",
      "8 is even\n",
      "9 is odd\n"
     ]
    }
   ],
   "source": [
    "a=[1,2,3,4,5,6,7,8,9]\n",
    "index = 0\n",
    "\n",
    "while index < len(a):\n",
    "    i = a[index]\n",
    "    if i % 2 == 0:\n",
    "        print(f\"{i} is even\")\n",
    "    else:\n",
    "        print(f\"{i} is odd\")\n",
    "    index += 1 "
   ]
  },
  {
   "cell_type": "markdown",
   "id": "57045024-2c99-428c-987f-ac3abd0df879",
   "metadata": {},
   "source": [
    "2) Check Vote Eligible or not"
   ]
  },
  {
   "cell_type": "code",
   "execution_count": 58,
   "id": "1295c3a2-ee54-401d-954e-460da5b6b1c9",
   "metadata": {},
   "outputs": [
    {
     "name": "stdout",
     "output_type": "stream",
     "text": [
      "12 Not Eligible to vote\n",
      "56 Eligible to vode\n",
      "34 Eligible to vode\n",
      "7 Not Eligible to vote\n",
      "84 Eligible to vode\n",
      "5 Not Eligible to vote\n"
     ]
    }
   ],
   "source": [
    "#Vote Eligibile or not\n",
    "age=[12,56,34,7,84,5]\n",
    "\n",
    "for i in age:\n",
    "    if i>=18:\n",
    "        print(i,\"Eligible to vode\")\n",
    "    else:\n",
    "        print(i,\"Not Eligible to vote\")"
   ]
  },
  {
   "cell_type": "code",
   "execution_count": 60,
   "id": "d7317584-8b2f-4302-b763-e7541517b56d",
   "metadata": {},
   "outputs": [
    {
     "name": "stdout",
     "output_type": "stream",
     "text": [
      "Age 12 is not eligible\n",
      "Age 56 is eligible\n",
      "Age 34 is eligible\n",
      "Age 7 is not eligible\n",
      "Age 84 is eligible\n",
      "Age 5 is not eligible\n"
     ]
    }
   ],
   "source": [
    "age=[12,56,34,7,84,5]\n",
    "index = 0\n",
    "\n",
    "while index < len(age):\n",
    "    n = age[index]\n",
    "    if n >= 18:\n",
    "        print(f\"Age {n} is eligible\")\n",
    "    else:\n",
    "        print(f\"Age {n} is not eligible\")\n",
    "    index += 1 "
   ]
  },
  {
   "cell_type": "markdown",
   "id": "b95a0de9-f1da-4966-819e-0537ae1f640b",
   "metadata": {},
   "source": [
    "3) Check leap year  or not"
   ]
  },
  {
   "cell_type": "code",
   "execution_count": 63,
   "id": "af166e9b-d11f-4464-8de9-3bdcda16aabe",
   "metadata": {},
   "outputs": [
    {
     "name": "stdout",
     "output_type": "stream",
     "text": [
      "year is a leap year\n",
      "year is a leap year\n",
      "year is not leap year\n",
      "year is not leap year\n"
     ]
    }
   ],
   "source": [
    "year=[2024,3000,2030,1999]\n",
    "for i in year:\n",
    "    if i % 4 == 0:\n",
    "        print(\"year is a leap year\")\n",
    "    else:\n",
    "        print(\"year is not leap year\")"
   ]
  },
  {
   "cell_type": "code",
   "execution_count": 65,
   "id": "ec054a63-5d4a-4a43-8304-39482f6aa6a0",
   "metadata": {},
   "outputs": [
    {
     "name": "stdout",
     "output_type": "stream",
     "text": [
      "2024 is a leap year.\n",
      "3000 is a leap year.\n",
      "2030 is not a leap year.\n",
      "1999 is not a leap year.\n"
     ]
    }
   ],
   "source": [
    "years=[2024,3000,2030,1999]\n",
    "index = 0\n",
    "\n",
    "while index < len(years):\n",
    "    year = years[index]\n",
    "    if year % 4 == 0 :\n",
    "        print(f\"{year} is a leap year.\")\n",
    "    else:\n",
    "        print(f\"{year} is not a leap year.\")\n",
    "    index += 1"
   ]
  },
  {
   "cell_type": "markdown",
   "id": "f732772a-0993-4116-8dea-d9641fcf76bf",
   "metadata": {},
   "source": [
    "4) Check list is Empty or not"
   ]
  },
  {
   "cell_type": "code",
   "execution_count": 68,
   "id": "eee60979-294d-4d52-b1e9-82fad5f3e2ae",
   "metadata": {},
   "outputs": [
    {
     "name": "stdout",
     "output_type": "stream",
     "text": [
      "not empty\n",
      "not empty\n",
      "not empty\n"
     ]
    }
   ],
   "source": [
    "#empty or not\n",
    "list=[44,56,87]\n",
    "for i in list:\n",
    "    if not i:\n",
    "        print(\"empty\")\n",
    "    else:\n",
    "        print(\"not empty\")"
   ]
  },
  {
   "cell_type": "code",
   "execution_count": 70,
   "id": "c4b6226f-3b8d-408c-9c4f-ece9808cd515",
   "metadata": {},
   "outputs": [
    {
     "name": "stdout",
     "output_type": "stream",
     "text": [
      "empty\n"
     ]
    }
   ],
   "source": [
    "list = []\n",
    "index = 0\n",
    "\n",
    "while index == 0:\n",
    "    print(\"empty\")\n",
    "    break"
   ]
  },
  {
   "cell_type": "markdown",
   "id": "8748594d-4d68-4644-a63b-610524a1ceb9",
   "metadata": {},
   "source": [
    "5) Check palindrome or not"
   ]
  },
  {
   "cell_type": "code",
   "execution_count": 73,
   "id": "b44689c8-fd53-4934-9516-16331daf65a6",
   "metadata": {},
   "outputs": [
    {
     "name": "stdout",
     "output_type": "stream",
     "text": [
      "aha is a palindrome\n",
      "refer is a palindrome\n",
      "101 is a palindrome\n",
      "teks is not a palindrome\n"
     ]
    }
   ],
   "source": [
    "a = (\"aha\", \"refer\", 101, \"teks\")\n",
    "\n",
    "for i in a:\n",
    "    if str(i) == str(i)[::-1]:\n",
    "        print(f\"{i} is a palindrome\")\n",
    "    else:\n",
    "        print(f\"{i} is not a palindrome\")"
   ]
  },
  {
   "cell_type": "code",
   "execution_count": 75,
   "id": "4c2344e3-1697-4ea6-8ab3-85bf26a334b4",
   "metadata": {},
   "outputs": [
    {
     "name": "stdout",
     "output_type": "stream",
     "text": [
      "aha is a palindrome\n",
      "refer is a palindrome\n",
      "101 is a palindrome\n",
      "teks is not a palindrome\n"
     ]
    }
   ],
   "source": [
    "a = (\"aha\", \"refer\", 101, \"teks\")\n",
    "i = 0\n",
    "\n",
    "while i < len(a):\n",
    "    if str(a[i]) == str(a[i])[::-1]:\n",
    "        print(f\"{a[i]} is a palindrome\")\n",
    "    else:\n",
    "        print(f\"{a[i]} is not a palindrome\")\n",
    "    i += 1"
   ]
  },
  {
   "cell_type": "markdown",
   "id": "e2d7708c-773f-4dfe-b29c-6a0afda51eb1",
   "metadata": {},
   "source": [
    "6) Calculate garde of a student"
   ]
  },
  {
   "cell_type": "code",
   "execution_count": 82,
   "id": "89ad772c-88f9-4c4b-b315-c8817146ff9f",
   "metadata": {},
   "outputs": [
    {
     "name": "stdin",
     "output_type": "stream",
     "text": [
      "Enter grades separated by commas:  43\n"
     ]
    },
    {
     "name": "stdout",
     "output_type": "stream",
     "text": [
      "43: F\n"
     ]
    }
   ],
   "source": [
    "grades_input = input(\"Enter grades separated by commas: \")\n",
    "\n",
    "# Split the string into individual grade strings and convert to integers\n",
    "grades = [int(mark.strip()) for mark in grades_input.split(',')]\n",
    "\n",
    "#Splitting the string into individual grade strings.\n",
    "#Stripping whitespace from each grade string.\n",
    "\n",
    "for mark in grades:\n",
    "    if mark >= 90:\n",
    "        print(f\"{mark}: A\")\n",
    "    elif mark >= 80:\n",
    "        print(f\"{mark}: B\")\n",
    "    elif mark >= 70:\n",
    "        print(f\"{mark}: C\")\n",
    "    elif mark >= 60:\n",
    "        print(f\"{mark}: D\")\n",
    "    elif mark >= 50:\n",
    "        print(f\"{mark}: E\")\n",
    "    else:\n",
    "        print(f\"{mark}: F\")"
   ]
  },
  {
   "cell_type": "code",
   "execution_count": 84,
   "id": "bb8796d2-5b80-4f29-a728-b1e1c01b9d6a",
   "metadata": {},
   "outputs": [
    {
     "name": "stdin",
     "output_type": "stream",
     "text": [
      "Enter grades separated by commas:  90\n"
     ]
    },
    {
     "name": "stdout",
     "output_type": "stream",
     "text": [
      "90: A\n"
     ]
    }
   ],
   "source": [
    "grades_input = input(\"Enter grades separated by commas: \")\n",
    "grades = [int(mark.strip()) for mark in grades_input.split(',')]\n",
    "#Splitting the string into individual grade strings.\n",
    "#Stripping whitespace from each grade string.\n",
    "\n",
    "index = 0\n",
    "\n",
    "while index < len(grades):\n",
    "    mark = grades[index]\n",
    "    if mark >= 90:\n",
    "        print(f\"{mark}: A\")\n",
    "    elif mark >= 80:\n",
    "        print(f\"{mark}: B\")\n",
    "    elif mark >= 70:\n",
    "        print(f\"{mark}: C\")\n",
    "    elif mark >= 60:\n",
    "        print(f\"{mark}: D\")\n",
    "    elif mark >= 50:\n",
    "        print(f\"{mark}: E\")\n",
    "    else:\n",
    "        print(f\"{mark}: F\")\n",
    "    \n",
    "    index += 1  # Move to the next index"
   ]
  },
  {
   "cell_type": "markdown",
   "id": "dbabe30f-9ae0-4377-9ca2-3c29a807d397",
   "metadata": {},
   "source": [
    "7) Find smallest amnog three numbers\n"
   ]
  },
  {
   "cell_type": "code",
   "execution_count": 88,
   "id": "ae7f6f62-5763-465d-89c6-39307436d855",
   "metadata": {},
   "outputs": [
    {
     "name": "stdin",
     "output_type": "stream",
     "text": [
      "Enter number 1:  90\n",
      "Enter number 2:  91\n",
      "Enter number 3:  90\n"
     ]
    },
    {
     "name": "stdout",
     "output_type": "stream",
     "text": [
      "The smallest number is: 90\n"
     ]
    }
   ],
   "source": [
    "smallest = float('inf')\n",
    "\n",
    "for i in range(3):\n",
    "    num = int(input(f\"Enter number {i + 1}: \"))\n",
    "    if num < smallest:\n",
    "        smallest = num  \n",
    "\n",
    "print(f\"The smallest number is: {smallest}\")"
   ]
  },
  {
   "cell_type": "code",
   "execution_count": 90,
   "id": "6be3b5fa-407e-477d-a5e3-aa84ebed6c7c",
   "metadata": {},
   "outputs": [
    {
     "name": "stdin",
     "output_type": "stream",
     "text": [
      "Enter a number:  90\n",
      "Enter a number:  90\n",
      "Enter a number:  90\n"
     ]
    },
    {
     "name": "stdout",
     "output_type": "stream",
     "text": [
      "The smallest number is: 90\n"
     ]
    }
   ],
   "source": [
    "smallest = float('inf')\n",
    "count = 0\n",
    "\n",
    "while count < 3:\n",
    "    num = int(input(\"Enter a number: \"))\n",
    "    if num < smallest:\n",
    "        smallest = num\n",
    "        \n",
    "    count += 1 \n",
    "\n",
    "print(f\"The smallest number is: {smallest}\")"
   ]
  },
  {
   "cell_type": "markdown",
   "id": "5a3f42e8-1ae2-44ab-9948-91bbbfb31b83",
   "metadata": {},
   "source": [
    "8) Find second largest number in a list"
   ]
  },
  {
   "cell_type": "code",
   "execution_count": 92,
   "id": "1a0d7d68-2659-43ef-b42f-85a93750a3f7",
   "metadata": {},
   "outputs": [
    {
     "name": "stdout",
     "output_type": "stream",
     "text": [
      "8\n"
     ]
    }
   ],
   "source": [
    "my_list = [2, 5,8,10]\n",
    "largest = second_largest = 0\n",
    "\n",
    "for num in my_list:\n",
    "    if num > largest:\n",
    "        second_largest = largest\n",
    "        largest = num\n",
    "    else:\n",
    "        second_largest = num\n",
    "\n",
    "print(second_largest) "
   ]
  },
  {
   "cell_type": "code",
   "execution_count": 94,
   "id": "88743c86-10af-468c-8a77-67e3c1f6c391",
   "metadata": {},
   "outputs": [
    {
     "name": "stdout",
     "output_type": "stream",
     "text": [
      "5\n"
     ]
    }
   ],
   "source": [
    "my_list = [1, 2,5,6]\n",
    "largest = second_largest = 0\n",
    "index = 0\n",
    "\n",
    "while index < len(my_list):\n",
    "    num = my_list[index]\n",
    "    if num > largest:\n",
    "        second_largest = largest\n",
    "        largest = num\n",
    "    else:\n",
    "        second_largest = num\n",
    "    \n",
    "    index += 1\n",
    "print(second_largest)"
   ]
  },
  {
   "cell_type": "markdown",
   "id": "b8ac1603-dc5f-42fb-a432-ca55c3258cf5",
   "metadata": {},
   "source": [
    "9) Calculate Body Mass index and categorize it"
   ]
  },
  {
   "cell_type": "code",
   "execution_count": 97,
   "id": "9816f2ec-be0a-483a-b99e-70359910d7d7",
   "metadata": {},
   "outputs": [
    {
     "name": "stdin",
     "output_type": "stream",
     "text": [
      "Enter weight (kgs):  90\n",
      "Enter height (feets):  6\n"
     ]
    },
    {
     "name": "stdout",
     "output_type": "stream",
     "text": [
      "Weight: 90.0 kg, Height: 6.0 feet, Category: Overweight\n"
     ]
    }
   ],
   "source": [
    "n=0\n",
    "weight = float(input(\"Enter weight (kgs): \"))\n",
    "height = float(input(\"Enter height (feets): \"))\n",
    "h1=height * 0.3048\n",
    "for n in range(1):  # Loop runs only once\n",
    "    bmi = weight / (h1 ** 2)\n",
    "    if bmi < 18.5:\n",
    "        category = \"Underweight\"\n",
    "    elif 18.5 <= bmi < 24.9:\n",
    "        category = \"Normal weight\"\n",
    "    elif 25 <= bmi < 29.9:\n",
    "        category = \"Overweight\"\n",
    "    else:\n",
    "        category = \"Obesity\"\n",
    "    print(f\"Weight: {weight} kg, Height: {height} feet, Category: {category}\")\n"
   ]
  },
  {
   "cell_type": "code",
   "execution_count": 99,
   "id": "438048b3-6870-469f-b867-0a644ea00aac",
   "metadata": {},
   "outputs": [
    {
     "name": "stdin",
     "output_type": "stream",
     "text": [
      "Enter weight (kg):  80\n",
      "Enter height (feets):  6\n"
     ]
    },
    {
     "name": "stdout",
     "output_type": "stream",
     "text": [
      "Weight: 80.0 kg, Height: 6.0 feets, Category: Normal weight\n"
     ]
    }
   ],
   "source": [
    "weight = float(input(\"Enter weight (kg): \"))\n",
    "height = float(input(\"Enter height (feets): \"))\n",
    "h1= height*0.3048\n",
    "index = 0\n",
    "\n",
    "while index < 1:  # Loop will run only once\n",
    "    bmi = weight / (h1 ** 2)\n",
    "\n",
    "    if bmi < 18.5:\n",
    "        category = \"Underweight\"\n",
    "    elif 18.5 <= bmi < 24.9:\n",
    "        category = \"Normal weight\"\n",
    "    elif 25 <= bmi < 29.9:\n",
    "        category = \"Overweight\"\n",
    "    else:\n",
    "        category = \"Obesity\"\n",
    "    print(f\"Weight: {weight} kg, Height: {height} feets, Category: {category}\")\n",
    "    index += 1"
   ]
  },
  {
   "cell_type": "markdown",
   "id": "755474b7-c690-4b74-acc7-1345d8f77e54",
   "metadata": {},
   "source": [
    "10) find person age belong to which group"
   ]
  },
  {
   "cell_type": "code",
   "execution_count": 101,
   "id": "f29f99be-3bc4-4de5-9572-0dfba43d7161",
   "metadata": {},
   "outputs": [
    {
     "name": "stdin",
     "output_type": "stream",
     "text": [
      "Enter your age:  90\n"
     ]
    },
    {
     "name": "stdout",
     "output_type": "stream",
     "text": [
      "Age 90 is  Retire group\n"
     ]
    }
   ],
   "source": [
    "i = 0\n",
    "age = int(input(\"Enter your age: \"))\n",
    "for i in range(1): \n",
    "    if age <= 22:\n",
    "        print(f\"Age {age} is School group\")\n",
    "    elif age > 22 and age <= 50:\n",
    "        print(f\"Age {age} is Work group\")\n",
    "    else:\n",
    "        print(f\"Age {age} is  Retire group\")"
   ]
  },
  {
   "cell_type": "code",
   "execution_count": 103,
   "id": "021fa91f-170c-45d3-9aff-415bc3bb5a3e",
   "metadata": {},
   "outputs": [
    {
     "name": "stdin",
     "output_type": "stream",
     "text": [
      "Enter your age:  65\n"
     ]
    },
    {
     "name": "stdout",
     "output_type": "stream",
     "text": [
      "Age 65: Retire group\n"
     ]
    }
   ],
   "source": [
    "age = int(input(\"Enter your age: \"))\n",
    "count = 0\n",
    "\n",
    "while count < 1:\n",
    "    if age <= 22:\n",
    "        print(f\"Age {age}: School group\")\n",
    "    elif age > 22 and age <= 50:\n",
    "        print(f\"Age {age}: Work group\")\n",
    "    else:\n",
    "        print(f\"Age {age}: Retire group\")\n",
    "    \n",
    "    count += 1 "
   ]
  },
  {
   "cell_type": "code",
   "execution_count": null,
   "id": "5c02e2c0-5775-4a40-9e95-e6dbd922be72",
   "metadata": {},
   "outputs": [],
   "source": []
  }
 ],
 "metadata": {
  "kernelspec": {
   "display_name": "Python 3 (ipykernel)",
   "language": "python",
   "name": "python3"
  },
  "language_info": {
   "codemirror_mode": {
    "name": "ipython",
    "version": 3
   },
   "file_extension": ".py",
   "mimetype": "text/x-python",
   "name": "python",
   "nbconvert_exporter": "python",
   "pygments_lexer": "ipython3",
   "version": "3.12.4"
  }
 },
 "nbformat": 4,
 "nbformat_minor": 5
}
