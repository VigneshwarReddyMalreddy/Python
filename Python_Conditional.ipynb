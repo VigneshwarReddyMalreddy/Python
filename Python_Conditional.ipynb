{
 "cells": [
  {
   "cell_type": "markdown",
   "id": "4a7b81aa-77f5-4098-a7c6-dd50296de4c5",
   "metadata": {},
   "source": [
    "Python Conditional Statments"
   ]
  },
  {
   "cell_type": "markdown",
   "id": "46881553-48db-4760-bf24-f1cfca973178",
   "metadata": {},
   "source": [
    "- Conditional statements are statments in python that provides a choice for the control flow on a condition\n",
    "- Control flow of the python will be decided based onthe outcome of the condition"
   ]
  },
  {
   "cell_type": "markdown",
   "id": "9a2923ec-6641-41b1-99d7-caa5f5b710eb",
   "metadata": {},
   "source": [
    "Conditinal Statements are classified into 3 types\n",
    "- If Conditional\n",
    "- else Conditional\n",
    "- elif Conditional"
   ]
  },
  {
   "cell_type": "markdown",
   "id": "7b380e80-f7d5-4e5e-9031-468db8410aee",
   "metadata": {},
   "source": [
    "1) If Conditional:-\n",
    "                   If the simple code of block is to be performed if the condition holds then if statement is used"
   ]
  },
  {
   "cell_type": "markdown",
   "id": "832bafa4-375b-45a3-8c26-c079a2e7fbc6",
   "metadata": {},
   "source": [
    "syntx of If Conditional\n",
    "\n",
    "if condition:\n",
    "        #statement to execute\n",
    "        #condition is true\n"
   ]
  },
  {
   "cell_type": "code",
   "execution_count": 6,
   "id": "f42878ba-d444-4e87-bda5-58fb87c7e9f9",
   "metadata": {},
   "outputs": [
    {
     "name": "stdout",
     "output_type": "stream",
     "text": [
      "10 greater than 5\n"
     ]
    }
   ],
   "source": [
    "if 10 > 5:\n",
    "    print(\"10 greater than 5\")"
   ]
  },
  {
   "cell_type": "markdown",
   "id": "34400345-bc9c-4aa7-9bb9-1b655f87bd42",
   "metadata": {},
   "source": [
    "2. else Conditional:-\n",
    "               In a conditional if Statement the additional block of code is merged as an else statement which is performed when if condition is false"
   ]
  },
  {
   "cell_type": "markdown",
   "id": "a9f0f45d-bb8d-4412-b0d7-a8f23d39cd1a",
   "metadata": {},
   "source": [
    "\n",
    "if (condition):\n",
    "    # Executes this block if\n",
    "    # condition is true\n",
    "\n",
    "else:\n",
    "    # Executes this block if\n",
    "    # condition is false"
   ]
  },
  {
   "cell_type": "code",
   "execution_count": 10,
   "id": "ca2698b4-bf73-4fdb-a80a-9eb29b4a70ff",
   "metadata": {},
   "outputs": [
    {
     "name": "stdout",
     "output_type": "stream",
     "text": [
      "No\n"
     ]
    }
   ],
   "source": [
    "x = 3\n",
    "if x == 4:\n",
    "    print(\"Yes\")\n",
    "else:\n",
    "    print(\"No\")"
   ]
  },
  {
   "cell_type": "markdown",
   "id": "1e46feb1-49bc-4b59-b585-26b4e7fe70a5",
   "metadata": {},
   "source": [
    "3) elif statement"
   ]
  },
  {
   "cell_type": "markdown",
   "id": "9b53b5db-af19-4d54-9080-692299807436",
   "metadata": {},
   "source": [
    "The if statements are executed from the top down. As soon as one of the conditions controlling the if is true, the statement associated with that if is executed, and the rest of the ladder is bypassed. If none of the conditions is true, then the final “else” statement will be executed."
   ]
  },
  {
   "cell_type": "code",
   "execution_count": 14,
   "id": "5fae778b-ccc8-43c5-a570-020077ce570c",
   "metadata": {},
   "outputs": [
    {
     "name": "stdout",
     "output_type": "stream",
     "text": [
      "a is greater than b\n"
     ]
    }
   ],
   "source": [
    "a = 200\n",
    "b = 33\n",
    "if b > a:\n",
    "  print(\"b is greater than a\")\n",
    "elif a == b:\n",
    "  print(\"a and b are equal\")\n",
    "else:\n",
    "  print(\"a is greater than b\")"
   ]
  },
  {
   "cell_type": "code",
   "execution_count": 16,
   "id": "f91c29d6-5b5b-47e5-bb5d-038cb3742b7c",
   "metadata": {},
   "outputs": [
    {
     "name": "stdout",
     "output_type": "stream",
     "text": [
      "-ve\n"
     ]
    }
   ],
   "source": [
    "num = -80\n",
    "if num>0:\n",
    "    print(\"+ve\")\n",
    "elif num<0:\n",
    "    print(\"-ve\")\n",
    "else:\n",
    "    print(\"zero\")"
   ]
  },
  {
   "cell_type": "code",
   "execution_count": 22,
   "id": "9bc4434f-2826-43fb-8e15-934fcc39cbc7",
   "metadata": {},
   "outputs": [
    {
     "name": "stdin",
     "output_type": "stream",
     "text": [
      "Enter Year 9\n"
     ]
    },
    {
     "name": "stdout",
     "output_type": "stream",
     "text": [
      "not a leap year\n"
     ]
    }
   ],
   "source": [
    "#write a python program TO CHECK GIVEN YEAR IS A LEAP YEAR OR NOT\n",
    "year = int(input(\"Enter Year\"))\n",
    "\n",
    "if year % 4 == 0:\n",
    "    print(\"LEAP YEAR\")\n",
    "else:\n",
    "    print(\"not a leap year\")"
   ]
  },
  {
   "cell_type": "code",
   "execution_count": 1,
   "id": "2c2ffc67-271e-4a07-955d-658819d5464a",
   "metadata": {},
   "outputs": [
    {
     "name": "stdin",
     "output_type": "stream",
     "text": [
      "Enter number: 11\n"
     ]
    },
    {
     "name": "stdout",
     "output_type": "stream",
     "text": [
      "number is odd \n"
     ]
    }
   ],
   "source": [
    "#WRITE A PYTHON PROGRAM TO FIND A GIVEN NUMBER IS EVEN OR ODD\n",
    "num = int(input(\"Enter number:\"))\n",
    "if num % 2 == 0:\n",
    "    print(\"number is even\")\n",
    "else:\n",
    "    print(\"number is odd \")"
   ]
  },
  {
   "cell_type": "code",
   "execution_count": 3,
   "id": "029f9638-3394-488a-8a84-4f0c159b22e3",
   "metadata": {},
   "outputs": [
    {
     "name": "stdout",
     "output_type": "stream",
     "text": [
      "empty list\n"
     ]
    }
   ],
   "source": [
    "#write a python program to check if a list is empty or not\n",
    "list = []\n",
    "if not list :\n",
    "    print(\"empty list\")\n",
    "else:\n",
    "    print(\"not empty\")"
   ]
  },
  {
   "cell_type": "markdown",
   "id": "8833476f-c89e-43bd-9e8f-e6c27b713f80",
   "metadata": {},
   "source": [
    "write a python code to calculate grade of a student\n",
    "\n",
    "- 90> A\n",
    "- 80> b\n",
    "- 70> c\n",
    "- 60> d\n",
    "- 50 > e\n",
    "- 5r0< fail"
   ]
  },
  {
   "cell_type": "code",
   "execution_count": 1,
   "id": "c52480ac-0e39-4b06-844e-28339dcb528e",
   "metadata": {},
   "outputs": [
    {
     "name": "stdin",
     "output_type": "stream",
     "text": [
      "Enter your marks 55\n"
     ]
    },
    {
     "name": "stdout",
     "output_type": "stream",
     "text": [
      "E grade\n"
     ]
    }
   ],
   "source": [
    "a = int (input(\"Enter your marks\"))\n",
    "if a>90:\n",
    "    print(\"A grade\")\n",
    "elif a>80:\n",
    "    print(\"B grade\")\n",
    "elif a>70 :\n",
    "    print(\"C grade\")\n",
    "elif a>60 :\n",
    "    print(\"D grade\")\n",
    "elif a>50 :\n",
    "    print(\"E grade\")\n",
    "else:\n",
    "    print(\"fail\")"
   ]
  },
  {
   "cell_type": "markdown",
   "id": "1445d01a-2896-43e4-8091-6f7cd6542149",
   "metadata": {},
   "source": [
    "Check wheathe rgiven word is a palindrome or not?\n",
    "\n",
    "- Palindrome is word,phase or sequence that reads the same from backwords or forwords"
   ]
  },
  {
   "cell_type": "code",
   "execution_count": 6,
   "id": "6235c88e-e52b-4808-98a4-3878ba39e797",
   "metadata": {},
   "outputs": [
    {
     "name": "stdin",
     "output_type": "stream",
     "text": [
      "Enter any word aha\n"
     ]
    },
    {
     "name": "stdout",
     "output_type": "stream",
     "text": [
      "aha  is a palindrome\n"
     ]
    }
   ],
   "source": [
    "palindrome = input(\"Enter any word\")\n",
    "\n",
    "if palindrome == palindrome[::-1]:\n",
    "    print(palindrome,\" is a palindrome\")\n",
    "else :\n",
    "    print(palindrome,\" is not a palindrome\")"
   ]
  },
  {
   "cell_type": "markdown",
   "id": "b969a784-8d94-4494-af11-a70ec270047d",
   "metadata": {},
   "source": [
    "Write a python program to find the smallest among three numbers"
   ]
  },
  {
   "cell_type": "code",
   "execution_count": 11,
   "id": "a50a7174-ead2-45f7-996f-45c45454afb9",
   "metadata": {},
   "outputs": [
    {
     "name": "stdin",
     "output_type": "stream",
     "text": [
      "Enter a value 12\n",
      "Enter b value 34\n",
      "Enter c value 22\n"
     ]
    },
    {
     "name": "stdout",
     "output_type": "stream",
     "text": [
      "12\n"
     ]
    }
   ],
   "source": [
    "a =int(input(\"Enter a value\"))\n",
    "b =int(input(\"Enter b value\"))\n",
    "c =int(input(\"Enter c value\"))\n",
    "\n",
    "if a<b and a<c:\n",
    "    print(a)\n",
    "elif b<c and b<a:\n",
    "    print(b)\n",
    "else:\n",
    "    print(c)"
   ]
  },
  {
   "cell_type": "markdown",
   "id": "ef35d33a-fa0e-42ac-9f24-3071e0d1212f",
   "metadata": {},
   "source": [
    "Find the second largest number in a list"
   ]
  },
  {
   "cell_type": "code",
   "execution_count": 18,
   "id": "3952dc3a-1ccf-4274-aa28-ad8d2b006a2a",
   "metadata": {},
   "outputs": [
    {
     "name": "stdout",
     "output_type": "stream",
     "text": [
      "45\n"
     ]
    }
   ],
   "source": [
    "list = [12,33,45,68,1]\n",
    "list.sort()\n",
    "list1 = list[-2]\n",
    "print(list1)"
   ]
  },
  {
   "cell_type": "markdown",
   "id": "e80f23cd-4337-43af-bf07-e55bd843be25",
   "metadata": {},
   "source": [
    "Calculate Body Mass Index and Categorize it"
   ]
  },
  {
   "cell_type": "code",
   "execution_count": 65,
   "id": "f3052d3f-424d-4211-a9eb-8b19d5bc2e5d",
   "metadata": {},
   "outputs": [
    {
     "name": "stdin",
     "output_type": "stream",
     "text": [
      "Enter your Weight in Kgs:  75\n",
      "Enter your height in feet:  6.0\n"
     ]
    },
    {
     "name": "stdout",
     "output_type": "stream",
     "text": [
      "Normal\n"
     ]
    }
   ],
   "source": [
    "weight = float(input(\"Enter your Weight in Kgs: \"))\n",
    "height = float(input(\"Enter your height in feet: \"))\n",
    "\n",
    "#feets to meters formula \n",
    "h1 = height * 0.3048\n",
    "\n",
    "bmi = weight / (h1 ** 2)\n",
    "\n",
    "if bmi < 18.5:\n",
    "    print(\"Underweight\")\n",
    "elif 18.5 <= bmi < 25:\n",
    "    print(\"Normal\")\n",
    "elif 25 <= bmi < 30:\n",
    "    print(\"Overweight\")\n",
    "elif bmi >= 30:\n",
    "    print(\"Obesity\")"
   ]
  },
  {
   "cell_type": "markdown",
   "id": "b6e77f64-950a-4caa-bccc-6ae6dd3ff4ac",
   "metadata": {},
   "source": [
    "Python program to check vote eligibilty"
   ]
  },
  {
   "cell_type": "code",
   "execution_count": 70,
   "id": "c17161b2-49e7-49bb-8897-adb0f2fd14d1",
   "metadata": {},
   "outputs": [
    {
     "name": "stdin",
     "output_type": "stream",
     "text": [
      "Enter your age 20\n"
     ]
    },
    {
     "name": "stdout",
     "output_type": "stream",
     "text": [
      "You are eligibile to Vote\n"
     ]
    }
   ],
   "source": [
    "age=int(input(\"Enter your age\"))\n",
    "if age>=18:\n",
    "    print(\"You are eligibile to Vote\")\n",
    "else:\n",
    "    print(\"You are not eligibile to vote\")"
   ]
  },
  {
   "cell_type": "markdown",
   "id": "7583a5d2-f631-4e63-9643-db5ef9d51316",
   "metadata": {},
   "source": [
    "Write a python program to find the person age belong to which group"
   ]
  },
  {
   "cell_type": "code",
   "execution_count": 73,
   "id": "371be23a-bd0d-4824-b82e-10a6a9f24b7b",
   "metadata": {},
   "outputs": [
    {
     "name": "stdin",
     "output_type": "stream",
     "text": [
      "Enter your age 22\n"
     ]
    },
    {
     "name": "stdout",
     "output_type": "stream",
     "text": [
      "School group\n"
     ]
    }
   ],
   "source": [
    "age= int(input(\"Enter your age\"))\n",
    "if age<=22:\n",
    "    print(\"School group\")\n",
    "elif age>22 and age<=50:\n",
    "    print(\"Work group\")\n",
    "else:\n",
    "    print(\"Retire group\")"
   ]
  },
  {
   "cell_type": "code",
   "execution_count": null,
   "id": "003ca8a2-9a24-44e0-9c11-719a55257e6f",
   "metadata": {},
   "outputs": [],
   "source": []
  }
 ],
 "metadata": {
  "kernelspec": {
   "display_name": "Python 3 (ipykernel)",
   "language": "python",
   "name": "python3"
  },
  "language_info": {
   "codemirror_mode": {
    "name": "ipython",
    "version": 3
   },
   "file_extension": ".py",
   "mimetype": "text/x-python",
   "name": "python",
   "nbconvert_exporter": "python",
   "pygments_lexer": "ipython3",
   "version": "3.12.4"
  }
 },
 "nbformat": 4,
 "nbformat_minor": 5
}
