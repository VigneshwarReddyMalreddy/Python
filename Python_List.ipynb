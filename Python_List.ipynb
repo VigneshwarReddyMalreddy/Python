{
 "cells": [
  {
   "cell_type": "markdown",
   "id": "ae640745-1848-402b-94c2-75f85cc0585b",
   "metadata": {},
   "source": [
    "LIST"
   ]
  },
  {
   "cell_type": "markdown",
   "id": "b4291ca4-d99f-44fc-99b8-34e34425c894",
   "metadata": {},
   "source": [
    "1) DEFINE ABOUT LIST WITH EXAMPLE"
   ]
  },
  {
   "cell_type": "markdown",
   "id": "6fe814da-d831-41c0-96e1-41e1091b81ba",
   "metadata": {},
   "source": [
    "- List are used to store multiple items or collection of data in single variable\n",
    "- List are mutable where we can modify elements in the list\n",
    "- List are represented by \"[ ]\" (Square brackets)\n",
    "- List items are started from 0 to infinty\n",
    "- In List the elements are called as index they are in postive and negitive index\n",
    "- The list in index value goes from 0 or -1 to n-1\n",
    "- In list positive elements are start from left(0) to right(n)\n",
    "- In list negitive elements are starts from right(-n) to left(-1)"
   ]
  },
  {
   "cell_type": "markdown",
   "id": "b8c3ba77-a529-47d5-8513-7e5dead9ecee",
   "metadata": {},
   "source": [
    "2) CREATE 10 EXAMPLES FOR LIST FROM DIFFERENT DATA TYPES"
   ]
  },
  {
   "cell_type": "code",
   "execution_count": 34,
   "id": "47aaebbd-f200-4f3b-8541-e12fe8847504",
   "metadata": {},
   "outputs": [
    {
     "name": "stdout",
     "output_type": "stream",
     "text": [
      "int= [1, 23, 34, 54, 67, 88, 95]\n",
      "float= [1.15, 2.43, 3.14, 0.99, 5.46, 16.44]\n",
      "int_float= [14, 3.14, 4.56, 78, 98]\n",
      "complex= [(3+14j), (1+2j), (1+1j), (12+13j), (3.14+2.56j), (3.6+25j)]\n",
      "list= ['python', 'java', 'c++', 'php', 'html', 'swift']\n",
      "Boolean= [True, False, False, True, True]\n",
      "fruits= ['apple', 'banana', 'cherry', 'oranges', 'watermeloan']\n",
      "var= [24, 'apple', 3.14, True, False, (4+5j), (3.1+4.2j)]\n",
      "all= [24, 3.14, 'data_science', (4+6j), True, False, 'apple']\n"
     ]
    }
   ],
   "source": [
    "#examples\n",
    "#int\n",
    "int=[1,23,34,54,67,88,95]\n",
    "print(\"int=\",int)\n",
    "\n",
    "#float\n",
    "float=[1.15,2.43,3.14,0.99,5.46,16.44]\n",
    "print(\"float=\",float)\n",
    "\n",
    "#int and float\n",
    "int_float=[14,3.14,4.56,78,98]\n",
    "print(\"int_float=\",int_float)\n",
    "\n",
    "#complex\n",
    "com=[3+14j,1+2j,1+1j,12+13j,3.14+2.56j,3.600+25j]\n",
    "print(\"complex=\",com)\n",
    "\n",
    "#String\n",
    "list=[\"python\",\"java\",\"c++\",\"php\",\"html\",\"swift\"]\n",
    "print(\"list=\",list)\n",
    "\n",
    "#int_string\n",
    "int_string=[404,\"python\",9,\"Nine\",330,909]\n",
    "int_string=(\"int_string\",int_string)\n",
    "\n",
    "#Boolean\n",
    "bool=[True,False,False,True,True]\n",
    "print(\"Boolean=\",bool)\n",
    "\n",
    "fruits=[\"apple\",\"banana\",\"cherry\",\"oranges\",\"watermeloan\"]\n",
    "print(\"fruits=\",fruits)\n",
    "\n",
    "var=[24,\"apple\",3.14,True,False,4+5j,3.1+4.2j]\n",
    "print(\"var=\",var)\n",
    "\n",
    "all=[24,3.14,\"data_science\",4+6j,True,False,\"apple\"]\n",
    "print(\"all=\",all)"
   ]
  },
  {
   "cell_type": "markdown",
   "id": "e13ac96d-d1f7-444d-bf52-366100869959",
   "metadata": {},
   "source": [
    "3)CREATE A LIST WITH 15 ELEMENTS"
   ]
  },
  {
   "cell_type": "code",
   "execution_count": 37,
   "id": "d349b01a-7715-4044-85cd-7f394984ae1e",
   "metadata": {},
   "outputs": [
    {
     "name": "stdout",
     "output_type": "stream",
     "text": [
      "Index of 0 : 10\n",
      "Index of 3 : 40\n",
      "Index of 5 : 60\n",
      "Index of 10 : 110\n",
      "Index of 14 : 150\n",
      "Index of -1 : 150\n",
      "Index of -4 : 120\n",
      "Index of -6 : 100\n",
      "Index of -8 : 80\n",
      "Index of -15 : 10\n"
     ]
    }
   ],
   "source": [
    "list = [10,20,30,40,50,60,70,80,90,100,110,120,130,140,150]\n",
    "\n",
    "#Positive index\n",
    "print(\"Index of 0 :\",list[0])\n",
    "print(\"Index of 3 :\",list[3])\n",
    "print(\"Index of 5 :\",list[5])\n",
    "print(\"Index of 10 :\",list[10])\n",
    "print(\"Index of 14 :\",list[14])\n",
    "\n",
    "#Negitive index\n",
    "print(\"Index of -1 :\",list[-1])\n",
    "print(\"Index of -4 :\",list[-4])\n",
    "print(\"Index of -6 :\",list[-6])\n",
    "print(\"Index of -8 :\",list[-8])\n",
    "print(\"Index of -15 :\",list[-15])"
   ]
  },
  {
   "cell_type": "markdown",
   "id": "7132c2ba-ee83-4d4d-8ff4-9a773cfdffb3",
   "metadata": {},
   "source": [
    "4) APPLY SLICING ON 15 ELEMENTS WITH POSITIVE AND NEGITIVE INDEX"
   ]
  },
  {
   "cell_type": "code",
   "execution_count": 49,
   "id": "72995035-f1b8-434c-b122-96c028ba6f4a",
   "metadata": {},
   "outputs": [
    {
     "name": "stdout",
     "output_type": "stream",
     "text": [
      "Index of 0 to 15 : [10, 20, 30, 40, 50, 60, 70, 80, 90, 100, 110, 120, 130, 140]\n",
      "Index of 0 to 4 : [10, 20, 30, 40]\n",
      "Index of first 3 : [10, 20, 30]\n",
      "Index of 6 to end : [70, 80, 90, 100, 110, 120, 130, 140, 150]\n",
      "Index of 50 : [10, 20, 30, 40, 50, 60, 70, 80, 90, 100, 110, 120, 130, 140, 150]\n",
      "Index of -10 to -4 : [60, 70, 80, 90, 100, 110]\n",
      "Index of -1 to -15 : [10]\n",
      "Index of first -3 : [10, 20, 30, 40, 50, 60, 70, 80, 90, 100, 110, 120]\n",
      "Index of -6 to -5 : [100]\n",
      "Index of -50 : []\n"
     ]
    }
   ],
   "source": [
    "#Slicing using positive index\n",
    "print(\"Index of 0 to 15 :\",list[0:14])\n",
    "print(\"Index of 0 to 4 :\",list[0:4])\n",
    "print(\"Index of first 3 :\",list[:3])\n",
    "print(\"Index of 6 to end :\",list[6:15])\n",
    "print(\"Index of 50 :\",list[:50])\n",
    "\n",
    "#Slicing using Negitive index\n",
    "print(\"Index of -10 to -4 :\",list[-10:-4])\n",
    "print(\"Index of -1 to -15 :\",list[-0:-14])\n",
    "print(\"Index of first -3 :\",list[:-3])\n",
    "print(\"Index of -6 to -5 :\",list[-6:-5])\n",
    "print(\"Index of -50 :\",list[:-50])"
   ]
  },
  {
   "cell_type": "markdown",
   "id": "6c0720d4-22ca-4c15-9bc2-6bcc63c0dca2",
   "metadata": {},
   "source": [
    "5)CONCATENATION LIST WITH FIVE EXAMPLE"
   ]
  },
  {
   "cell_type": "code",
   "execution_count": 75,
   "id": "452eebf9-f953-4277-9278-586197c00670",
   "metadata": {},
   "outputs": [
    {
     "name": "stdout",
     "output_type": "stream",
     "text": [
      "[1, 23, 34, 54, 67, 88, 95, 1.15, 2.43, 3.14, 0.99, 5.46, 16.44]\n",
      "[1.15, 2.43, 3.14, 0.99, 5.46, 16.44, (3+14j), (1+2j), (1+1j), (12+13j), (3.14+2.56j), (3.6+25j)]\n",
      "[10, 20, 30, 40, 50, 60, 70, 80, 90, 100, 110, 120, 130, 140, 150, 14, 3.14, 4.56, 78, 98]\n",
      "[24, 'apple', 3.14, True, False, (4+5j), (3.1+4.2j), True, False, False, True, True]\n",
      "['apple', 'banana', 'cherry', 'oranges', 'watermeloan', 24, 3.14, 'data_science', (4+6j), True, False, 'apple']\n"
     ]
    }
   ],
   "source": [
    "#Concatenation  list\n",
    "a= int + float\n",
    "print(a)\n",
    "\n",
    "b= float + com\n",
    "print(b)\n",
    "\n",
    "c= list + int_float\n",
    "print(c)\n",
    "\n",
    "d= var + bool\n",
    "print(d)\n",
    "\n",
    "e= fruits + all\n",
    "print(e)"
   ]
  },
  {
   "cell_type": "markdown",
   "id": "397cf7c3-9808-4935-b8ef-cc9a2600412d",
   "metadata": {},
   "source": [
    "6)REPITATION LIST  WITH FIVE EXAMPLES"
   ]
  },
  {
   "cell_type": "code",
   "execution_count": 78,
   "id": "90aae841-2102-4a9b-b7c1-37ed1902d923",
   "metadata": {},
   "outputs": [
    {
     "name": "stdout",
     "output_type": "stream",
     "text": [
      "[1.15, 2.43, 3.14, 0.99, 5.46, 16.44, 1.15, 2.43, 3.14, 0.99, 5.46, 16.44, 1.15, 2.43, 3.14, 0.99, 5.46, 16.44, 1.15, 2.43, 3.14, 0.99, 5.46, 16.44, 1.15, 2.43, 3.14, 0.99, 5.46, 16.44]\n",
      "[1, 23, 34, 54, 67, 88, 95, 1, 23, 34, 54, 67, 88, 95, 1, 23, 34, 54, 67, 88, 95, 1, 23, 34, 54, 67, 88, 95]\n",
      "[1, 23, 34, 54, 67, 88, 95, 1.15, 2.43, 3.14, 0.99, 5.46, 16.44, 1, 23, 34, 54, 67, 88, 95, 1.15, 2.43, 3.14, 0.99, 5.46, 16.44, 1, 23, 34, 54, 67, 88, 95, 1.15, 2.43, 3.14, 0.99, 5.46, 16.44]\n",
      "[24, 'apple', 3.14, True, False, (4+5j), (3.1+4.2j), 24, 'apple', 3.14, True, False, (4+5j), (3.1+4.2j), 24, 'apple', 3.14, True, False, (4+5j), (3.1+4.2j), 24, 'apple', 3.14, True, False, (4+5j), (3.1+4.2j), 24, 'apple', 3.14, True, False, (4+5j), (3.1+4.2j)]\n",
      "['apple', 'banana', 'cherry', 'oranges', 'watermeloan', 'apple', 'banana', 'cherry', 'oranges', 'watermeloan', 'apple', 'banana', 'cherry', 'oranges', 'watermeloan', 'apple', 'banana', 'cherry', 'oranges', 'watermeloan']\n"
     ]
    }
   ],
   "source": [
    "#Repitation List\n",
    "a = float * 5\n",
    "print(a)\n",
    "\n",
    "b = int*4\n",
    "print(b)\n",
    "\n",
    "c = int + float\n",
    "d = c*3\n",
    "print(d)\n",
    "\n",
    "e = var *  5\n",
    "print(e)\n",
    "\n",
    "f= fruits * 4\n",
    "print(f)"
   ]
  },
  {
   "cell_type": "markdown",
   "id": "643ccfea-435e-42d1-a895-792ae41d51ab",
   "metadata": {},
   "source": [
    "7)MODIFICATION OF ELEMENTS IN A LIST OF ELEMENTS USING INDEX AND SLICING"
   ]
  },
  {
   "cell_type": "code",
   "execution_count": 115,
   "id": "524255de-f48b-46f1-b7f4-2e1f32dc9545",
   "metadata": {},
   "outputs": [
    {
     "name": "stdout",
     "output_type": "stream",
     "text": [
      "slicing from 2 to 8 ['banana', 'banana', 'banana', 'banana', 30, 40]\n",
      "slicing frist 8 [160, 'apple', 'banana', 'banana', 'banana', 'banana', 30, 40]\n",
      "slicing from  12 to end  [90, 100, 110, 120, 1500, 1500, 150]\n",
      "slicing total 15 [160, 'apple', 'banana', 'banana', 'banana', 'banana', 30, 40, 50, 60, 70, 80, 90, 100, 110]\n",
      "slicing from 8 to 2 []\n",
      "List =  [160, 'apple', 'banana', 'banana', 'banana', 'banana', 30, 40, 50, 60, 70, 80, 90, 100, 110, 120, 1500, 1500, 150]\n",
      "List =  [160, 'apple', 'banana', 'banana', 'banana', 'banana', 30, 40, 50, 60, 70, 80, 90, 100, 110, 1500, 1500, 1500, 150]\n",
      "List =  [160, 'apple', 'banana', 'banana', 'banana', 'banana', 'banana', 30, 40, 50, 60, 70, 80, 90, 100, 110, 1500, 1500, 1500, 150]\n",
      "List =  [160, 'apple', 'banana', 'banana', 'banana', 'banana', 'banana', 30, 'virat', 'kohili', 60, 70, 80, 90, 100, 110, 1500, 1500, 1500, 150]\n"
     ]
    }
   ],
   "source": [
    "print(\"slicing from 2 to 8\",list[2:8])\n",
    "print(\"slicing frist 8\",list[:8])\n",
    "print(\"slicing from  12 to end \",list[12:])\n",
    "print(\"slicing total 15\",list[:15])\n",
    "print(\"slicing from 8 to 2\",list[8:2])\n",
    "\n",
    "#Modifying 10 with 160\n",
    "list[0]=160\n",
    "print(\"List = \",list)\n",
    "\n",
    "list[15]=1500\n",
    "print(\"List = \",list)\n",
    "\n",
    "#Repalcing 20 and 30 with apple and banana\n",
    "list[1:2]= \"apple\",\"banana\"\n",
    "print(\"List = \",list)\n",
    "\n",
    "list[8:10]= \"virat\",\"kohili\"\n",
    "print(\"List = \",list)"
   ]
  },
  {
   "cell_type": "markdown",
   "id": "9dbbf755-e558-44ba-a657-b62b4ed81904",
   "metadata": {},
   "source": [
    "8)TYPES OF METHODS IN LIST\n"
   ]
  },
  {
   "cell_type": "markdown",
   "id": "ec46a876-2946-4dac-a114-55e4c9230c47",
   "metadata": {},
   "source": [
    "1. append():-\n",
    "\n",
    "    - Adds an element at the end of the list\n",
    "    - The append list can be represented by list.append()"
   ]
  },
  {
   "cell_type": "code",
   "execution_count": 136,
   "id": "a5a53370-a0fa-4d20-8a3a-851a4adf773d",
   "metadata": {},
   "outputs": [
    {
     "name": "stdout",
     "output_type": "stream",
     "text": [
      "[1, 2, 3, 4]\n",
      "[10, 22, 32, 'apple']\n"
     ]
    }
   ],
   "source": [
    "#Example for append\n",
    "list = [1,2,3]\n",
    "list.append(4)\n",
    "print(list)\n",
    "\n",
    "list1 = [10,22,32]\n",
    "list1.append(\"apple\")\n",
    "print(list1)"
   ]
  },
  {
   "cell_type": "markdown",
   "id": "fb383ea8-3a7d-4cad-bc8f-65dcb8ad014c",
   "metadata": {},
   "source": [
    "2. extend():-\n",
    "\n",
    "   - Add the elements of a list( or any iterable) to the end of the current list\n",
    "   - The extend list can be represented by list.extend()"
   ]
  },
  {
   "cell_type": "code",
   "execution_count": 145,
   "id": "682dd754-5248-4bcf-a5b6-3737ad1246e0",
   "metadata": {},
   "outputs": [
    {
     "name": "stdout",
     "output_type": "stream",
     "text": [
      "[10, 22, 32, 'apple', 23, 33, 45, 22, 76, 23, 33, 45, 22, 76, 23, 33, 45, 22, 76]\n",
      "[13.2, 34.6, 54.6, 78.6, 88.8, 12, 13, 14, 15, 16, 17]\n"
     ]
    }
   ],
   "source": [
    "#Example for extend\n",
    "list2 = [23,33,45,22,76]\n",
    "list1.extend(list2)\n",
    "print(list1)\n",
    "\n",
    "int = [12,13,14,15,16,17]\n",
    "float = [13.2,34.6,54.6,78.6,88.8]\n",
    "float.extend(int)\n",
    "print(float)"
   ]
  },
  {
   "cell_type": "markdown",
   "id": "7c81bd47-cadd-4731-aff6-72a645b33ff7",
   "metadata": {},
   "source": [
    "3. Insert\n",
    "\n",
    "   - Adds an element at the specified position\n",
    "   - The insert list can be represented by list.insert()"
   ]
  },
  {
   "cell_type": "code",
   "execution_count": 156,
   "id": "f28c29d5-7ae4-4ce2-b0de-8f96dd87a046",
   "metadata": {},
   "outputs": [
    {
     "name": "stdout",
     "output_type": "stream",
     "text": [
      "['apple', 'cherry', 'orange', 'watermelon', 12]\n",
      "[1, 9, 2, 3]\n"
     ]
    }
   ],
   "source": [
    "#Example for insert\n",
    "fruit = [\"apple\",\"cherry\",\"orange\",\"watermelon\"]\n",
    "fruit.insert(12,12)\n",
    "print(fruit)\n",
    "\n",
    "a=[1,2,3]\n",
    "a.insert(1,9)\n",
    "print(a)"
   ]
  },
  {
   "cell_type": "markdown",
   "id": "09dcd95d-8909-499f-9f17-b816f66b7ce4",
   "metadata": {},
   "source": [
    "4. remove():-\n",
    "\n",
    "    - Removes the item with the specified value\n",
    "    - remove list is represented by list.remove()"
   ]
  },
  {
   "cell_type": "code",
   "execution_count": 161,
   "id": "c0f781c6-6fd0-4e87-bd74-9e8a6be91495",
   "metadata": {},
   "outputs": [
    {
     "name": "stdout",
     "output_type": "stream",
     "text": [
      "['cherry', 'orange', 'watermelon']\n",
      "[1, 3, 2, 3, 4]\n"
     ]
    }
   ],
   "source": [
    "#Example for remove\n",
    "fruit = [\"apple\",\"cherry\",\"orange\",\"watermelon\"]\n",
    "fruit.remove(\"apple\")\n",
    "print(fruit)\n",
    "\n",
    "a = [1,2,3,2,3,4]\n",
    "a.remove(2)\n",
    "print(a)"
   ]
  },
  {
   "cell_type": "markdown",
   "id": "6f500f1c-6407-4d06-a52a-b4e829b7bbf8",
   "metadata": {},
   "source": [
    "5. pop():-\n",
    "\n",
    "   - pop list will removes the element at the specified position\n",
    "   - pop list is represented by list.pop()"
   ]
  },
  {
   "cell_type": "code",
   "execution_count": 166,
   "id": "bf4e6229-00f2-402a-aa5a-0e36fa61dbb3",
   "metadata": {},
   "outputs": [
    {
     "name": "stdout",
     "output_type": "stream",
     "text": [
      "['virat', 'kohili', 'rohith']\n",
      "['python', 'java', 'r']\n"
     ]
    }
   ],
   "source": [
    "#Example for pop\n",
    "india = [\"virat\",\"kohili\",\"rohith\",\"sharma\"]\n",
    "india.pop(3)\n",
    "print(india)\n",
    "\n",
    "lang = [\"python\",\"c++\",\"java\",\"r\"]\n",
    "lang.pop(-3)\n",
    "print(lang)"
   ]
  },
  {
   "cell_type": "markdown",
   "id": "aeaede84-905e-40ad-ba72-5ab39531dd60",
   "metadata": {},
   "source": [
    "6. index():-\n",
    "\n",
    "    - Returns the index of the first element withthe specified value\n",
    "    - The index list is represnted by list.index() "
   ]
  },
  {
   "cell_type": "code",
   "execution_count": 177,
   "id": "3fea52ad-6d64-4b2a-b48e-1aaf728efbe9",
   "metadata": {},
   "outputs": [
    {
     "name": "stdout",
     "output_type": "stream",
     "text": [
      "0\n",
      "3\n"
     ]
    }
   ],
   "source": [
    "#Example for index\n",
    "india = [\"virat\",\"kohili\",\"rohith\",\"sharma\"]\n",
    "index = india.index(\"virat\")\n",
    "print(index)\n",
    "\n",
    "lang = [\"python\",\"c++\",\"java\",\"r\"]\n",
    "index = lang.index(\"r\")\n",
    "print(index)"
   ]
  },
  {
   "cell_type": "markdown",
   "id": "d2c1734c-d4ab-4d44-90eb-0a2d241d0ab1",
   "metadata": {},
   "source": [
    "7. count():-\n",
    "\n",
    "    - return the number of elements with specified value\n",
    "    - count list can be represented by list.count()"
   ]
  },
  {
   "cell_type": "code",
   "execution_count": 186,
   "id": "c3670885-4f21-4539-a6d2-1f5739a4ddb6",
   "metadata": {},
   "outputs": [
    {
     "name": "stdout",
     "output_type": "stream",
     "text": [
      "1\n",
      "4\n"
     ]
    }
   ],
   "source": [
    "#Example for count\n",
    "india = [\"virat\",\"kohili\",\"rohith\",\"sharma\"]\n",
    "a = india.count(\"virat\")\n",
    "print(a)\n",
    "\n",
    "a = [1,2,4,3,2,4,3,5,6,6,6,6]\n",
    "b = a.count(6)\n",
    "print(b)"
   ]
  },
  {
   "cell_type": "markdown",
   "id": "20c3affa-6f08-4c0d-b08e-513a9ed232f8",
   "metadata": {},
   "source": [
    "8. sort():-\n",
    "\n",
    "   - sorts the list in ascending order\n",
    "   - sorting list can be represeted by list.sort()"
   ]
  },
  {
   "cell_type": "code",
   "execution_count": 15,
   "id": "36814b8a-5a68-4bc4-858a-b48602a1e221",
   "metadata": {},
   "outputs": [
    {
     "name": "stdout",
     "output_type": "stream",
     "text": [
      "asceding order =  [1, 2, 2, 3, 3, 4, 4, 5, 6, 6, 6, 6]\n",
      "descinding order =  [6, 6, 6, 6, 5, 4, 4, 3, 3, 2, 2, 1]\n",
      "['ROhith', 'Virat', 'kohiLi', 'sharma']\n",
      "['sharma', 'kohiLi', 'Virat', 'ROhith']\n"
     ]
    }
   ],
   "source": [
    "#Example for sort\n",
    "a = [1,2,4,3,2,4,3,5,6,6,6,6]\n",
    "a.sort()\n",
    "print(\"asceding order = \",a)\n",
    "\n",
    "a.sort(reverse=True)\n",
    "print(\"descinding order = \",a)\n",
    "\n",
    "\n",
    "india = [\"Virat\",\"kohiLi\",\"ROhith\",\"sharma\"]\n",
    "india.sort()\n",
    "print(india)\n",
    "\n",
    "india.sort(reverse=True)\n",
    "print(india)"
   ]
  },
  {
   "cell_type": "markdown",
   "id": "0e809ac9-c9bd-406c-a491-e91a7150c55d",
   "metadata": {},
   "source": [
    "9. reverse():-\n",
    "\n",
    "    - reverse the order of the list in the list\n",
    "    - reverse list can be represented by list.reverse()"
   ]
  },
  {
   "cell_type": "code",
   "execution_count": 6,
   "id": "8669e6c0-5bce-4302-a301-65db687dffa2",
   "metadata": {},
   "outputs": [
    {
     "name": "stdout",
     "output_type": "stream",
     "text": [
      "[6, 6, 6, 6, 5, 3, 4, 2, 3, 4, 2, 1]\n",
      "['sharma', 'ROhith', 'kohiLi', 'Virat']\n"
     ]
    }
   ],
   "source": [
    "#Example for reverse\n",
    "a = [1,2,4,3,2,4,3,5,6,6,6,6]\n",
    "a.reverse()\n",
    "print(a)\n",
    "\n",
    "india = [\"Virat\",\"kohiLi\",\"ROhith\",\"sharma\"]\n",
    "india.reverse()\n",
    "print(india)"
   ]
  },
  {
   "cell_type": "markdown",
   "id": "9a6224bd-3a97-4479-9924-0ac585a57094",
   "metadata": {},
   "source": [
    "10. clear()\n",
    "\n",
    "    - removes all the elements from the list and makes list empty\n",
    "    - clear list can be reprsented with list.clear()"
   ]
  },
  {
   "cell_type": "code",
   "execution_count": 9,
   "id": "72d1168f-0988-450b-a9f8-91a014d66f53",
   "metadata": {},
   "outputs": [
    {
     "name": "stdout",
     "output_type": "stream",
     "text": [
      "[]\n",
      "[]\n"
     ]
    }
   ],
   "source": [
    "#example for clear\n",
    "a = [1,2,4,3,2,4,3,5,6,6,6,6]\n",
    "a.clear()\n",
    "print(a)\n",
    "\n",
    "india = [\"Virat\",\"kohiLi\",\"ROhith\",\"sharma\"]\n",
    "india.clear()\n",
    "print(india)"
   ]
  },
  {
   "cell_type": "markdown",
   "id": "647fdb17-df0d-4cbf-bbd2-f326826b606d",
   "metadata": {},
   "source": [
    "11. copy():-\n",
    "\n",
    "    - copy list will be copy the elements present in the list\n",
    "    - copy list can be represented by list.copy "
   ]
  },
  {
   "cell_type": "code",
   "execution_count": 12,
   "id": "cecde6ea-c5ea-434b-8ca2-4c1c9b1955eb",
   "metadata": {},
   "outputs": [
    {
     "name": "stdout",
     "output_type": "stream",
     "text": [
      "['virat', 'kohili', 'rohith', 'sharma']\n",
      "[1, 2, 4, 3, 2, 4, 3, 5, 6, 6, 6, 6]\n"
     ]
    }
   ],
   "source": [
    "#Example for copy\n",
    "india = [\"virat\",\"kohili\",\"rohith\",\"sharma\"]\n",
    "a = india.copy()\n",
    "print(a)\n",
    "\n",
    "a = [1,2,4,3,2,4,3,5,6,6,6,6]\n",
    "b = a.copy()\n",
    "print(b)"
   ]
  },
  {
   "cell_type": "code",
   "execution_count": null,
   "id": "855add68-a649-42a3-b872-0768b233f0d2",
   "metadata": {},
   "outputs": [],
   "source": []
  },
  {
   "cell_type": "code",
   "execution_count": null,
   "id": "9f1a4a3a-8faa-4156-a865-0c4bd4b94062",
   "metadata": {},
   "outputs": [],
   "source": []
  }
 ],
 "metadata": {
  "kernelspec": {
   "display_name": "Python 3 (ipykernel)",
   "language": "python",
   "name": "python3"
  },
  "language_info": {
   "codemirror_mode": {
    "name": "ipython",
    "version": 3
   },
   "file_extension": ".py",
   "mimetype": "text/x-python",
   "name": "python",
   "nbconvert_exporter": "python",
   "pygments_lexer": "ipython3",
   "version": "3.12.4"
  }
 },
 "nbformat": 4,
 "nbformat_minor": 5
}
