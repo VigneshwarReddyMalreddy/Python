{
 "cells": [
  {
   "cell_type": "markdown",
   "id": "a25474f9-bcb8-4130-97ad-e0462c44a045",
   "metadata": {},
   "source": [
    "1) Define Sets"
   ]
  },
  {
   "cell_type": "markdown",
   "id": "c00d53ca-c035-443a-9cbe-2a53ed0bf8e1",
   "metadata": {},
   "source": [
    "- A set is a unordered collection od unique items\n",
    "- They are defined using curly braces {} and seperated by commas\n",
    "- They are mutable and do not allow duplicate items in it\n",
    "- we can also perform varous opertions like union, intersection etc in sets"
   ]
  },
  {
   "cell_type": "markdown",
   "id": "1077db59-9a3a-49dd-ba2c-d0e716614bd3",
   "metadata": {},
   "source": [
    "2) Example of Sets"
   ]
  },
  {
   "cell_type": "markdown",
   "id": "cb5edeaf-6810-4ae2-ae24-7db2de67149b",
   "metadata": {},
   "source": [
    "- a ={12,23,54,55,1,22,900,33}\n",
    "- fruits = {\"apple\",\"banana\",\"cherry\"}\n",
    "- float = {1.2,2.33,3.18,0.99}\n",
    "- int={-11,-22,0,444,9879}\n",
    "- bool={\"True\",\"False\"}\n",
    "- cricket={\"virat\",\"rohith\",\"surya\"}\n",
    "- a= {\"data\",\"science\",\"teks\",\"acadamy\"}"
   ]
  },
  {
   "cell_type": "markdown",
   "id": "fec4a024-346f-43e5-8ee3-d4932cae4903",
   "metadata": {},
   "source": [
    "3) Convert One type to another set"
   ]
  },
  {
   "cell_type": "code",
   "execution_count": 9,
   "id": "13bd0b01-5ec2-442f-9184-b0a2b28edf11",
   "metadata": {},
   "outputs": [
    {
     "name": "stdout",
     "output_type": "stream",
     "text": [
      "{1, 33, 900, 12, 23, 54, 55, 22}\n",
      "<class 'set'>\n"
     ]
    }
   ],
   "source": [
    "a =(12,23,54,55,1,22,900,33)\n",
    "b=set(a)\n",
    "print(b)\n",
    "print(type(b))"
   ]
  },
  {
   "cell_type": "code",
   "execution_count": 11,
   "id": "389fc6b7-89ab-44b0-84fb-7e26427f568f",
   "metadata": {},
   "outputs": [
    {
     "name": "stdout",
     "output_type": "stream",
     "text": [
      "{'teks', 'science', 'data', 'acadamy'}\n",
      "<class 'set'>\n"
     ]
    }
   ],
   "source": [
    "a= (\"data\",\"science\",\"teks\",\"acadamy\")\n",
    "b=set(a)\n",
    "print(b)\n",
    "print(type(b))"
   ]
  },
  {
   "cell_type": "code",
   "execution_count": 13,
   "id": "18f1bfa2-e674-4933-a4fd-c514fc3f92d7",
   "metadata": {},
   "outputs": [
    {
     "name": "stdout",
     "output_type": "stream",
     "text": [
      "{'apple', 'banana', 'cherry'}\n",
      "<class 'set'>\n"
     ]
    }
   ],
   "source": [
    "fruits = {\"apple\",\"banana\",\"cherry\"}\n",
    "print(fruits)\n",
    "print(type(fruits))"
   ]
  },
  {
   "cell_type": "markdown",
   "id": "69ae3177-5a50-4d7d-b94c-9a1f5ad15428",
   "metadata": {},
   "source": [
    "4) Adding and Updating Sets"
   ]
  },
  {
   "cell_type": "code",
   "execution_count": 16,
   "id": "da0f60a6-80cd-41b0-a77e-b5feb750ea40",
   "metadata": {},
   "outputs": [
    {
     "name": "stdout",
     "output_type": "stream",
     "text": [
      "{1, 33, 900, 12, 55, 54, 23, 22}\n",
      "updated: {1, 33, 900, 12, 77, 55, 54, 23, 22}\n"
     ]
    }
   ],
   "source": [
    "a={12,23,54,55,1,22,900,33}\n",
    "print(a)\n",
    "a.add(77,)\n",
    "print(\"updated:\",a)"
   ]
  },
  {
   "cell_type": "code",
   "execution_count": 18,
   "id": "65b004ab-3b0a-4925-b973-dcda9c1a8b3c",
   "metadata": {},
   "outputs": [
    {
     "name": "stdout",
     "output_type": "stream",
     "text": [
      "{'acadamy', 'hitech', 'science', 'data', 'teks'}\n"
     ]
    }
   ],
   "source": [
    "data= {\"data\",\"science\",\"teks\",\"acadamy\"}\n",
    "data.add(\"hitech\")\n",
    "print(data)"
   ]
  },
  {
   "cell_type": "code",
   "execution_count": 36,
   "id": "e2ddc9b3-abfb-4730-965b-b4d780a6b0de",
   "metadata": {},
   "outputs": [
    {
     "name": "stdout",
     "output_type": "stream",
     "text": [
      "{'virat', 'kohili', 'rohith', 'surya'}\n"
     ]
    }
   ],
   "source": [
    "cricket={\"virat\",\"rohith\",\"surya\"}\n",
    "cricket.add(\"kohili\")\n",
    "print(cricket)"
   ]
  },
  {
   "cell_type": "code",
   "execution_count": 38,
   "id": "f0e56ec0-c1d7-4c91-8ad2-f17c50d0f71f",
   "metadata": {},
   "outputs": [
    {
     "name": "stdout",
     "output_type": "stream",
     "text": [
      "{'apple', 'orange', 'banana', 'cherry'}\n"
     ]
    }
   ],
   "source": [
    "fruits = {\"apple\",\"banana\",\"cherry\"}\n",
    "fruits.add(\"orange\")\n",
    "print(fruits)"
   ]
  },
  {
   "cell_type": "code",
   "execution_count": 40,
   "id": "3afbecfe-c0e4-443a-8728-d93e5e02441b",
   "metadata": {},
   "outputs": [
    {
     "name": "stdout",
     "output_type": "stream",
     "text": [
      "{1, 2, 3, 4, 5, 6, 7, 8, 3.67, 11, 45.87, 23.09}\n"
     ]
    }
   ],
   "source": [
    "num= {1,2,3,4,5,6,7,8}\n",
    "int={23.09,11,45.87,3.67}\n",
    "num.update(int)\n",
    "print(num)"
   ]
  },
  {
   "cell_type": "markdown",
   "id": "88ff812b-ba69-4840-ae74-d3d3df6f17fb",
   "metadata": {},
   "source": [
    "5) Removing elements from sets"
   ]
  },
  {
   "cell_type": "code",
   "execution_count": 43,
   "id": "27443c2d-bb14-422c-8cac-973e3973f0ce",
   "metadata": {},
   "outputs": [
    {
     "name": "stdout",
     "output_type": "stream",
     "text": [
      "{'apple', 'banana'}\n"
     ]
    }
   ],
   "source": [
    "fruits = {\"apple\",\"banana\",\"cherry\"}\n",
    "fruits.discard(\"cherry\")\n",
    "print(fruits)"
   ]
  },
  {
   "cell_type": "code",
   "execution_count": 45,
   "id": "3cff50cc-96c6-4996-a38e-90615ac81b42",
   "metadata": {},
   "outputs": [
    {
     "name": "stdout",
     "output_type": "stream",
     "text": [
      "{'virat', 'rohith'}\n"
     ]
    }
   ],
   "source": [
    "cricket={\"virat\",\"rohith\",\"surya\"}\n",
    "cricket.discard(\"surya\")\n",
    "print(cricket)"
   ]
  },
  {
   "cell_type": "code",
   "execution_count": 47,
   "id": "9cbd5843-41aa-4f26-b9b0-a9869a98c45c",
   "metadata": {},
   "outputs": [
    {
     "name": "stdout",
     "output_type": "stream",
     "text": [
      "{1, 2, 3, 4, 6, 7, 8}\n"
     ]
    }
   ],
   "source": [
    "num= {1,2,3,4,5,6,7,8}\n",
    "num.discard(5)\n",
    "print(num)"
   ]
  },
  {
   "cell_type": "markdown",
   "id": "e8f03bec-bdd8-4953-9606-3f402ca05067",
   "metadata": {},
   "source": [
    "6) Set Operations"
   ]
  },
  {
   "cell_type": "code",
   "execution_count": 50,
   "id": "c0462b37-ac29-47d1-9dfd-bc8e1f5369ef",
   "metadata": {},
   "outputs": [
    {
     "name": "stdout",
     "output_type": "stream",
     "text": [
      "{1, 2, 3, 4, 5, 6, 7, 8, 3.67, 11, 45.87, 23.09}\n"
     ]
    }
   ],
   "source": [
    "# union- It combines elements in two sets\n",
    "num= {1,2,3,4,5,6,7,8}\n",
    "int={23.09,11,45.87,3.67}\n",
    "print(num.union(int))"
   ]
  },
  {
   "cell_type": "code",
   "execution_count": 52,
   "id": "a84e6990-75f0-466b-a6c6-b3f0093be134",
   "metadata": {},
   "outputs": [
    {
     "name": "stdout",
     "output_type": "stream",
     "text": [
      "{'onion', 'beetroot', 'garlic', ' cauliflower', 'ladysfinger', 'tomato', 'carrot', ' brinjal'}\n"
     ]
    }
   ],
   "source": [
    "veg={\"carrot\",\" brinjal\", \"ladysfinger\",\"tomato\"}\n",
    "new_veg={\"beetroot\",\" cauliflower\", \"garlic\",\"onion\"}\n",
    "print(new_veg|veg)"
   ]
  },
  {
   "cell_type": "code",
   "execution_count": 54,
   "id": "88415e86-280e-43a7-9d54-e33e63304dc4",
   "metadata": {},
   "outputs": [
    {
     "name": "stdout",
     "output_type": "stream",
     "text": [
      "{1, 4, 22, 78}\n"
     ]
    }
   ],
   "source": [
    "# intersection- It returns the elements which are common in two sets\n",
    "old={1, 4, 3, 23, 78, 22,}\n",
    "updated= {1, 4, 5, 6, 45, 78, 22, 90}\n",
    "print(old.intersection(updated))"
   ]
  },
  {
   "cell_type": "code",
   "execution_count": 58,
   "id": "a0549c7b-419b-456c-a3e1-3c03ebdafac0",
   "metadata": {},
   "outputs": [
    {
     "name": "stdout",
     "output_type": "stream",
     "text": [
      "{1, 5, 22, 23, 90}\n"
     ]
    }
   ],
   "source": [
    "a={23,4,78,90,22,22,1,22,5,6,1, 4, 90, 34, 4, 90, 22}\n",
    "b={23,14,8,100,1,5, 54, 90, 22}\n",
    "print(a&b)"
   ]
  },
  {
   "cell_type": "code",
   "execution_count": 60,
   "id": "e10b72fb-df90-4b36-bc03-f466698a418d",
   "metadata": {},
   "outputs": [
    {
     "name": "stdout",
     "output_type": "stream",
     "text": [
      "{23}\n"
     ]
    }
   ],
   "source": [
    "mixed={23, \"iddu\", 'false ', 34.90}\n",
    "mixed_new={23,\"none\", 1000}\n",
    "print(mixed&mixed_new)"
   ]
  },
  {
   "cell_type": "code",
   "execution_count": 62,
   "id": "58835e66-0413-448d-bc6f-392318b57903",
   "metadata": {},
   "outputs": [
    {
     "name": "stdout",
     "output_type": "stream",
     "text": [
      "{78, 34, 4, 6}\n"
     ]
    }
   ],
   "source": [
    "# difference- returns the elements which are presnt in the first set but not in the second,\n",
    "a={23,4,78,90,22,22,1,22,5,6,1, 4, 90, 34, 4, 90, 22}\n",
    "b={23,14,8,100,1,5, 54, 90, 22}\n",
    "print(a-b)"
   ]
  },
  {
   "cell_type": "code",
   "execution_count": 64,
   "id": "4a08e864-7bb8-4ed5-8193-ba18a4089d40",
   "metadata": {},
   "outputs": [
    {
     "name": "stdout",
     "output_type": "stream",
     "text": [
      "{3, 23}\n"
     ]
    }
   ],
   "source": [
    "old={1, 4, 3, 23, 78, 22,}\n",
    "updated= {1, 4, 5, 6, 45, 78, 22, 90}\n",
    "print(old.difference(updated))"
   ]
  },
  {
   "cell_type": "code",
   "execution_count": 66,
   "id": "3664f5c1-b91a-467b-a6fb-c611b7dbd1c8",
   "metadata": {},
   "outputs": [
    {
     "name": "stdout",
     "output_type": "stream",
     "text": [
      "{0.78, 21.67}\n"
     ]
    }
   ],
   "source": [
    "d= {23.09, 12, 89,31.4, 80,97.3}\n",
    "c= { 12,80,21.67,0.78}\n",
    "print(c-d)"
   ]
  },
  {
   "cell_type": "code",
   "execution_count": 68,
   "id": "56dcbceb-3ec3-4186-8854-4e921f386386",
   "metadata": {},
   "outputs": [
    {
     "name": "stdout",
     "output_type": "stream",
     "text": [
      "{34.9, 1000, 'false ', 'iddu', 'none'}\n"
     ]
    }
   ],
   "source": [
    "#set symmetric difference- It returns the  elemnets that are ineither of the sets but not in both\n",
    "mixed={23, \"iddu\", 'false ', 34.90}\n",
    "mixed_new={23,\"none\", 1000}\n",
    "print(mixed^mixed_new)"
   ]
  },
  {
   "cell_type": "code",
   "execution_count": 70,
   "id": "d9ef6c5d-69fc-4466-b455-e0d1ed7f1188",
   "metadata": {},
   "outputs": [
    {
     "name": "stdout",
     "output_type": "stream",
     "text": [
      "{3, 5, 6, 45, 23, 90}\n"
     ]
    }
   ],
   "source": [
    "old={1, 4, 3, 23, 78, 22,}\n",
    "updated= {1, 4, 5, 6, 45, 78, 22, 90}\n",
    "print(old.symmetric_difference(updated))"
   ]
  },
  {
   "cell_type": "code",
   "execution_count": 72,
   "id": "3bfef898-00a1-441f-a613-7635d2ac3b1f",
   "metadata": {},
   "outputs": [
    {
     "name": "stdout",
     "output_type": "stream",
     "text": [
      "{' onion', ' tomato', 'onion', 'beetroot', 'ladysfinger', 'tomato', 'carrot'}\n",
      "{' onion', ' tomato', 'onion', 'beetroot', 'ladysfinger', 'tomato', 'carrot'}\n"
     ]
    }
   ],
   "source": [
    "veg={\"carrot\",\" onion\", \"ladysfinger\",\"tomato\"}\n",
    "new={\"beetroot\",\" tomato\",\"onion\"}\n",
    "print(veg.symmetric_difference(new))\n",
    "print(veg^new)"
   ]
  },
  {
   "cell_type": "markdown",
   "id": "bbc5e73e-29dc-465c-b9ce-9ca1fc16aefc",
   "metadata": {},
   "source": [
    "7) Methods in sets"
   ]
  },
  {
   "cell_type": "markdown",
   "id": "13bd2c09-2220-4c4e-b659-5d3a8f2111be",
   "metadata": {},
   "source": [
    "1) ADD"
   ]
  },
  {
   "cell_type": "code",
   "execution_count": 76,
   "id": "3f1510db-840c-44b0-abc1-eb6237e86f2b",
   "metadata": {},
   "outputs": [
    {
     "name": "stdout",
     "output_type": "stream",
     "text": [
      "{98, 12, 45, 21.3, 23.4}\n"
     ]
    }
   ],
   "source": [
    "#example\n",
    "data= {12, 45, 23.4, 98}\n",
    "data.add(21.3)\n",
    "print(data)"
   ]
  },
  {
   "cell_type": "markdown",
   "id": "3fb13139-0624-4151-8ce3-d7ea4a8d2dd0",
   "metadata": {},
   "source": [
    "2) CLEAR"
   ]
  },
  {
   "cell_type": "code",
   "execution_count": 79,
   "id": "0a9a2aad-a8a0-47dc-b190-98cf1afd3376",
   "metadata": {},
   "outputs": [
    {
     "name": "stdout",
     "output_type": "stream",
     "text": [
      "set()\n"
     ]
    }
   ],
   "source": [
    "old={1, 4, 3, 23, 78, 22,}\n",
    "old.clear()\n",
    "print(old)"
   ]
  },
  {
   "cell_type": "markdown",
   "id": "0a396cd0-e88c-4261-8cb4-227e73337158",
   "metadata": {},
   "source": [
    "3) COPY"
   ]
  },
  {
   "cell_type": "code",
   "execution_count": 82,
   "id": "35297cd8-eea1-46e9-84b1-5827fbcf64b7",
   "metadata": {},
   "outputs": [
    {
     "name": "stdout",
     "output_type": "stream",
     "text": [
      "{80, 0.78, 12, 21.67}\n"
     ]
    }
   ],
   "source": [
    "#example\n",
    "c= { 12,80,21.67,0.78}\n",
    "c.copy()\n",
    "print(c)"
   ]
  },
  {
   "cell_type": "markdown",
   "id": "f1055faf-19c7-4cb5-bf37-36346073e4c5",
   "metadata": {},
   "source": [
    "4) DIFFERENCE"
   ]
  },
  {
   "cell_type": "code",
   "execution_count": 85,
   "id": "daaaadb8-f335-46d2-aac7-ef5832f7ea91",
   "metadata": {},
   "outputs": [
    {
     "name": "stdout",
     "output_type": "stream",
     "text": [
      "{78, 34, 4, 6}\n"
     ]
    }
   ],
   "source": [
    "#example\n",
    "a={23,4,78,90,22,22,1,22,5,6,1, 4, 90, 34, 4, 90, 22}\n",
    "b={23,14,8,100,1,5, 54, 90, 22}\n",
    "print(a-b)"
   ]
  },
  {
   "cell_type": "markdown",
   "id": "b15590ab-f572-4ce9-80d1-8750d3cadde0",
   "metadata": {},
   "source": [
    "5) DIFFERENCE_UPDATE"
   ]
  },
  {
   "cell_type": "code",
   "execution_count": 90,
   "id": "e9177432-0fa4-4427-82c1-b50fa7b2968c",
   "metadata": {},
   "outputs": [
    {
     "name": "stdout",
     "output_type": "stream",
     "text": [
      "{1, 2}\n"
     ]
    }
   ],
   "source": [
    "a = {1, 2, 3, 4, 7}\n",
    "b = {3, 4, 5, 6, 7}\n",
    "a.difference_update(b)\n",
    "print(a)"
   ]
  },
  {
   "cell_type": "markdown",
   "id": "e59b5775-9056-4883-bd27-da083ca7c6e4",
   "metadata": {},
   "source": [
    "6) DISCARD-(REMOVE)"
   ]
  },
  {
   "cell_type": "code",
   "execution_count": 97,
   "id": "56b16b53-1936-4e23-82a8-5ffd68ace399",
   "metadata": {},
   "outputs": [
    {
     "name": "stdout",
     "output_type": "stream",
     "text": [
      "{'beetroot', 'garlic', ' cauliflower'}\n"
     ]
    }
   ],
   "source": [
    "#example\n",
    "new_vegetables={\"beetroot\",\" cauliflower\", \"garlic\",\"onion\"}\n",
    "removed=new_vegetables.discard(\"onion\")\n",
    "print(new_vegetables)"
   ]
  },
  {
   "cell_type": "markdown",
   "id": "be0a261c-addc-48ca-bf77-99270ee633e7",
   "metadata": {},
   "source": [
    "7) INTERSECTION_UPDATE"
   ]
  },
  {
   "cell_type": "code",
   "execution_count": 101,
   "id": "ae6b8721-6fc4-48c6-a15a-563f31be921b",
   "metadata": {},
   "outputs": [
    {
     "name": "stdout",
     "output_type": "stream",
     "text": [
      "{3, 4, 7}\n"
     ]
    }
   ],
   "source": [
    "a = {1, 2, 3, 4, 7}\n",
    "b = {3, 4, 5, 6, 7}\n",
    "a.intersection_update(b)\n",
    "print(a)"
   ]
  },
  {
   "cell_type": "markdown",
   "id": "d4268d74-f47e-4046-bc8e-5d86779863c0",
   "metadata": {},
   "source": [
    "9) UNION"
   ]
  },
  {
   "cell_type": "code",
   "execution_count": 106,
   "id": "dbc6f977-bccf-4693-a613-b652b6de4ae3",
   "metadata": {},
   "outputs": [
    {
     "name": "stdout",
     "output_type": "stream",
     "text": [
      "{1, 2, 3, 4, 5, 6, 7, 8, 3.67, 11, 45.87, 23.09}\n"
     ]
    }
   ],
   "source": [
    "num= {1,2,3,4,5,6,7,8}\n",
    "int={23.09,11,45.87,3.67}\n",
    "print(num.union(int))"
   ]
  },
  {
   "cell_type": "markdown",
   "id": "16c03367-a7d7-46fa-9228-f9d400d787f8",
   "metadata": {},
   "source": [
    "10) UPDATE"
   ]
  },
  {
   "cell_type": "code",
   "execution_count": 109,
   "id": "9df46088-953b-4a40-a5aa-3da2a1be0331",
   "metadata": {},
   "outputs": [
    {
     "name": "stdout",
     "output_type": "stream",
     "text": [
      "{34.9, 23, 'iddu', 1000, 'none', 'false '}\n"
     ]
    }
   ],
   "source": [
    "mixed={23, \"iddu\", 'false ', 34.90}\n",
    "mixed_new={23,\"none\", 1000}\n",
    "mixed.update(mixed_new)\n",
    "print(mixed)"
   ]
  },
  {
   "cell_type": "markdown",
   "id": "c426d42b-c652-48f8-8a96-7d01a6a1c595",
   "metadata": {},
   "source": [
    "11) REMOVE"
   ]
  },
  {
   "cell_type": "code",
   "execution_count": 112,
   "id": "49c5dbb3-0f41-42dd-a4d2-fcdf23a1305d",
   "metadata": {},
   "outputs": [
    {
     "name": "stdout",
     "output_type": "stream",
     "text": [
      "{'acting', 'art', 'roleplay', 'writing', 'dance'}\n"
     ]
    }
   ],
   "source": [
    "x={\"music\", \"dance\",\"art\",\"roleplay\",\"writing\",\"acting\"}\n",
    "x.remove(\"music\")\n",
    "print(x)"
   ]
  },
  {
   "cell_type": "markdown",
   "id": "2b804651-9d1d-4999-a330-0e94876d572e",
   "metadata": {},
   "source": [
    "12) SYMMENTRIC DIFFERENE"
   ]
  },
  {
   "cell_type": "code",
   "execution_count": 120,
   "id": "e9288bb9-b9d3-430c-bf3f-b1742006eb68",
   "metadata": {},
   "outputs": [
    {
     "name": "stdout",
     "output_type": "stream",
     "text": [
      "{34.9, 1000, 'false ', 'iddu', 'none'}\n"
     ]
    }
   ],
   "source": [
    "# example\n",
    "mixed={23, \"iddu\", 'false ', 34.90}\n",
    "mixed_new={23,\"none\", 1000}\n",
    "print(mixed^mixed_new)"
   ]
  },
  {
   "cell_type": "markdown",
   "id": "4efc248e-d707-41c8-855a-15b5adc0504c",
   "metadata": {},
   "source": [
    "13) SYMMENTRIC_DIFFERENE_UPDATE"
   ]
  },
  {
   "cell_type": "code",
   "execution_count": 125,
   "id": "c78bb89d-f492-4596-86eb-10dd76706fb9",
   "metadata": {},
   "outputs": [
    {
     "name": "stdout",
     "output_type": "stream",
     "text": [
      "{1, 2, 5, 6}\n"
     ]
    }
   ],
   "source": [
    "a = {1, 2, 3, 4, 7}\n",
    "b = {3, 4, 5, 6, 7}\n",
    "a.symmetric_difference_update(b)\n",
    "print(a)"
   ]
  },
  {
   "cell_type": "markdown",
   "id": "9a56a027-b71c-4017-9447-30e28b42eda5",
   "metadata": {},
   "source": [
    "14) POP"
   ]
  },
  {
   "cell_type": "code",
   "execution_count": 130,
   "id": "fd987640-6166-4032-b858-b19136de5fbf",
   "metadata": {},
   "outputs": [
    {
     "name": "stdout",
     "output_type": "stream",
     "text": [
      "{'art', 'roleplay', 'writing', 'dance', 'music'}\n"
     ]
    }
   ],
   "source": [
    "x={\"music\", \"dance\",\"art\",\"roleplay\",\"writing\",\"acting\"}\n",
    "x.pop()\n",
    "print(x)"
   ]
  },
  {
   "cell_type": "markdown",
   "id": "a7ab0fdc-d51d-48d6-ac38-3d1fd7880d04",
   "metadata": {},
   "source": [
    "15) isdisjoint"
   ]
  },
  {
   "cell_type": "code",
   "execution_count": null,
   "id": "b48b9cb5-55b4-48b2-b890-5b811c73368f",
   "metadata": {},
   "outputs": [],
   "source": []
  }
 ],
 "metadata": {
  "kernelspec": {
   "display_name": "Python 3 (ipykernel)",
   "language": "python",
   "name": "python3"
  },
  "language_info": {
   "codemirror_mode": {
    "name": "ipython",
    "version": 3
   },
   "file_extension": ".py",
   "mimetype": "text/x-python",
   "name": "python",
   "nbconvert_exporter": "python",
   "pygments_lexer": "ipython3",
   "version": "3.12.4"
  }
 },
 "nbformat": 4,
 "nbformat_minor": 5
}
