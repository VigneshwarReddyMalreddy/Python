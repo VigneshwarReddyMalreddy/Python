{
 "cells": [
  {
   "cell_type": "markdown",
   "id": "86c054a0-61d3-4b52-91a3-a52167d4f31d",
   "metadata": {},
   "source": [
    "OBJECT ORIENTED PROGRAMMING"
   ]
  },
  {
   "cell_type": "markdown",
   "id": "77c8dfd4-dd57-4870-aadc-d62a7e1203a6",
   "metadata": {},
   "source": [
    "Class\n",
    "\n",
    "- Class is a blue print for creating a objects\n",
    "- The \"class\" keyword is used to create a class\n",
    "\n",
    "\n",
    "Object\n",
    "\n",
    "- The object is the base class in python\n",
    "- Object is a real world entity in python"
   ]
  },
  {
   "cell_type": "code",
   "execution_count": 4,
   "id": "5b542ed0-4c4d-45d6-95e4-6d370652057d",
   "metadata": {},
   "outputs": [],
   "source": [
    "class Students:\n",
    "    def __init__(self,name,age):\n",
    "        self.name=name\n",
    "        self.age=age\n",
    "\n",
    "    def set_total(self,total):\n",
    "        self.total=total"
   ]
  },
  {
   "cell_type": "code",
   "execution_count": 8,
   "id": "6634d36e-8ccc-4b1f-95e4-441a2ab4e9fe",
   "metadata": {},
   "outputs": [
    {
     "name": "stdout",
     "output_type": "stream",
     "text": [
      "I am vignesh and I am 21 years old!!\n",
      "Total 109 students in a school\n"
     ]
    }
   ],
   "source": [
    "student= Students(\"vignesh\",21)\n",
    "print(f\"I am {student.name} and I am {student.age} years old!!\")\n",
    "\n",
    "#set_total mentod is used to define the total\n",
    "student.set_total(109)\n",
    "print(f\"Total {student.total} students in a school\")"
   ]
  },
  {
   "cell_type": "code",
   "execution_count": 10,
   "id": "e878a6dd-57a6-4f82-ba01-4759a1d64822",
   "metadata": {},
   "outputs": [],
   "source": [
    "class Healthcare:\n",
    "    def __init__(self,doctors,wards):\n",
    "        self.doctors=doctors\n",
    "        self.wards=wards\n",
    "\n",
    "    def hospital(self,num_of_patients):\n",
    "        self.num_of_patients=num_of_patients"
   ]
  },
  {
   "cell_type": "code",
   "execution_count": 12,
   "id": "f6578f37-e3b1-48df-b710-81d8ee779170",
   "metadata": {},
   "outputs": [
    {
     "name": "stdout",
     "output_type": "stream",
     "text": [
      "There are 40 and 25\n",
      "There are 95 patients in a hospital\n"
     ]
    }
   ],
   "source": [
    "hos1=Healthcare(40,25)\n",
    "print(f\"There are {hos1.doctors} and {hos1.wards}\")\n",
    "hos1.hospital(95)\n",
    "print(f\"There are {hos1.num_of_patients} patients in a hospital\")"
   ]
  },
  {
   "cell_type": "code",
   "execution_count": 30,
   "id": "9edd52f3-d1f0-4c3f-a1dc-4fd9cb6b5a56",
   "metadata": {},
   "outputs": [],
   "source": [
    "class Automobile:\n",
    "    def __init__(self,vechiles,workers):\n",
    "        self.vechiles=vechiles\n",
    "        self.workers=workers\n",
    "    def mobiles(self,managers):\n",
    "        self.managers=managers\n",
    "    def __str__(self):\n",
    "        return f\"Total no of {self.vechiles} manufactured by the {self.workers} workers\""
   ]
  },
  {
   "cell_type": "code",
   "execution_count": 34,
   "id": "0739d625-08aa-4b35-b5a5-8eb97097844e",
   "metadata": {},
   "outputs": [
    {
     "name": "stdout",
     "output_type": "stream",
     "text": [
      "Total no of 100 manufactured by the 500 workers\n",
      "Total number of managers are 10\n"
     ]
    }
   ],
   "source": [
    "vel=Automobile(100,500)\n",
    "vel.mobiles(10)\n",
    "print(vel)\n",
    "print(f\"Total number of managers are {vel.managers}\")"
   ]
  },
  {
   "cell_type": "code",
   "execution_count": 40,
   "id": "18d8d84f-54cd-41b0-ba00-387898118231",
   "metadata": {},
   "outputs": [],
   "source": [
    "class Aerospace:\n",
    "    def __init__(self,projects,sucess):\n",
    "        self.projects= projects\n",
    "        self.sucess=sucess\n",
    "    def engineers(self,engg):\n",
    "        self.engg=engg\n",
    "    def __str__(self):\n",
    "        return f\"Total number of projects{self.projects} and sucess of projects are {self.sucess}\""
   ]
  },
  {
   "cell_type": "code",
   "execution_count": 42,
   "id": "5f33d2ae-375d-40b8-b01a-f476105eb49d",
   "metadata": {},
   "outputs": [
    {
     "name": "stdout",
     "output_type": "stream",
     "text": [
      "Total number of projects30 and sucess of projects are 10\n",
      "Total number of engineer worked for manufacturing the flights are 13\n"
     ]
    }
   ],
   "source": [
    "aero=Aerospace(30,10)\n",
    "aero.engineers(13)\n",
    "print(aero)\n",
    "print(f\"Total number of engineer worked for manufacturing the flights are {aero.engg}\")"
   ]
  },
  {
   "cell_type": "code",
   "execution_count": 44,
   "id": "2ed97917-d1ec-447c-9665-292101399d2d",
   "metadata": {},
   "outputs": [],
   "source": [
    "class Tourism:\n",
    "    def __init__(self,place,state):\n",
    "        self.place=place\n",
    "        self.state=state\n",
    "    def famous(self,places):\n",
    "        self.places=places"
   ]
  },
  {
   "cell_type": "code",
   "execution_count": 46,
   "id": "c4527c4f-6358-4ee1-addf-6e643689cf50",
   "metadata": {},
   "outputs": [
    {
     "name": "stdout",
     "output_type": "stream",
     "text": [
      "Tourist place is ramoji film city and it is located in telngana state. \n",
      "Famous place in ramoji flim city is film set\n"
     ]
    }
   ],
   "source": [
    "tour=Tourism(\"ramoji film city\",\"telngana\")\n",
    "print(f\"Tourist place is {tour.place} and it is located in {tour.state} state. \")\n",
    "tour.famous(\"film set\")\n",
    "print(f\"Famous place in ramoji flim city is {tour.places}\")"
   ]
  },
  {
   "cell_type": "code",
   "execution_count": 48,
   "id": "9ed2dbf3-c4fa-4107-bbf7-074833d9de78",
   "metadata": {},
   "outputs": [],
   "source": [
    "class Population:\n",
    "    def __init__(self,population,country):\n",
    "        self.population=population\n",
    "        self.country=country\n",
    "    def set_states(self,state):\n",
    "        self.state=state\n",
    "    def __str__(self):\n",
    "        return f\"Total population:{self.population} in {self.country}\""
   ]
  },
  {
   "cell_type": "code",
   "execution_count": 50,
   "id": "f266e3ad-19fd-49ab-9f74-0cf5700ead58",
   "metadata": {},
   "outputs": [
    {
     "name": "stdout",
     "output_type": "stream",
     "text": [
      "Total population:180000000 in india\n",
      "Total number of states in the country are 28\n"
     ]
    }
   ],
   "source": [
    "popu=Population(180000000,\"india\")\n",
    "popu.set_states(28)\n",
    "print(popu)\n",
    "print(f\"Total number of states in the country are {popu.state}\")"
   ]
  },
  {
   "cell_type": "code",
   "execution_count": 52,
   "id": "0d8e0f99-e45e-4308-b466-9f9db9ab86fd",
   "metadata": {},
   "outputs": [],
   "source": [
    "class world:\n",
    "    def __init__(self,continents,oceans):\n",
    "        self.continents=continents\n",
    "        self.oceans=oceans\n",
    "    def deserts(self,num):\n",
    "        self.num=num"
   ]
  },
  {
   "cell_type": "code",
   "execution_count": 54,
   "id": "34c63905-32df-4f2e-a431-682a75b44878",
   "metadata": {},
   "outputs": [
    {
     "name": "stdout",
     "output_type": "stream",
     "text": [
      "There are 7 continents and 5 oceans in earth.\n"
     ]
    }
   ],
   "source": [
    "wo=world(7,5)\n",
    "wo.deserts(10)\n",
    "print(f\"There are {wo.continents} continents and {wo.oceans} oceans in earth.\" )"
   ]
  },
  {
   "cell_type": "code",
   "execution_count": 56,
   "id": "93fb20b6-ab76-4999-802e-67af2b52fa0a",
   "metadata": {},
   "outputs": [
    {
     "name": "stdin",
     "output_type": "stream",
     "text": [
      "enter a value:  23\n",
      "enter b value:  69\n"
     ]
    },
    {
     "name": "stdout",
     "output_type": "stream",
     "text": [
      "before swapping: 23 69\n",
      "After Swapping: 69 23\n"
     ]
    }
   ],
   "source": [
    "class swap:\n",
    "    def __init__(self,a,b):\n",
    "        self.a=a\n",
    "        self.b=b\n",
    "        print(\"before swapping:\",a,b)\n",
    "        a,b=b,a\n",
    "        print(\"After Swapping:\",a,b)\n",
    "\n",
    "a=int(input(\"enter a value: \"))\n",
    "b=int(input(\"enter b value: \"))\n",
    "swaps=swap(a,b)"
   ]
  },
  {
   "cell_type": "markdown",
   "id": "f913f661-9f7c-4378-a85f-ffcc26334bac",
   "metadata": {},
   "source": [
    "INHERITANCE\n",
    "\n",
    "- Inheritance is a way of creating a new class for using details of an existing class without modifying it\n",
    "- The newly formed class is a derived class (clid class).similarly the existing class is a base class(parent "
   ]
  },
  {
   "cell_type": "code",
   "execution_count": 65,
   "id": "0c9d5b05-8922-4af2-8fea-f0c8e4cd5374",
   "metadata": {},
   "outputs": [],
   "source": [
    "class Animal:\n",
    "    def cat(self):\n",
    "        print(\"It has 4 Legs\")\n",
    "    def color(self):\n",
    "        print(\"White color\")\n",
    "class Dog(Animal):\n",
    "    def behavaiour(self):\n",
    "        print(\"Behavaiour lika a animal\")"
   ]
  },
  {
   "cell_type": "code",
   "execution_count": 67,
   "id": "727974d4-992c-4eed-89a6-ff1bd068cd12",
   "metadata": {},
   "outputs": [
    {
     "name": "stdout",
     "output_type": "stream",
     "text": [
      "Behavaiour lika a animal\n",
      "It has 4 Legs\n",
      "White color\n"
     ]
    }
   ],
   "source": [
    "a=Dog()\n",
    "a.behavaiour()\n",
    "a.cat()\n",
    "a.color()"
   ]
  },
  {
   "cell_type": "code",
   "execution_count": 69,
   "id": "d1ec47e5-aa22-4ead-a2fd-9fe0bd72e7f3",
   "metadata": {},
   "outputs": [],
   "source": [
    "class Animal:\n",
    "    def cat(self,name,age):\n",
    "        self.name=name\n",
    "        self.age=age\n",
    "        print(\"Name of animal:\",name)\n",
    "        print(\"Age of animal:\",age)\n",
    "    def color(self,color):\n",
    "        self.color=color\n",
    "        print(\"color of a animal:\",color)\n",
    "class Dog(Animal):\n",
    "    def behavaiour(self,eye_color):\n",
    "        self.eye_color=eye_color\n",
    "        print(\"Animal eyes color:\",eye_color)"
   ]
  },
  {
   "cell_type": "code",
   "execution_count": 71,
   "id": "261b340a-3a76-46d7-9bf5-44ac26c95164",
   "metadata": {},
   "outputs": [
    {
     "name": "stdin",
     "output_type": "stream",
     "text": [
      "Enter a name of animal: shinny\n",
      "Enter age of a animal: 4\n",
      "Enter a color of animal: white\n",
      "Enter animal eyes color: blue\n"
     ]
    },
    {
     "name": "stdout",
     "output_type": "stream",
     "text": [
      "Name of animal: shinny\n",
      "Age of animal: 4\n",
      "color of a animal: white\n",
      "Animal eyes color: blue\n"
     ]
    }
   ],
   "source": [
    "dog=Dog()\n",
    "name=input(\"Enter a name of animal:\")\n",
    "age=int(input(\"Enter age of a animal:\"))\n",
    "color=input(\"Enter a color of animal:\")\n",
    "eye=input(\"Enter animal eyes color:\")\n",
    "dog.cat(name,age)\n",
    "dog.color(color)\n",
    "dog.behavaiour(eye)"
   ]
  },
  {
   "cell_type": "code",
   "execution_count": 73,
   "id": "2b86290e-9800-47a0-95b2-7e746dcaddcb",
   "metadata": {},
   "outputs": [],
   "source": [
    "class vehicles:\n",
    "    def __init__(self,name,year):\n",
    "        self.name=name\n",
    "        self.year=year\n",
    "    def Ford(self):\n",
    "        print(self.name)\n",
    "        print(self.year)\n",
    "    def color(self,color):\n",
    "        self.color=color\n",
    "        print(self.color)\n",
    "class Ferrari(vehicles):\n",
    "    def __init__(self,name,year):\n",
    "        super().__init__(name,year)\n",
    "    def price(self,price):\n",
    "        self.price=price\n",
    "        print(self.price)"
   ]
  },
  {
   "cell_type": "code",
   "execution_count": 75,
   "id": "964168de-47ac-4d06-b033-99aa83cc3d3a",
   "metadata": {},
   "outputs": [
    {
     "name": "stdin",
     "output_type": "stream",
     "text": [
      "Enter the model of vehile:  Land Crusier\n",
      "Enter manufacture of the year: 2024\n",
      "Enter color of vehicle: white\n",
      "Enter price of vehicles: 20000000\n"
     ]
    },
    {
     "name": "stdout",
     "output_type": "stream",
     "text": [
      "Land Crusier\n",
      "2024\n",
      "white\n",
      "20000000\n"
     ]
    }
   ],
   "source": [
    "name=input(\"Enter the model of vehile: \")\n",
    "year=int(input(\"Enter manufacture of the year:\"))\n",
    "color=input(\"Enter color of vehicle:\")\n",
    "price=int(input(\"Enter price of vehicles:\"))\n",
    "car=Ferrari(name,year)\n",
    "car.Ford()\n",
    "car.color(color)\n",
    "car.price(price)"
   ]
  },
  {
   "cell_type": "markdown",
   "id": "adaf597c-1e2f-4182-9d03-d10a904d862b",
   "metadata": {},
   "source": [
    "ENCAPULSATION\n",
    "\n",
    "- It means binding data into single unit\n",
    "- It has two prototypes\n",
    "1) protected - it has one underscore(_),we can use this type in another class also\n",
    "2) private - it has double underscore(__), we cannt use this type in another class"
   ]
  },
  {
   "cell_type": "code",
   "execution_count": 87,
   "id": "f890d401-21e2-44ad-a3ce-dd31b34f1fbc",
   "metadata": {},
   "outputs": [],
   "source": [
    "class bank:\n",
    "    def __init__(self,acc,balance):\n",
    "        self._acc=acc\n",
    "        #private\n",
    "        self.__balance=balance\n",
    "        #private\n",
    "    def details(self):\n",
    "        print(f\"Bank account number: {self._acc}\")\n",
    "        print(f\"Bank balance amount: {self.__balance}\")"
   ]
  },
  {
   "cell_type": "code",
   "execution_count": 89,
   "id": "1e2b6577-1585-42aa-9752-ec36711efd4f",
   "metadata": {},
   "outputs": [],
   "source": [
    "b=bank(601218224,2000012)"
   ]
  },
  {
   "cell_type": "code",
   "execution_count": 91,
   "id": "a2673b14-49f1-4846-9de1-e1845e81925b",
   "metadata": {},
   "outputs": [
    {
     "name": "stdout",
     "output_type": "stream",
     "text": [
      "Bank account number: 601218224\n",
      "Bank balance amount: 2000012\n"
     ]
    }
   ],
   "source": [
    "b.details()"
   ]
  },
  {
   "cell_type": "code",
   "execution_count": 99,
   "id": "184de223-b76c-4538-8e6f-772985e2e821",
   "metadata": {},
   "outputs": [],
   "source": [
    "class Bank:\n",
    "    def __init__(self, acc, balance):\n",
    "        self._acc = acc  # protected\n",
    "        self.__balance = balance  # private\n",
    "\n",
    "    def details(self):\n",
    "        print(f'Bank account number: {self._acc}')\n",
    "        print(f'Bank balance amount: {self.__balance}')\n",
    "    \n",
    "    def get_balance(self):\n",
    "        return self.__balance\n",
    "\n",
    "class Bank1(Bank):\n",
    "    def get_info(self):\n",
    "        print(f'Bank account number: {self._acc}')\n",
    "        print(f'Bank balance amount: {self.get_balance()}')"
   ]
  },
  {
   "cell_type": "code",
   "execution_count": 107,
   "id": "2d319e06-bb46-4185-93bf-8131b9090269",
   "metadata": {},
   "outputs": [
    {
     "name": "stdout",
     "output_type": "stream",
     "text": [
      "Bank account number: 632857201\n",
      "Bank balance amount: 125000\n"
     ]
    }
   ],
   "source": [
    "bank_account = Bank1(\"632857201\", 125000)\n",
    "bank_account.get_info()"
   ]
  },
  {
   "cell_type": "code",
   "execution_count": 109,
   "id": "26f5b6e1-7541-45bf-917a-d1b0394003a7",
   "metadata": {},
   "outputs": [],
   "source": [
    "class account:\n",
    "    def __init__(self,acc,balance,loan,info,pin):\n",
    "        self._acc=acc  # account number in protect\n",
    "        self.__balance=balance  # private\n",
    "        self.__loan=loan # private\n",
    "        self.__info=info #\n",
    "        self.__pin=pin\n",
    "    def get_user_details(self):\n",
    "        print(f'Bank account number:{self._acc}')\n",
    "        print(f'Bank balance:{self.__balance}')\n",
    "        print(f'Loan status:{self.__loan}')\n",
    "        print(f'user information:{self.__info}')\n",
    "        print(f'password:{self.__pin}')\n",
    "    def manager(self):\n",
    "        print(f'Bank account number:{self._acc}')\n",
    "        print(f'Bank balance:{self.__balance}')\n",
    "        print(f'Loan status:{self.__loan}')\n",
    "        print(f'user information:{self.__info}')\n",
    "        \n",
    "class ac(account):\n",
    "    \n",
    "    def bank_clerk(self):\n",
    "        print(f'Bank account number:{self._acc}')\n",
    "        print(f'Bank balance:{self.__balance}')\n",
    "        print(f'Loan status:{self.__loan}')\n",
    "        print(f'user information:{self.__info}')\n",
    "        print(f'password:{self.__pin}')"
   ]
  },
  {
   "cell_type": "code",
   "execution_count": 111,
   "id": "3ea31ea9-7989-454a-9a1b-33081cb92e58",
   "metadata": {},
   "outputs": [
    {
     "name": "stdout",
     "output_type": "stream",
     "text": [
      "user details can see the user only\n",
      "Bank account number:682834655\n",
      "Bank balance:127000\n",
      "Loan status:no\n",
      "user information:1\n",
      "password:508266\n"
     ]
    }
   ],
   "source": [
    "a=account(682834655,127000,'no',1,508266)\n",
    "print(\"user details can see the user only\")\n",
    "a.get_user_details()"
   ]
  },
  {
   "cell_type": "markdown",
   "id": "e9d3d63f-ec70-44a5-996c-9b97dac35e79",
   "metadata": {},
   "source": [
    "POLYMORPHISM\n",
    "\n",
    "-It means it have many forms or methods"
   ]
  },
  {
   "cell_type": "code",
   "execution_count": 118,
   "id": "a154dbe2-ec3c-4bdd-9447-904a0a1461e2",
   "metadata": {},
   "outputs": [],
   "source": [
    "class measures:\n",
    "    def __init__(self,length,width,height,side,radius):\n",
    "        self.length=length\n",
    "        self.width=width\n",
    "        self.height=height\n",
    "        self.side=side\n",
    "        self.radius=radius\n",
    "    def area_rectangle(self):\n",
    "        print(\"Area of rectangle:\",self.length*self.width)\n",
    "    def area_square(self):\n",
    "        print(\"Area of squaree:\",self.side*self.side)\n",
    "class area1(measures):\n",
    "    def area_triangle(self):\n",
    "        print(\"Area of square:\",self.side*self.side)\n",
    "    def area_circle(self):\n",
    "        print(\"Area of circle:\",3.14*self.radius**2)\n",
    "class rules(area1):\n",
    "    def circle(self):\n",
    "        if self.radius>0:\n",
    "            print(\"area of circle:\",3.14*self.radius**2)\n",
    "        else:\n",
    "            print(\"Enter the number greater than zero\")"
   ]
  },
  {
   "cell_type": "code",
   "execution_count": 122,
   "id": "74c32dba-743f-4072-9b4b-87f4b9363c13",
   "metadata": {},
   "outputs": [
    {
     "name": "stdout",
     "output_type": "stream",
     "text": [
      "Area of rectangle: 13.5\n",
      "Area of squaree: 16\n",
      "Area of square: 16\n",
      "Area of circle: 78.5\n"
     ]
    }
   ],
   "source": [
    "m=measures(3,4.5,7,4,5)\n",
    "m.area_rectangle()\n",
    "m.area_square()\n",
    "m1=area1(3,4.5,7,4,5)\n",
    "m1.area_triangle()\n",
    "m1.area_circle()"
   ]
  },
  {
   "cell_type": "markdown",
   "id": "f5a95990-e571-4f94-9f9f-ab88131b3f40",
   "metadata": {},
   "source": [
    "ABSTRACTION\n",
    "\n",
    "- Abstraction means hiding the data shows only necessary data to user"
   ]
  },
  {
   "cell_type": "code",
   "execution_count": 125,
   "id": "c34c5953-85fd-43ff-aca7-bad38d031fc3",
   "metadata": {},
   "outputs": [],
   "source": [
    "class bank:\n",
    "    def acc(self):\n",
    "        pass\n",
    "    def credit(self):\n",
    "        pass\n",
    "class debit(bank):\n",
    "    def credit(self):\n",
    "        pass\n",
    "    def acc(self):\n",
    "        pass"
   ]
  },
  {
   "cell_type": "code",
   "execution_count": 127,
   "id": "e28489cc-8b38-485a-a134-08af4804ee1f",
   "metadata": {},
   "outputs": [],
   "source": [
    "m=debit()\n",
    "m.credit()\n",
    "m.acc()"
   ]
  },
  {
   "cell_type": "code",
   "execution_count": 133,
   "id": "cd6b74eb-6902-46ba-be76-601c1f36f700",
   "metadata": {},
   "outputs": [
    {
     "ename": "NameError",
     "evalue": "name 'abstarctmethod' is not defined",
     "output_type": "error",
     "traceback": [
      "\u001b[1;31m---------------------------------------------------------------------------\u001b[0m",
      "\u001b[1;31mNameError\u001b[0m                                 Traceback (most recent call last)",
      "Cell \u001b[1;32mIn[133], line 3\u001b[0m\n\u001b[0;32m      1\u001b[0m \u001b[38;5;28;01mfrom\u001b[39;00m \u001b[38;5;21;01mabc\u001b[39;00m \u001b[38;5;28;01mimport\u001b[39;00m ABC, abstractmethod\n\u001b[1;32m----> 3\u001b[0m \u001b[38;5;28;01mclass\u001b[39;00m \u001b[38;5;21;01mBank\u001b[39;00m(ABC):   \u001b[38;5;66;03m# Inherit from ABC to make this an abstract base class\u001b[39;00m\n\u001b[0;32m      4\u001b[0m     \u001b[38;5;129m@abstractmethod\u001b[39m\n\u001b[0;32m      5\u001b[0m     \u001b[38;5;28;01mdef\u001b[39;00m \u001b[38;5;21macc\u001b[39m(\u001b[38;5;28mself\u001b[39m):\n\u001b[0;32m      6\u001b[0m         \u001b[38;5;28;01mpass\u001b[39;00m\n",
      "Cell \u001b[1;32mIn[133], line 7\u001b[0m, in \u001b[0;36mBank\u001b[1;34m()\u001b[0m\n\u001b[0;32m      4\u001b[0m \u001b[38;5;129m@abstractmethod\u001b[39m\n\u001b[0;32m      5\u001b[0m \u001b[38;5;28;01mdef\u001b[39;00m \u001b[38;5;21macc\u001b[39m(\u001b[38;5;28mself\u001b[39m):\n\u001b[0;32m      6\u001b[0m     \u001b[38;5;28;01mpass\u001b[39;00m\n\u001b[1;32m----> 7\u001b[0m \u001b[38;5;129m@abstarctmethod\u001b[39m\n\u001b[0;32m      8\u001b[0m \u001b[38;5;28;01mdef\u001b[39;00m \u001b[38;5;21mcredit\u001b[39m(\u001b[38;5;28mself\u001b[39m):\n\u001b[0;32m      9\u001b[0m     \u001b[38;5;28;01mpass\u001b[39;00m\n",
      "\u001b[1;31mNameError\u001b[0m: name 'abstarctmethod' is not defined"
     ]
    }
   ],
   "source": [
    "from abc import ABC, abstractmethod\n",
    "\n",
    "class Bank(ABC):   # Inherit from ABC to make this an abstract base class\n",
    "    @abstractmethod\n",
    "    def acc(self):\n",
    "        pass\n",
    "    @abstarctmethod\n",
    "    def credit(self):\n",
    "        pass\n",
    "class Debit(Bank):  # Debit class must implement the abstract methods\n",
    "    def acc(self):\n",
    "        print(\"Account details in Debit\")\n",
    "    def credit(self):\n",
    "        print(\"Credit details in debit\")\n",
    "    def amount(self):\n",
    "        print(\"Amount in Debit\")"
   ]
  },
  {
   "cell_type": "code",
   "execution_count": null,
   "id": "ba926808-bf06-43ec-895a-2c0e294d3af7",
   "metadata": {},
   "outputs": [],
   "source": [
    "# Now, you can create an instance of Debit, and it will have to implement the abstract methods\n",
    "m = Debit()\n",
    "m.acc()       # Outputs \"Account details in Debit\n",
    "m.credit()    # Outputs \"Credit details in Debit"
   ]
  }
 ],
 "metadata": {
  "kernelspec": {
   "display_name": "Python 3 (ipykernel)",
   "language": "python",
   "name": "python3"
  },
  "language_info": {
   "codemirror_mode": {
    "name": "ipython",
    "version": 3
   },
   "file_extension": ".py",
   "mimetype": "text/x-python",
   "name": "python",
   "nbconvert_exporter": "python",
   "pygments_lexer": "ipython3",
   "version": "3.12.4"
  }
 },
 "nbformat": 4,
 "nbformat_minor": 5
}
