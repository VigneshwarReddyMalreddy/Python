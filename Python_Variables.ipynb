{
 "cells": [
  {
   "cell_type": "markdown",
   "id": "5ec2d144-d882-4d7b-b2a1-8f46c6f347a6",
   "metadata": {},
   "source": [
    "1)EXPLAIN ABOUT VARIABLES"
   ]
  },
  {
   "cell_type": "markdown",
   "id": "f0382946-2010-4323-b7de-07e0c7c8e0e8",
   "metadata": {},
   "source": [
    "A Variable in python is the name of a memory location that we used for storing data.\n",
    "Variable is a name which is used to refer Memory Allocation.\n",
    "Variable names can be a group of both the letters and digits But they have to begin with a letter or an underscores"
   ]
  },
  {
   "cell_type": "code",
   "execution_count": 20,
   "id": "706fb3e6-4cad-466e-97e8-32e8f9b38ee0",
   "metadata": {},
   "outputs": [
    {
     "name": "stdout",
     "output_type": "stream",
     "text": [
      "120\n",
      "60\n"
     ]
    }
   ],
   "source": [
    "#Examples for variables\n",
    "apple = 120\n",
    "banana = 60\n",
    "print(apple)\n",
    "print(banana)"
   ]
  },
  {
   "cell_type": "markdown",
   "id": "204a16d6-4271-4e9f-83ad-6013f29073ed",
   "metadata": {},
   "source": [
    "2)RULES OF VARIABLES"
   ]
  },
  {
   "cell_type": "markdown",
   "id": "28bd03e8-d894-421b-919c-0e19fd783615",
   "metadata": {},
   "source": [
    "    - A variable name must start with a letter or the undrscore character.\n",
    "    - A variable name cannot start with a number.\n",
    "    - A variable name can only contain alpha-numeric characters and underscore(A-z,0-9,_)\n",
    "    - Variable names are case-sensitive (age,Age and AGE are three differnt variables)\n",
    "    - A variable name cannot be any of the Python Keywords."
   ]
  },
  {
   "cell_type": "markdown",
   "id": "48e48748-c367-4108-9f30-a34ce46cc873",
   "metadata": {},
   "source": [
    "3)TYPES OF VARIABLES"
   ]
  },
  {
   "cell_type": "markdown",
   "id": "b88b905e-3574-45b8-8c08-3d17cf81d4ca",
   "metadata": {},
   "source": [
    "There are two types of variables\n",
    "1. Single Variables\n",
    "2. Multi Variables"
   ]
  },
  {
   "cell_type": "markdown",
   "id": "94ee872f-be70-4aaa-9f2e-cf3803ce7ed9",
   "metadata": {},
   "source": [
    "1. Single Variables:-\n",
    "\n",
    "    Single variable is as simple as assigning a value to a variable name using the equal sign ('=')"
   ]
  },
  {
   "cell_type": "code",
   "execution_count": 27,
   "id": "be73e6ef-9fcf-421c-87f6-06ac6d8fcdc5",
   "metadata": {},
   "outputs": [
    {
     "name": "stdout",
     "output_type": "stream",
     "text": [
      "120\n"
     ]
    }
   ],
   "source": [
    "#Example :-\n",
    "apple = 120\n",
    "print(apple)"
   ]
  },
  {
   "cell_type": "markdown",
   "id": "9d7832d7-b640-41e3-8096-24a8bf95683d",
   "metadata": {},
   "source": [
    "2.Multi Variables:-\n",
    "\n",
    "    Multi variables is as assigning values to multiple variables in a single statement.Python supporsts multiple assignment in several ways\n",
    "There are two types in multi varibles\n",
    "\n",
    "a.Multi Variables to Multi Values\n",
    "\n",
    "b.Multi Variables to Single Values"
   ]
  },
  {
   "cell_type": "markdown",
   "id": "975f8d74-af93-493a-a9ef-400f713938d3",
   "metadata": {},
   "source": [
    "\n",
    "a)Multi Variables to Multi Values:-\n",
    "\n",
    "    Assigining multiple variables to multi values to allow on the python variable."
   ]
  },
  {
   "cell_type": "code",
   "execution_count": 34,
   "id": "b21ff4e5-8baf-4521-8bf7-d1f307bbb12d",
   "metadata": {},
   "outputs": [
    {
     "name": "stdout",
     "output_type": "stream",
     "text": [
      "120\n",
      "60\n",
      "80\n"
     ]
    }
   ],
   "source": [
    "#Example Multi Variables to Multi Values\n",
    "apple,banana,cherry = 120,60,80\n",
    "print(apple)\n",
    "print(banana)\n",
    "print(cherry)"
   ]
  },
  {
   "cell_type": "markdown",
   "id": "76efad4d-782f-4c9d-8f90-cbcc9de13df1",
   "metadata": {},
   "source": [
    "\n",
    "b)Multi Variables to Single Values:-\n",
    "\n",
    "    Assigining multiple variables to Single values to allow on the python variable."
   ]
  },
  {
   "cell_type": "code",
   "execution_count": 37,
   "id": "884801b2-2903-415d-95bc-7ed4ff9844b6",
   "metadata": {},
   "outputs": [
    {
     "name": "stdout",
     "output_type": "stream",
     "text": [
      "90\n",
      "90\n",
      "90\n"
     ]
    }
   ],
   "source": [
    "#Example multiple variables to Single values\n",
    "apple=banana=cherry=90\n",
    "print(apple)\n",
    "print(banana)\n",
    "print(cherry)"
   ]
  },
  {
   "cell_type": "markdown",
   "id": "0c11bdde-4e9c-4794-9290-61081a9eeff5",
   "metadata": {},
   "source": [
    "4)Ten examples of each and every types multi to multi, multi to single."
   ]
  },
  {
   "cell_type": "code",
   "execution_count": 42,
   "id": "69505d54-2243-4742-a855-96bbd353927a",
   "metadata": {},
   "outputs": [],
   "source": [
    "#Example for single variables\n",
    "apple = 120\n",
    "banana = -80\n",
    "cherry = 90.8\n",
    "date = 18.005\n",
    "vignesh = 100\n",
    "dinesh = 0.0089\n",
    "akshith = 80.05\n",
    "rishith = 15+2j\n",
    "virat = 500\n",
    "rohith = -1800 "
   ]
  },
  {
   "cell_type": "code",
   "execution_count": 44,
   "id": "49a2a148-fc26-4a13-914e-3cf5d204689a",
   "metadata": {},
   "outputs": [
    {
     "name": "stdout",
     "output_type": "stream",
     "text": [
      "120\n",
      "<class 'int'>\n"
     ]
    }
   ],
   "source": [
    "print(apple)\n",
    "print(type(apple))"
   ]
  },
  {
   "cell_type": "code",
   "execution_count": 46,
   "id": "48a48cf8-730c-4629-a6e1-280b74c96eb2",
   "metadata": {},
   "outputs": [
    {
     "name": "stdout",
     "output_type": "stream",
     "text": [
      "-80\n",
      "<class 'int'>\n"
     ]
    }
   ],
   "source": [
    "print(banana)\n",
    "print(type(banana))"
   ]
  },
  {
   "cell_type": "code",
   "execution_count": 48,
   "id": "673c027e-f398-415e-a6a7-b841791e4482",
   "metadata": {},
   "outputs": [
    {
     "name": "stdout",
     "output_type": "stream",
     "text": [
      "90.8\n",
      "<class 'float'>\n"
     ]
    }
   ],
   "source": [
    "print(cherry)\n",
    "print(type(cherry))"
   ]
  },
  {
   "cell_type": "code",
   "execution_count": 50,
   "id": "539863c2-21e1-4834-8dbe-856fac944070",
   "metadata": {},
   "outputs": [
    {
     "name": "stdout",
     "output_type": "stream",
     "text": [
      "18.005\n",
      "<class 'float'>\n"
     ]
    }
   ],
   "source": [
    "print(date)\n",
    "print(type(date))"
   ]
  },
  {
   "cell_type": "code",
   "execution_count": 52,
   "id": "378e64bb-c889-4f4d-9a26-76e37000077b",
   "metadata": {},
   "outputs": [
    {
     "name": "stdout",
     "output_type": "stream",
     "text": [
      "100\n",
      "<class 'int'>\n"
     ]
    }
   ],
   "source": [
    "print(vignesh)\n",
    "print(type(vignesh))"
   ]
  },
  {
   "cell_type": "code",
   "execution_count": 54,
   "id": "dada9ee1-4dec-4d39-9e57-c31b806a8438",
   "metadata": {},
   "outputs": [
    {
     "name": "stdout",
     "output_type": "stream",
     "text": [
      "0.0089\n",
      "<class 'float'>\n"
     ]
    }
   ],
   "source": [
    "print(dinesh)\n",
    "print(type(dinesh))"
   ]
  },
  {
   "cell_type": "code",
   "execution_count": 56,
   "id": "bee4b62f-d29c-41cf-bcce-ea579c28dc1b",
   "metadata": {},
   "outputs": [
    {
     "name": "stdout",
     "output_type": "stream",
     "text": [
      "80.05\n",
      "<class 'float'>\n"
     ]
    }
   ],
   "source": [
    "print(akshith)\n",
    "print(type(akshith))"
   ]
  },
  {
   "cell_type": "code",
   "execution_count": 58,
   "id": "5f010262-3461-4e56-97be-246b6c9e19a7",
   "metadata": {},
   "outputs": [
    {
     "name": "stdout",
     "output_type": "stream",
     "text": [
      "(15+2j)\n",
      "<class 'complex'>\n"
     ]
    }
   ],
   "source": [
    "print(rishith)\n",
    "print(type(rishith))"
   ]
  },
  {
   "cell_type": "code",
   "execution_count": 62,
   "id": "f91dc33f-82da-4c7b-9989-104db403dd10",
   "metadata": {},
   "outputs": [
    {
     "name": "stdout",
     "output_type": "stream",
     "text": [
      "500\n",
      "<class 'int'>\n"
     ]
    }
   ],
   "source": [
    "print(virat)\n",
    "print(type(virat))"
   ]
  },
  {
   "cell_type": "code",
   "execution_count": 64,
   "id": "a97cf3b8-137a-43af-95bc-e9a4b8841b52",
   "metadata": {},
   "outputs": [
    {
     "name": "stdout",
     "output_type": "stream",
     "text": [
      "-1800\n",
      "<class 'int'>\n"
     ]
    }
   ],
   "source": [
    "print(rohith)\n",
    "print(type(rohith))"
   ]
  },
  {
   "cell_type": "code",
   "execution_count": 98,
   "id": "2df858b0-b68b-4c2e-9762-8a1236042635",
   "metadata": {},
   "outputs": [],
   "source": [
    "#Example for Multi Variables\n",
    "rohith_sharma=45\n",
    "ashish=jaiswal=64.0007\n",
    "gill=jaydev=jadhav=77+1j\n",
    "yuvraj=nithish=12\n",
    "rahul=samson=shami=-11.5"
   ]
  },
  {
   "cell_type": "code",
   "execution_count": 100,
   "id": "aba416a9-9732-4114-b159-f380c1009b05",
   "metadata": {},
   "outputs": [
    {
     "name": "stdout",
     "output_type": "stream",
     "text": [
      "45\n",
      "<class 'int'>\n"
     ]
    }
   ],
   "source": [
    "print(rohith_sharma)\n",
    "print(type(rohith_sharma))"
   ]
  },
  {
   "cell_type": "code",
   "execution_count": 102,
   "id": "ff256010-1e70-406f-b358-f7afcc6d8fd4",
   "metadata": {},
   "outputs": [
    {
     "name": "stdout",
     "output_type": "stream",
     "text": [
      "64.0007\n",
      "<class 'float'>\n"
     ]
    }
   ],
   "source": [
    "print(ashish)\n",
    "print(type(ashish))"
   ]
  },
  {
   "cell_type": "code",
   "execution_count": 104,
   "id": "e80d3c47-848e-4b93-90ce-c6472d99babe",
   "metadata": {},
   "outputs": [
    {
     "name": "stdout",
     "output_type": "stream",
     "text": [
      "64.0007\n",
      "<class 'float'>\n"
     ]
    }
   ],
   "source": [
    "print(jaiswal)\n",
    "print(type(jaiswal))"
   ]
  },
  {
   "cell_type": "code",
   "execution_count": 106,
   "id": "27ccc25f-079b-4275-aaf5-5ce13e5f1710",
   "metadata": {},
   "outputs": [
    {
     "name": "stdout",
     "output_type": "stream",
     "text": [
      "(77+1j)\n",
      "<class 'complex'>\n"
     ]
    }
   ],
   "source": [
    "print(gill)\n",
    "print(type(gill))"
   ]
  },
  {
   "cell_type": "code",
   "execution_count": 108,
   "id": "42cb5877-92ee-4147-94d4-ad51c2ee4299",
   "metadata": {},
   "outputs": [
    {
     "name": "stdout",
     "output_type": "stream",
     "text": [
      "(77+1j)\n",
      "<class 'complex'>\n"
     ]
    }
   ],
   "source": [
    "print(jaydev)\n",
    "print(type(jaydev))"
   ]
  },
  {
   "cell_type": "code",
   "execution_count": 110,
   "id": "cdaa697b-ecb9-419e-8f44-a0f5ca09befd",
   "metadata": {},
   "outputs": [
    {
     "name": "stdout",
     "output_type": "stream",
     "text": [
      "(77+1j)\n",
      "<class 'complex'>\n"
     ]
    }
   ],
   "source": [
    "print(jadhav)\n",
    "print(type(jadhav))"
   ]
  },
  {
   "cell_type": "code",
   "execution_count": 112,
   "id": "ac9e1e67-bc9d-4e19-acfb-3eac9d5a62b4",
   "metadata": {},
   "outputs": [
    {
     "name": "stdout",
     "output_type": "stream",
     "text": [
      "12\n",
      "<class 'int'>\n"
     ]
    }
   ],
   "source": [
    "print(yuvraj)\n",
    "print(type(yuvraj))"
   ]
  },
  {
   "cell_type": "code",
   "execution_count": 114,
   "id": "1c272f7d-b90f-411f-9047-9a18f66f0eac",
   "metadata": {},
   "outputs": [
    {
     "name": "stdout",
     "output_type": "stream",
     "text": [
      "12\n",
      "<class 'int'>\n"
     ]
    }
   ],
   "source": [
    "print(nithish)\n",
    "print(type(nithish))"
   ]
  },
  {
   "cell_type": "code",
   "execution_count": 116,
   "id": "72db2a33-bafa-48b8-b024-14571d832acf",
   "metadata": {},
   "outputs": [
    {
     "name": "stdout",
     "output_type": "stream",
     "text": [
      "-11.5\n",
      "<class 'float'>\n"
     ]
    }
   ],
   "source": [
    "print(rahul)\n",
    "print(type(rahul))"
   ]
  },
  {
   "cell_type": "code",
   "execution_count": 118,
   "id": "4f60b73a-d92c-4dbd-9070-4e9b699d26b3",
   "metadata": {},
   "outputs": [
    {
     "name": "stdout",
     "output_type": "stream",
     "text": [
      "-11.5\n",
      "<class 'float'>\n"
     ]
    }
   ],
   "source": [
    "print(samson)\n",
    "print(type(samson))"
   ]
  },
  {
   "cell_type": "code",
   "execution_count": 120,
   "id": "204b7581-fd6c-473b-b326-38fd8b0f0a22",
   "metadata": {},
   "outputs": [
    {
     "name": "stdout",
     "output_type": "stream",
     "text": [
      "-11.5\n",
      "<class 'float'>\n"
     ]
    }
   ],
   "source": [
    "print(shami)\n",
    "print(type(shami))"
   ]
  },
  {
   "cell_type": "code",
   "execution_count": null,
   "id": "a2824727-4348-4b1a-a6e8-7137d878e0b5",
   "metadata": {},
   "outputs": [],
   "source": []
  }
 ],
 "metadata": {
  "kernelspec": {
   "display_name": "Python 3 (ipykernel)",
   "language": "python",
   "name": "python3"
  },
  "language_info": {
   "codemirror_mode": {
    "name": "ipython",
    "version": 3
   },
   "file_extension": ".py",
   "mimetype": "text/x-python",
   "name": "python",
   "nbconvert_exporter": "python",
   "pygments_lexer": "ipython3",
   "version": "3.12.4"
  }
 },
 "nbformat": 4,
 "nbformat_minor": 5
}
