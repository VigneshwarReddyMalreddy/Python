{
 "cells": [
  {
   "cell_type": "markdown",
   "id": "a351a80d-7932-4a4d-aaa8-587cd9a76ba8",
   "metadata": {},
   "source": [
    "OPERATORS\n"
   ]
  },
  {
   "cell_type": "markdown",
   "id": "0945fcd0-f1c0-494f-b1f6-3dd291a7779f",
   "metadata": {},
   "source": [
    "1. Explain about Operators\n",
    "    - Operators are used to perform operations between variables in python by using special symbols\n",
    "    - Operators are divided into 7 types"
   ]
  },
  {
   "cell_type": "markdown",
   "id": "3628dc02-76b9-4711-9c68-92f5a9c7258b",
   "metadata": {},
   "source": [
    "Different Types of Operators are\n",
    "1. Arithmetic Operator\n",
    "2. Assignment Operator\n",
    "3. Comparision Operator\n",
    "4. Logical Operator\n",
    "5. Identity Operator\n",
    "6. Membership Operator\n",
    "7. Bitwise Operator"
   ]
  },
  {
   "cell_type": "markdown",
   "id": "9fe3f301-5ac9-468e-a14e-8cf01c797e4d",
   "metadata": {},
   "source": [
    "2. Define the types of operators in python"
   ]
  },
  {
   "cell_type": "markdown",
   "id": "0b0418ba-9360-4fc2-9eb5-35d663eccd02",
   "metadata": {},
   "source": [
    "1. Arithmetic Operator:-\n",
    "\n",
    "   - Arithmetic Operators are used to perform basic mathematical operations\n",
    "   - Arithmetic Operations are divided into 7 types\n",
    "   - They are addition(+),subration(-),multipication(*),division(/),Float division(//),exponational or power(**), Module or reminder(%)."
   ]
  },
  {
   "cell_type": "code",
   "execution_count": 41,
   "id": "324dc611-9fbf-42df-bcdb-b2bbebc3e31c",
   "metadata": {},
   "outputs": [
    {
     "name": "stdout",
     "output_type": "stream",
     "text": [
      "1) Addition =  200\n",
      "2) Subration =  40\n",
      "3) Multipication = 9600\n",
      "4) division = 1.5\n",
      "5) float division = 1\n",
      "6) Modulo = 40\n",
      "7) Exponational = 21602284620103069120020979392479113032665690102378545033576268021951029160219653020057600000000000000000000000000000000000000000000000000000000000000000000000000000000\n"
     ]
    }
   ],
   "source": [
    "#Example for Arithmetic Operators\n",
    "x = 120\n",
    "y = 80\n",
    "#Addition\n",
    "a = x+y\n",
    "print(\"1) Addition = \", a )\n",
    "\n",
    "#Subtraction\n",
    "b = x - y\n",
    "print(\"2) Subration = \", b)\n",
    "\n",
    "#multipication\n",
    "c = x * y\n",
    "print(\"3) Multipication =\" , c)\n",
    "\n",
    "#Division\n",
    "d = x / y\n",
    "print(\"4) division =\" , d)\n",
    "\n",
    "#float division\n",
    "e = x // y\n",
    "print(\"5) float division =\" , e)\n",
    "\n",
    "#Modulo\n",
    "g = x % y\n",
    "print(\"6) Modulo =\" , g )\n",
    "\n",
    "#Exponational or power\n",
    "f = x ** y\n",
    "print(\"7) Exponational =\" , f)\n"
   ]
  },
  {
   "cell_type": "markdown",
   "id": "8c0ae7bf-5f4d-402e-a58b-1d7922664b93",
   "metadata": {},
   "source": [
    "2. Comparision Operator:-\n",
    "\n",
    "    - Comparision operators are used to perform comapartion between values present in the variables\n",
    "    - Comparision Operators are divied into 6 Types\n",
    "    - They are equal(==),not equal(!=),greaterthan(>),lessthan(<),greterthan or equal to(>=),lessthan or equal to(<=) "
   ]
  },
  {
   "cell_type": "code",
   "execution_count": 61,
   "id": "a0ea390e-cd03-4a30-85c8-dc8f4dc7b63e",
   "metadata": {},
   "outputs": [
    {
     "name": "stdout",
     "output_type": "stream",
     "text": [
      "p = q is False\n",
      "p not equal is True\n",
      "p > q is True\n",
      "p < q is False\n",
      "p >= q is True\n",
      "p <= q is False\n"
     ]
    }
   ],
   "source": [
    "#Example for Comparision Operators\n",
    "p = 15\n",
    "q = 13\n",
    "\n",
    "#Equal\n",
    "p == q\n",
    "print(\"p = q is\",p == q)\n",
    "\n",
    "#Not Equal\n",
    "p != q\n",
    "print(\"p not equal is\", p != q)\n",
    "\n",
    "#GreaterThan\n",
    "p > q\n",
    "print(\"p > q is\", p > q)\n",
    "\n",
    "#LessThan\n",
    "p < q\n",
    "print(\"p < q is\", p < q)\n",
    "\n",
    "#GretherThan Equal\n",
    "p >= q\n",
    "print(\"p >= q is\",p >= q)\n",
    "\n",
    "#LessThan Equal\n",
    "p <= q\n",
    "print(\"p <= q is\", p <= q)"
   ]
  },
  {
   "cell_type": "markdown",
   "id": "6a387b33-2c6d-4b3a-944d-1353e734cac8",
   "metadata": {},
   "source": [
    "3. Assigment Operator:-\n",
    "\n",
    "    - Assignment Operators are combination of arthmetic Operators and Comapartion Operators\n",
    "    - Assignment Operators are divided into 7 Types\n",
    "    - They are equal(=),addition and equal(+=),subration and equal(-=),multipication and equal(*=),division and equal(/=),modulo and equal(%=),exponational equal(**=)"
   ]
  },
  {
   "cell_type": "code",
   "execution_count": 1,
   "id": "4a2a315d-9519-4024-8b28-a84f57e5def9",
   "metadata": {},
   "outputs": [
    {
     "name": "stdout",
     "output_type": "stream",
     "text": [
      "Addition 1855\n",
      "Subtraction 914\n",
      "Multipy 860074\n",
      "Divisor 914.0\n",
      "Floor division 0.0\n",
      "Remainder 0.0\n",
      "power 64\n"
     ]
    }
   ],
   "source": [
    "#Example for Assignment Operators\n",
    "a = 914\n",
    "b = 941\n",
    "\n",
    "a+=b\n",
    "print(\"Addition\",a)\n",
    "a-=b\n",
    "print(\"Subtraction\",a)\n",
    "a*=b\n",
    "print(\"Multipy\",a)\n",
    "a/=b\n",
    "print(\"Divisor\",a)\n",
    "a//=b\n",
    "print(\"Floor division\",a)\n",
    "a%=b\n",
    "print(\"Remainder\",a)\n",
    "c=2\n",
    "d=6\n",
    "c**=d\n",
    "print(\"power\",c)"
   ]
  },
  {
   "cell_type": "markdown",
   "id": "5a983815-df6c-4855-89fa-98df6d358fe4",
   "metadata": {},
   "source": [
    "4. Logical Operator:-\n",
    "\n",
    "    - Logical Operators are combination of two or more and perform logical operations\n",
    "    - The output will be in True or False\n",
    "    - Logical Operators are divided into 3 types\n",
    "    - AND = T And T = T, T And F = F\n",
    "    - OR = T or T = T, F or T = T , F or F = F\n",
    "    - NOT = it will quite opposite to and ,or operatorss."
   ]
  },
  {
   "cell_type": "code",
   "execution_count": 14,
   "id": "c03f2501-9007-4dd8-b37d-a5bfee78a7d6",
   "metadata": {},
   "outputs": [
    {
     "name": "stdout",
     "output_type": "stream",
     "text": [
      "True\n",
      "True\n",
      "False\n",
      "False\n",
      "False\n"
     ]
    }
   ],
   "source": [
    "#Example for Logical Operator\n",
    "a=385\n",
    "b=697\n",
    "c=54\n",
    "d=60\n",
    "print(a<b and c<d)\n",
    "print(a<b or c<d)\n",
    "print(a>b and c<d)\n",
    "print(a==b and c<d)\n",
    "print(a>b or c==d )"
   ]
  },
  {
   "cell_type": "markdown",
   "id": "9ad92721-a9f1-4218-b29b-8a99495f9796",
   "metadata": {},
   "source": [
    "5. Identity Operator:-\n",
    "\n",
    "   - Identity Operator are used to compare the objects, not if they are equal or not\n",
    "   - Identity Operator tell about wheather the value present in the variable\n",
    "   -  Identity Operators are divided in two types:- \"is\" ,\"is not\" "
   ]
  },
  {
   "cell_type": "code",
   "execution_count": 17,
   "id": "16eaf7e1-7f8b-400d-b36f-4beef139cbbe",
   "metadata": {},
   "outputs": [
    {
     "name": "stdout",
     "output_type": "stream",
     "text": [
      "False\n"
     ]
    }
   ],
   "source": [
    "a= 34\n",
    "b= 45\n",
    "print(a is b)"
   ]
  },
  {
   "cell_type": "code",
   "execution_count": 19,
   "id": "56751df1-db0b-494d-a3c2-b5a36f08da09",
   "metadata": {},
   "outputs": [
    {
     "name": "stdout",
     "output_type": "stream",
     "text": [
      "True\n"
     ]
    }
   ],
   "source": [
    "d= 4\n",
    "b= 4\n",
    "print(d is b)"
   ]
  },
  {
   "cell_type": "code",
   "execution_count": 21,
   "id": "69f70f7b-b563-40a3-bef5-9b025da783d1",
   "metadata": {},
   "outputs": [
    {
     "name": "stdout",
     "output_type": "stream",
     "text": [
      "True\n"
     ]
    }
   ],
   "source": [
    "a= 49.8\n",
    "b= 49\n",
    "print(a is not b)"
   ]
  },
  {
   "cell_type": "code",
   "execution_count": 23,
   "id": "6709c5f1-2139-4779-a9f5-53a64a19b4a9",
   "metadata": {},
   "outputs": [
    {
     "name": "stdout",
     "output_type": "stream",
     "text": [
      "False\n"
     ]
    }
   ],
   "source": [
    "f= 10\n",
    "r= -10\n",
    "print(r is f)"
   ]
  },
  {
   "cell_type": "code",
   "execution_count": 25,
   "id": "38cdf53b-dec0-447e-9e40-044d796a1600",
   "metadata": {},
   "outputs": [
    {
     "name": "stdout",
     "output_type": "stream",
     "text": [
      "True\n"
     ]
    }
   ],
   "source": [
    "x= 904\n",
    "y= 674\n",
    "print(x is   not y)"
   ]
  },
  {
   "cell_type": "markdown",
   "id": "999770d5-0418-4a6f-8237-1542c2d9d455",
   "metadata": {},
   "source": [
    "6. Membership Operator:-\n",
    "\n",
    "   - Membership Operator are used to check wheather operand is found in a sequence or not\n",
    "   - Membership Operator two operands they are:- \"in\",\"not in\""
   ]
  },
  {
   "cell_type": "code",
   "execution_count": 38,
   "id": "3282ded5-c94f-4458-88ae-e4347d888f45",
   "metadata": {},
   "outputs": [
    {
     "name": "stdout",
     "output_type": "stream",
     "text": [
      "True\n"
     ]
    }
   ],
   "source": [
    "x = \"windows \"\n",
    "print('s' in x)"
   ]
  },
  {
   "cell_type": "code",
   "execution_count": 40,
   "id": "3e6ff88e-a0e2-4115-bc53-a94d4eb8aa92",
   "metadata": {},
   "outputs": [
    {
     "name": "stdout",
     "output_type": "stream",
     "text": [
      "True\n"
     ]
    }
   ],
   "source": [
    "print(' ' in x)"
   ]
  },
  {
   "cell_type": "code",
   "execution_count": 42,
   "id": "8ac1e389-1f05-4a4d-9500-824fb80029ff",
   "metadata": {},
   "outputs": [
    {
     "name": "stdout",
     "output_type": "stream",
     "text": [
      "False\n",
      "True\n",
      "True\n",
      "False\n"
     ]
    }
   ],
   "source": [
    "a=[23,43,99,73,46,88,199,908]\n",
    "print(33 in a)\n",
    "print(43 in a)\n",
    "print(908 in a)\n",
    "print(44 in a )"
   ]
  },
  {
   "cell_type": "markdown",
   "id": "7e002aa3-0d4a-4465-b2dd-26b75b1dd1fc",
   "metadata": {},
   "source": [
    "7. Bitwise Operator:-\n",
    "\n",
    "    - Bitwise Operator s a character that performs bitwise calculations on integers by converting them to binary and then operating on each bit\n",
    "    - "
   ]
  },
  {
   "cell_type": "code",
   "execution_count": null,
   "id": "232aae9f-0d64-413b-9180-a8f1e070566f",
   "metadata": {},
   "outputs": [],
   "source": []
  }
 ],
 "metadata": {
  "kernelspec": {
   "display_name": "Python 3 (ipykernel)",
   "language": "python",
   "name": "python3"
  },
  "language_info": {
   "codemirror_mode": {
    "name": "ipython",
    "version": 3
   },
   "file_extension": ".py",
   "mimetype": "text/x-python",
   "name": "python",
   "nbconvert_exporter": "python",
   "pygments_lexer": "ipython3",
   "version": "3.12.4"
  }
 },
 "nbformat": 4,
 "nbformat_minor": 5
}
